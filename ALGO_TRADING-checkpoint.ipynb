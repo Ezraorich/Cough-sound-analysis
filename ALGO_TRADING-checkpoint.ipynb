{
 "cells": [
  {
   "cell_type": "code",
   "execution_count": 1,
   "metadata": {},
   "outputs": [],
   "source": [
    "import pandas as pd\n",
    "import numpy as np\n",
    "import matplotlib.pyplot as plt\n",
    "import math\n",
    "from sklearn import preprocessing\n",
    "import datetime"
   ]
  },
  {
   "cell_type": "code",
   "execution_count": 2,
   "metadata": {},
   "outputs": [],
   "source": [
    "BHP = pd.read_csv('C:/Users/Asus/Documents/SALTANAT/fds/Homework01_algo_trading/Data/BHP.csv')  "
   ]
  },
  {
   "cell_type": "code",
   "execution_count": 3,
   "metadata": {},
   "outputs": [
    {
     "data": {
      "text/html": [
       "<div>\n",
       "<style scoped>\n",
       "    .dataframe tbody tr th:only-of-type {\n",
       "        vertical-align: middle;\n",
       "    }\n",
       "\n",
       "    .dataframe tbody tr th {\n",
       "        vertical-align: top;\n",
       "    }\n",
       "\n",
       "    .dataframe thead th {\n",
       "        text-align: right;\n",
       "    }\n",
       "</style>\n",
       "<table border=\"1\" class=\"dataframe\">\n",
       "  <thead>\n",
       "    <tr style=\"text-align: right;\">\n",
       "      <th></th>\n",
       "      <th>Date</th>\n",
       "      <th>Open</th>\n",
       "      <th>High</th>\n",
       "      <th>Low</th>\n",
       "      <th>Close</th>\n",
       "      <th>Adj Close</th>\n",
       "      <th>Volume</th>\n",
       "    </tr>\n",
       "  </thead>\n",
       "  <tbody>\n",
       "    <tr>\n",
       "      <th>0</th>\n",
       "      <td>2020-01-02</td>\n",
       "      <td>55.220001</td>\n",
       "      <td>55.270000</td>\n",
       "      <td>54.779999</td>\n",
       "      <td>54.919998</td>\n",
       "      <td>52.319366</td>\n",
       "      <td>1233000</td>\n",
       "    </tr>\n",
       "    <tr>\n",
       "      <th>1</th>\n",
       "      <td>2020-01-03</td>\n",
       "      <td>54.240002</td>\n",
       "      <td>54.830002</td>\n",
       "      <td>54.200001</td>\n",
       "      <td>54.549999</td>\n",
       "      <td>51.966888</td>\n",
       "      <td>1078000</td>\n",
       "    </tr>\n",
       "    <tr>\n",
       "      <th>2</th>\n",
       "      <td>2020-01-06</td>\n",
       "      <td>54.389999</td>\n",
       "      <td>54.599998</td>\n",
       "      <td>54.369999</td>\n",
       "      <td>54.490002</td>\n",
       "      <td>51.909733</td>\n",
       "      <td>688300</td>\n",
       "    </tr>\n",
       "    <tr>\n",
       "      <th>3</th>\n",
       "      <td>2020-01-07</td>\n",
       "      <td>54.299999</td>\n",
       "      <td>54.700001</td>\n",
       "      <td>54.290001</td>\n",
       "      <td>54.490002</td>\n",
       "      <td>51.909733</td>\n",
       "      <td>904900</td>\n",
       "    </tr>\n",
       "    <tr>\n",
       "      <th>4</th>\n",
       "      <td>2020-01-08</td>\n",
       "      <td>54.700001</td>\n",
       "      <td>55.000000</td>\n",
       "      <td>54.599998</td>\n",
       "      <td>54.759998</td>\n",
       "      <td>52.166946</td>\n",
       "      <td>1175600</td>\n",
       "    </tr>\n",
       "    <tr>\n",
       "      <th>...</th>\n",
       "      <td>...</td>\n",
       "      <td>...</td>\n",
       "      <td>...</td>\n",
       "      <td>...</td>\n",
       "      <td>...</td>\n",
       "      <td>...</td>\n",
       "      <td>...</td>\n",
       "    </tr>\n",
       "    <tr>\n",
       "      <th>278</th>\n",
       "      <td>2021-02-09</td>\n",
       "      <td>69.180000</td>\n",
       "      <td>69.919998</td>\n",
       "      <td>68.610001</td>\n",
       "      <td>69.680000</td>\n",
       "      <td>69.680000</td>\n",
       "      <td>2821500</td>\n",
       "    </tr>\n",
       "    <tr>\n",
       "      <th>279</th>\n",
       "      <td>2021-02-10</td>\n",
       "      <td>70.669998</td>\n",
       "      <td>70.790001</td>\n",
       "      <td>69.019997</td>\n",
       "      <td>69.809998</td>\n",
       "      <td>69.809998</td>\n",
       "      <td>2391600</td>\n",
       "    </tr>\n",
       "    <tr>\n",
       "      <th>280</th>\n",
       "      <td>2021-02-11</td>\n",
       "      <td>69.709999</td>\n",
       "      <td>70.050003</td>\n",
       "      <td>69.089996</td>\n",
       "      <td>69.720001</td>\n",
       "      <td>69.720001</td>\n",
       "      <td>2565700</td>\n",
       "    </tr>\n",
       "    <tr>\n",
       "      <th>281</th>\n",
       "      <td>2021-02-12</td>\n",
       "      <td>69.370003</td>\n",
       "      <td>70.599998</td>\n",
       "      <td>69.230003</td>\n",
       "      <td>70.379997</td>\n",
       "      <td>70.379997</td>\n",
       "      <td>1734400</td>\n",
       "    </tr>\n",
       "    <tr>\n",
       "      <th>282</th>\n",
       "      <td>2021-02-16</td>\n",
       "      <td>74.199997</td>\n",
       "      <td>76.199997</td>\n",
       "      <td>73.870003</td>\n",
       "      <td>75.480003</td>\n",
       "      <td>75.480003</td>\n",
       "      <td>4183500</td>\n",
       "    </tr>\n",
       "  </tbody>\n",
       "</table>\n",
       "<p>283 rows × 7 columns</p>\n",
       "</div>"
      ],
      "text/plain": [
       "           Date       Open       High        Low      Close  Adj Close  \\\n",
       "0    2020-01-02  55.220001  55.270000  54.779999  54.919998  52.319366   \n",
       "1    2020-01-03  54.240002  54.830002  54.200001  54.549999  51.966888   \n",
       "2    2020-01-06  54.389999  54.599998  54.369999  54.490002  51.909733   \n",
       "3    2020-01-07  54.299999  54.700001  54.290001  54.490002  51.909733   \n",
       "4    2020-01-08  54.700001  55.000000  54.599998  54.759998  52.166946   \n",
       "..          ...        ...        ...        ...        ...        ...   \n",
       "278  2021-02-09  69.180000  69.919998  68.610001  69.680000  69.680000   \n",
       "279  2021-02-10  70.669998  70.790001  69.019997  69.809998  69.809998   \n",
       "280  2021-02-11  69.709999  70.050003  69.089996  69.720001  69.720001   \n",
       "281  2021-02-12  69.370003  70.599998  69.230003  70.379997  70.379997   \n",
       "282  2021-02-16  74.199997  76.199997  73.870003  75.480003  75.480003   \n",
       "\n",
       "      Volume  \n",
       "0    1233000  \n",
       "1    1078000  \n",
       "2     688300  \n",
       "3     904900  \n",
       "4    1175600  \n",
       "..       ...  \n",
       "278  2821500  \n",
       "279  2391600  \n",
       "280  2565700  \n",
       "281  1734400  \n",
       "282  4183500  \n",
       "\n",
       "[283 rows x 7 columns]"
      ]
     },
     "execution_count": 3,
     "metadata": {},
     "output_type": "execute_result"
    }
   ],
   "source": [
    "BHP"
   ]
  },
  {
   "cell_type": "code",
   "execution_count": 4,
   "metadata": {},
   "outputs": [],
   "source": [
    "close_px = BHP['Adj Close']\n",
    "mavg = close_px.rolling(window=10).mean()"
   ]
  },
  {
   "cell_type": "code",
   "execution_count": null,
   "metadata": {},
   "outputs": [],
   "source": []
  },
  {
   "cell_type": "code",
   "execution_count": 5,
   "metadata": {},
   "outputs": [
    {
     "data": {
      "text/plain": [
       "0         NaN\n",
       "1         NaN\n",
       "2         NaN\n",
       "3         NaN\n",
       "4         NaN\n",
       "        ...  \n",
       "278    68.184\n",
       "279    68.251\n",
       "280    68.292\n",
       "281    68.652\n",
       "282    69.366\n",
       "Name: Adj Close, Length: 283, dtype: float64"
      ]
     },
     "execution_count": 5,
     "metadata": {},
     "output_type": "execute_result"
    }
   ],
   "source": [
    "mavg"
   ]
  },
  {
   "cell_type": "code",
   "execution_count": 6,
   "metadata": {},
   "outputs": [
    {
     "data": {
      "text/plain": [
       "<matplotlib.legend.Legend at 0x17591fcd1f0>"
      ]
     },
     "execution_count": 6,
     "metadata": {},
     "output_type": "execute_result"
    },
    {
     "data": {
      "image/png": "[encoded data removed]",
      "text/plain": [
       "<Figure size 576x504 with 1 Axes>"
      ]
     },
     "metadata": {},
     "output_type": "display_data"
    }
   ],
   "source": [
    "%matplotlib inline\n",
    "import matplotlib.pyplot as plt\n",
    "from matplotlib import style\n",
    "\n",
    "# Adjusting the size of matplotlib\n",
    "import matplotlib as mpl\n",
    "mpl.rc('figure', figsize=(8, 7))\n",
    "mpl.__version__\n",
    "\n",
    "# Adjusting the style of matplotlib\n",
    "style.use('ggplot')\n",
    "\n",
    "close_px.plot(label='AAPL')\n",
    "mavg.plot(label='mavg')\n",
    "plt.legend()"
   ]
  },
  {
   "cell_type": "code",
   "execution_count": 7,
   "metadata": {},
   "outputs": [
    {
     "data": {
      "text/plain": [
       "<matplotlib.axes._subplots.AxesSubplot at 0x17592762460>"
      ]
     },
     "execution_count": 7,
     "metadata": {},
     "output_type": "execute_result"
    },
    {
     "data": {
      "image/png": "[encoded data removed]",
      "text/plain": [
       "<Figure size 576x504 with 1 Axes>"
      ]
     },
     "metadata": {},
     "output_type": "display_data"
    }
   ],
   "source": [
    "rets = close_px / close_px.shift(1) - 1\n",
    "rets.plot(label='return')"
   ]
  },
  {
   "cell_type": "code",
   "execution_count": 8,
   "metadata": {},
   "outputs": [],
   "source": [
    "XOM = pd.read_csv('C:/Users/Asus/Documents/SALTANAT/fds/Homework01_algo_trading/Data/XOM.csv')  "
   ]
  },
  {
   "cell_type": "code",
   "execution_count": 9,
   "metadata": {},
   "outputs": [],
   "source": [
    "BHP = pd.read_csv('C:/Users/Asus/Documents/SALTANAT/fds/Homework01_algo_trading/Data/BHP.csv')  "
   ]
  },
  {
   "cell_type": "code",
   "execution_count": 10,
   "metadata": {},
   "outputs": [
    {
     "data": {
      "text/html": [
       "<div>\n",
       "<style scoped>\n",
       "    .dataframe tbody tr th:only-of-type {\n",
       "        vertical-align: middle;\n",
       "    }\n",
       "\n",
       "    .dataframe tbody tr th {\n",
       "        vertical-align: top;\n",
       "    }\n",
       "\n",
       "    .dataframe thead th {\n",
       "        text-align: right;\n",
       "    }\n",
       "</style>\n",
       "<table border=\"1\" class=\"dataframe\">\n",
       "  <thead>\n",
       "    <tr style=\"text-align: right;\">\n",
       "      <th></th>\n",
       "      <th>Date</th>\n",
       "      <th>Open</th>\n",
       "      <th>High</th>\n",
       "      <th>Low</th>\n",
       "      <th>Close</th>\n",
       "      <th>Adj Close</th>\n",
       "      <th>Volume</th>\n",
       "    </tr>\n",
       "  </thead>\n",
       "  <tbody>\n",
       "    <tr>\n",
       "      <th>0</th>\n",
       "      <td>2020-01-02</td>\n",
       "      <td>55.220001</td>\n",
       "      <td>55.270000</td>\n",
       "      <td>54.779999</td>\n",
       "      <td>54.919998</td>\n",
       "      <td>52.319366</td>\n",
       "      <td>1233000</td>\n",
       "    </tr>\n",
       "    <tr>\n",
       "      <th>1</th>\n",
       "      <td>2020-01-03</td>\n",
       "      <td>54.240002</td>\n",
       "      <td>54.830002</td>\n",
       "      <td>54.200001</td>\n",
       "      <td>54.549999</td>\n",
       "      <td>51.966888</td>\n",
       "      <td>1078000</td>\n",
       "    </tr>\n",
       "    <tr>\n",
       "      <th>2</th>\n",
       "      <td>2020-01-06</td>\n",
       "      <td>54.389999</td>\n",
       "      <td>54.599998</td>\n",
       "      <td>54.369999</td>\n",
       "      <td>54.490002</td>\n",
       "      <td>51.909733</td>\n",
       "      <td>688300</td>\n",
       "    </tr>\n",
       "    <tr>\n",
       "      <th>3</th>\n",
       "      <td>2020-01-07</td>\n",
       "      <td>54.299999</td>\n",
       "      <td>54.700001</td>\n",
       "      <td>54.290001</td>\n",
       "      <td>54.490002</td>\n",
       "      <td>51.909733</td>\n",
       "      <td>904900</td>\n",
       "    </tr>\n",
       "    <tr>\n",
       "      <th>4</th>\n",
       "      <td>2020-01-08</td>\n",
       "      <td>54.700001</td>\n",
       "      <td>55.000000</td>\n",
       "      <td>54.599998</td>\n",
       "      <td>54.759998</td>\n",
       "      <td>52.166946</td>\n",
       "      <td>1175600</td>\n",
       "    </tr>\n",
       "    <tr>\n",
       "      <th>...</th>\n",
       "      <td>...</td>\n",
       "      <td>...</td>\n",
       "      <td>...</td>\n",
       "      <td>...</td>\n",
       "      <td>...</td>\n",
       "      <td>...</td>\n",
       "      <td>...</td>\n",
       "    </tr>\n",
       "    <tr>\n",
       "      <th>278</th>\n",
       "      <td>2021-02-09</td>\n",
       "      <td>69.180000</td>\n",
       "      <td>69.919998</td>\n",
       "      <td>68.610001</td>\n",
       "      <td>69.680000</td>\n",
       "      <td>69.680000</td>\n",
       "      <td>2821500</td>\n",
       "    </tr>\n",
       "    <tr>\n",
       "      <th>279</th>\n",
       "      <td>2021-02-10</td>\n",
       "      <td>70.669998</td>\n",
       "      <td>70.790001</td>\n",
       "      <td>69.019997</td>\n",
       "      <td>69.809998</td>\n",
       "      <td>69.809998</td>\n",
       "      <td>2391600</td>\n",
       "    </tr>\n",
       "    <tr>\n",
       "      <th>280</th>\n",
       "      <td>2021-02-11</td>\n",
       "      <td>69.709999</td>\n",
       "      <td>70.050003</td>\n",
       "      <td>69.089996</td>\n",
       "      <td>69.720001</td>\n",
       "      <td>69.720001</td>\n",
       "      <td>2565700</td>\n",
       "    </tr>\n",
       "    <tr>\n",
       "      <th>281</th>\n",
       "      <td>2021-02-12</td>\n",
       "      <td>69.370003</td>\n",
       "      <td>70.599998</td>\n",
       "      <td>69.230003</td>\n",
       "      <td>70.379997</td>\n",
       "      <td>70.379997</td>\n",
       "      <td>1734400</td>\n",
       "    </tr>\n",
       "    <tr>\n",
       "      <th>282</th>\n",
       "      <td>2021-02-16</td>\n",
       "      <td>74.199997</td>\n",
       "      <td>76.199997</td>\n",
       "      <td>73.870003</td>\n",
       "      <td>75.480003</td>\n",
       "      <td>75.480003</td>\n",
       "      <td>4183500</td>\n",
       "    </tr>\n",
       "  </tbody>\n",
       "</table>\n",
       "<p>283 rows × 7 columns</p>\n",
       "</div>"
      ],
      "text/plain": [
       "           Date       Open       High        Low      Close  Adj Close  \\\n",
       "0    2020-01-02  55.220001  55.270000  54.779999  54.919998  52.319366   \n",
       "1    2020-01-03  54.240002  54.830002  54.200001  54.549999  51.966888   \n",
       "2    2020-01-06  54.389999  54.599998  54.369999  54.490002  51.909733   \n",
       "3    2020-01-07  54.299999  54.700001  54.290001  54.490002  51.909733   \n",
       "4    2020-01-08  54.700001  55.000000  54.599998  54.759998  52.166946   \n",
       "..          ...        ...        ...        ...        ...        ...   \n",
       "278  2021-02-09  69.180000  69.919998  68.610001  69.680000  69.680000   \n",
       "279  2021-02-10  70.669998  70.790001  69.019997  69.809998  69.809998   \n",
       "280  2021-02-11  69.709999  70.050003  69.089996  69.720001  69.720001   \n",
       "281  2021-02-12  69.370003  70.599998  69.230003  70.379997  70.379997   \n",
       "282  2021-02-16  74.199997  76.199997  73.870003  75.480003  75.480003   \n",
       "\n",
       "      Volume  \n",
       "0    1233000  \n",
       "1    1078000  \n",
       "2     688300  \n",
       "3     904900  \n",
       "4    1175600  \n",
       "..       ...  \n",
       "278  2821500  \n",
       "279  2391600  \n",
       "280  2565700  \n",
       "281  1734400  \n",
       "282  4183500  \n",
       "\n",
       "[283 rows x 7 columns]"
      ]
     },
     "execution_count": 10,
     "metadata": {},
     "output_type": "execute_result"
    }
   ],
   "source": [
    "BHP"
   ]
  },
  {
   "cell_type": "code",
   "execution_count": 11,
   "metadata": {},
   "outputs": [],
   "source": [
    "BHPreg = BHP.loc[:,['Adj Close','Volume']]\n",
    "BHPreg['HL_PCT'] = (BHP['High']-BHP['Low']) /BHP['Close'] * 100.0\n",
    "BHPreg['PCT_change'] = (BHP['Close'] -BHP['Open']) / BHP['Open'] * 100.0"
   ]
  },
  {
   "cell_type": "code",
   "execution_count": 12,
   "metadata": {},
   "outputs": [
    {
     "data": {
      "text/plain": [
       "0"
      ]
     },
     "execution_count": 12,
     "metadata": {},
     "output_type": "execute_result"
    }
   ],
   "source": [
    "BHP.isna().sum().sum()"
   ]
  },
  {
   "cell_type": "code",
   "execution_count": 13,
   "metadata": {},
   "outputs": [
    {
     "data": {
      "text/html": [
       "<div>\n",
       "<style scoped>\n",
       "    .dataframe tbody tr th:only-of-type {\n",
       "        vertical-align: middle;\n",
       "    }\n",
       "\n",
       "    .dataframe tbody tr th {\n",
       "        vertical-align: top;\n",
       "    }\n",
       "\n",
       "    .dataframe thead th {\n",
       "        text-align: right;\n",
       "    }\n",
       "</style>\n",
       "<table border=\"1\" class=\"dataframe\">\n",
       "  <thead>\n",
       "    <tr style=\"text-align: right;\">\n",
       "      <th></th>\n",
       "      <th>Adj Close</th>\n",
       "      <th>Volume</th>\n",
       "      <th>HL_PCT</th>\n",
       "      <th>PCT_change</th>\n",
       "    </tr>\n",
       "  </thead>\n",
       "  <tbody>\n",
       "    <tr>\n",
       "      <th>0</th>\n",
       "      <td>52.319366</td>\n",
       "      <td>1233000</td>\n",
       "      <td>0.892209</td>\n",
       "      <td>-0.543287</td>\n",
       "    </tr>\n",
       "    <tr>\n",
       "      <th>1</th>\n",
       "      <td>51.966888</td>\n",
       "      <td>1078000</td>\n",
       "      <td>1.154906</td>\n",
       "      <td>0.571528</td>\n",
       "    </tr>\n",
       "    <tr>\n",
       "      <th>2</th>\n",
       "      <td>51.909733</td>\n",
       "      <td>688300</td>\n",
       "      <td>0.422094</td>\n",
       "      <td>0.183863</td>\n",
       "    </tr>\n",
       "    <tr>\n",
       "      <th>3</th>\n",
       "      <td>51.909733</td>\n",
       "      <td>904900</td>\n",
       "      <td>0.752432</td>\n",
       "      <td>0.349913</td>\n",
       "    </tr>\n",
       "    <tr>\n",
       "      <th>4</th>\n",
       "      <td>52.166946</td>\n",
       "      <td>1175600</td>\n",
       "      <td>0.730464</td>\n",
       "      <td>0.109684</td>\n",
       "    </tr>\n",
       "    <tr>\n",
       "      <th>...</th>\n",
       "      <td>...</td>\n",
       "      <td>...</td>\n",
       "      <td>...</td>\n",
       "      <td>...</td>\n",
       "    </tr>\n",
       "    <tr>\n",
       "      <th>278</th>\n",
       "      <td>69.680000</td>\n",
       "      <td>2821500</td>\n",
       "      <td>1.880019</td>\n",
       "      <td>0.722752</td>\n",
       "    </tr>\n",
       "    <tr>\n",
       "      <th>279</th>\n",
       "      <td>69.809998</td>\n",
       "      <td>2391600</td>\n",
       "      <td>2.535459</td>\n",
       "      <td>-1.216924</td>\n",
       "    </tr>\n",
       "    <tr>\n",
       "      <th>280</th>\n",
       "      <td>69.720001</td>\n",
       "      <td>2565700</td>\n",
       "      <td>1.376946</td>\n",
       "      <td>0.014348</td>\n",
       "    </tr>\n",
       "    <tr>\n",
       "      <th>281</th>\n",
       "      <td>70.379997</td>\n",
       "      <td>1734400</td>\n",
       "      <td>1.946569</td>\n",
       "      <td>1.455952</td>\n",
       "    </tr>\n",
       "    <tr>\n",
       "      <th>282</th>\n",
       "      <td>75.480003</td>\n",
       "      <td>4183500</td>\n",
       "      <td>3.086902</td>\n",
       "      <td>1.725076</td>\n",
       "    </tr>\n",
       "  </tbody>\n",
       "</table>\n",
       "<p>283 rows × 4 columns</p>\n",
       "</div>"
      ],
      "text/plain": [
       "     Adj Close   Volume    HL_PCT  PCT_change\n",
       "0    52.319366  1233000  0.892209   -0.543287\n",
       "1    51.966888  1078000  1.154906    0.571528\n",
       "2    51.909733   688300  0.422094    0.183863\n",
       "3    51.909733   904900  0.752432    0.349913\n",
       "4    52.166946  1175600  0.730464    0.109684\n",
       "..         ...      ...       ...         ...\n",
       "278  69.680000  2821500  1.880019    0.722752\n",
       "279  69.809998  2391600  2.535459   -1.216924\n",
       "280  69.720001  2565700  1.376946    0.014348\n",
       "281  70.379997  1734400  1.946569    1.455952\n",
       "282  75.480003  4183500  3.086902    1.725076\n",
       "\n",
       "[283 rows x 4 columns]"
      ]
     },
     "execution_count": 13,
     "metadata": {},
     "output_type": "execute_result"
    }
   ],
   "source": [
    "BHPreg"
   ]
  },
  {
   "cell_type": "code",
   "execution_count": 14,
   "metadata": {},
   "outputs": [],
   "source": [
    "# Drop missing value\n",
    "#BHPreg.fillna(value=-99999, inplace=True)\n",
    "\n",
    "# We want to separate 1 percent of the data to forecast\n",
    "forecast_out = int(math.ceil(0.01 * len(BHPreg)))\n",
    "\n",
    "# Separating the label here, we want to predict the AdjClose\n",
    "forecast_col = 'Adj Close'\n",
    "BHPreg['label'] = BHPreg[forecast_col].shift(-forecast_out)\n",
    "X = np.array(BHPreg.drop(['label'], 1))\n",
    "\n",
    "# Scale the X so that everyone can have the same distribution for linear regression\n",
    "X = preprocessing.scale(X)\n",
    "\n",
    "# Finally We want to find Data Series of late X and early X (train) for model generation and evaluation\n",
    "X_lately = X[-forecast_out:]\n",
    "X = X[:-forecast_out]\n",
    "\n",
    "# Separate label and identify it as y\n",
    "y = np.array(BHPreg['label'])\n",
    "y = y[:-forecast_out]"
   ]
  },
  {
   "cell_type": "code",
   "execution_count": 15,
   "metadata": {},
   "outputs": [],
   "source": [
    "from sklearn.linear_model import LinearRegression\n",
    "from sklearn.neighbors import KNeighborsRegressor\n",
    "\n",
    "from sklearn.linear_model import Ridge\n",
    "from sklearn.preprocessing import PolynomialFeatures\n",
    "from sklearn.pipeline import make_pipeline"
   ]
  },
  {
   "cell_type": "code",
   "execution_count": 16,
   "metadata": {},
   "outputs": [],
   "source": [
    "from sklearn.model_selection import train_test_split"
   ]
  },
  {
   "cell_type": "code",
   "execution_count": 17,
   "metadata": {},
   "outputs": [
    {
     "data": {
      "text/plain": [
       "LinearRegression(n_jobs=-1)"
      ]
     },
     "execution_count": 17,
     "metadata": {},
     "output_type": "execute_result"
    }
   ],
   "source": [
    "# Linear regression\n",
    "clfreg = LinearRegression(n_jobs=-1)\n",
    "X_train, X_test, y_train, y_test = train_test_split(X, y, test_size=0.33, random_state=42)\n",
    "clfreg.fit(X_train, y_train)"
   ]
  },
  {
   "cell_type": "code",
   "execution_count": 18,
   "metadata": {},
   "outputs": [
    {
     "data": {
      "text/plain": [
       "Pipeline(steps=[('polynomialfeatures', PolynomialFeatures()),\n",
       "                ('ridge', Ridge())])"
      ]
     },
     "execution_count": 18,
     "metadata": {},
     "output_type": "execute_result"
    }
   ],
   "source": [
    "# Quadratic Regression 2\n",
    "clfpoly2 = make_pipeline(PolynomialFeatures(2), Ridge())\n",
    "clfpoly2.fit(X_train, y_train)"
   ]
  },
  {
   "cell_type": "code",
   "execution_count": 19,
   "metadata": {},
   "outputs": [
    {
     "data": {
      "text/plain": [
       "Pipeline(steps=[('polynomialfeatures', PolynomialFeatures(degree=3)),\n",
       "                ('ridge', Ridge())])"
      ]
     },
     "execution_count": 19,
     "metadata": {},
     "output_type": "execute_result"
    }
   ],
   "source": [
    "# Quadratic Regression 3\n",
    "clfpoly3 = make_pipeline(PolynomialFeatures(3), Ridge())\n",
    "clfpoly3.fit(X_train, y_train)"
   ]
  },
  {
   "cell_type": "code",
   "execution_count": 20,
   "metadata": {},
   "outputs": [
    {
     "data": {
      "text/plain": [
       "KNeighborsRegressor(n_neighbors=2)"
      ]
     },
     "execution_count": 20,
     "metadata": {},
     "output_type": "execute_result"
    }
   ],
   "source": [
    "# KNN Regression\n",
    "clfknn = KNeighborsRegressor(n_neighbors=2)\n",
    "clfknn.fit(X_train, y_train)"
   ]
  },
  {
   "cell_type": "code",
   "execution_count": 21,
   "metadata": {},
   "outputs": [],
   "source": [
    "forecast_set = clfreg.predict(X_lately)\n",
    "BHPreg['Forecast'] = np.nan"
   ]
  },
  {
   "cell_type": "code",
   "execution_count": 22,
   "metadata": {},
   "outputs": [
    {
     "data": {
      "text/plain": [
       "array([70.18392945, 71.34882297, 76.05654203])"
      ]
     },
     "execution_count": 22,
     "metadata": {},
     "output_type": "execute_result"
    }
   ],
   "source": [
    "forecast_set"
   ]
  },
  {
   "cell_type": "code",
   "execution_count": 23,
   "metadata": {},
   "outputs": [
    {
     "data": {
      "text/plain": [
       "array([[ 1.83872425e+00, -4.82516379e-07, -4.75832642e-01,\n",
       "         5.41406478e-03],\n",
       "       [ 1.90573711e+00, -5.67579433e-01, -3.68364740e-02,\n",
       "         1.16981597e+00],\n",
       "       [ 2.42356750e+00,  1.10456974e+00,  8.41995063e-01,\n",
       "         1.38719041e+00]])"
      ]
     },
     "execution_count": 23,
     "metadata": {},
     "output_type": "execute_result"
    }
   ],
   "source": [
    "X_lately"
   ]
  },
  {
   "cell_type": "code",
   "execution_count": 24,
   "metadata": {},
   "outputs": [
    {
     "data": {
      "text/html": [
       "<div>\n",
       "<style scoped>\n",
       "    .dataframe tbody tr th:only-of-type {\n",
       "        vertical-align: middle;\n",
       "    }\n",
       "\n",
       "    .dataframe tbody tr th {\n",
       "        vertical-align: top;\n",
       "    }\n",
       "\n",
       "    .dataframe thead th {\n",
       "        text-align: right;\n",
       "    }\n",
       "</style>\n",
       "<table border=\"1\" class=\"dataframe\">\n",
       "  <thead>\n",
       "    <tr style=\"text-align: right;\">\n",
       "      <th></th>\n",
       "      <th>Adj Close</th>\n",
       "      <th>Volume</th>\n",
       "      <th>HL_PCT</th>\n",
       "      <th>PCT_change</th>\n",
       "      <th>label</th>\n",
       "      <th>Forecast</th>\n",
       "    </tr>\n",
       "  </thead>\n",
       "  <tbody>\n",
       "    <tr>\n",
       "      <th>0</th>\n",
       "      <td>52.319366</td>\n",
       "      <td>1233000</td>\n",
       "      <td>0.892209</td>\n",
       "      <td>-0.543287</td>\n",
       "      <td>51.909733</td>\n",
       "      <td>NaN</td>\n",
       "    </tr>\n",
       "    <tr>\n",
       "      <th>1</th>\n",
       "      <td>51.966888</td>\n",
       "      <td>1078000</td>\n",
       "      <td>1.154906</td>\n",
       "      <td>0.571528</td>\n",
       "      <td>52.166946</td>\n",
       "      <td>NaN</td>\n",
       "    </tr>\n",
       "    <tr>\n",
       "      <th>2</th>\n",
       "      <td>51.909733</td>\n",
       "      <td>688300</td>\n",
       "      <td>0.422094</td>\n",
       "      <td>0.183863</td>\n",
       "      <td>51.671574</td>\n",
       "      <td>NaN</td>\n",
       "    </tr>\n",
       "    <tr>\n",
       "      <th>3</th>\n",
       "      <td>51.909733</td>\n",
       "      <td>904900</td>\n",
       "      <td>0.752432</td>\n",
       "      <td>0.349913</td>\n",
       "      <td>51.814465</td>\n",
       "      <td>NaN</td>\n",
       "    </tr>\n",
       "    <tr>\n",
       "      <th>4</th>\n",
       "      <td>52.166946</td>\n",
       "      <td>1175600</td>\n",
       "      <td>0.730464</td>\n",
       "      <td>0.109684</td>\n",
       "      <td>52.157417</td>\n",
       "      <td>NaN</td>\n",
       "    </tr>\n",
       "    <tr>\n",
       "      <th>...</th>\n",
       "      <td>...</td>\n",
       "      <td>...</td>\n",
       "      <td>...</td>\n",
       "      <td>...</td>\n",
       "      <td>...</td>\n",
       "      <td>...</td>\n",
       "    </tr>\n",
       "    <tr>\n",
       "      <th>278</th>\n",
       "      <td>69.680000</td>\n",
       "      <td>2821500</td>\n",
       "      <td>1.880019</td>\n",
       "      <td>0.722752</td>\n",
       "      <td>70.379997</td>\n",
       "      <td>NaN</td>\n",
       "    </tr>\n",
       "    <tr>\n",
       "      <th>279</th>\n",
       "      <td>69.809998</td>\n",
       "      <td>2391600</td>\n",
       "      <td>2.535459</td>\n",
       "      <td>-1.216924</td>\n",
       "      <td>75.480003</td>\n",
       "      <td>NaN</td>\n",
       "    </tr>\n",
       "    <tr>\n",
       "      <th>280</th>\n",
       "      <td>69.720001</td>\n",
       "      <td>2565700</td>\n",
       "      <td>1.376946</td>\n",
       "      <td>0.014348</td>\n",
       "      <td>NaN</td>\n",
       "      <td>NaN</td>\n",
       "    </tr>\n",
       "    <tr>\n",
       "      <th>281</th>\n",
       "      <td>70.379997</td>\n",
       "      <td>1734400</td>\n",
       "      <td>1.946569</td>\n",
       "      <td>1.455952</td>\n",
       "      <td>NaN</td>\n",
       "      <td>NaN</td>\n",
       "    </tr>\n",
       "    <tr>\n",
       "      <th>282</th>\n",
       "      <td>75.480003</td>\n",
       "      <td>4183500</td>\n",
       "      <td>3.086902</td>\n",
       "      <td>1.725076</td>\n",
       "      <td>NaN</td>\n",
       "      <td>NaN</td>\n",
       "    </tr>\n",
       "  </tbody>\n",
       "</table>\n",
       "<p>283 rows × 6 columns</p>\n",
       "</div>"
      ],
      "text/plain": [
       "     Adj Close   Volume    HL_PCT  PCT_change      label  Forecast\n",
       "0    52.319366  1233000  0.892209   -0.543287  51.909733       NaN\n",
       "1    51.966888  1078000  1.154906    0.571528  52.166946       NaN\n",
       "2    51.909733   688300  0.422094    0.183863  51.671574       NaN\n",
       "3    51.909733   904900  0.752432    0.349913  51.814465       NaN\n",
       "4    52.166946  1175600  0.730464    0.109684  52.157417       NaN\n",
       "..         ...      ...       ...         ...        ...       ...\n",
       "278  69.680000  2821500  1.880019    0.722752  70.379997       NaN\n",
       "279  69.809998  2391600  2.535459   -1.216924  75.480003       NaN\n",
       "280  69.720001  2565700  1.376946    0.014348        NaN       NaN\n",
       "281  70.379997  1734400  1.946569    1.455952        NaN       NaN\n",
       "282  75.480003  4183500  3.086902    1.725076        NaN       NaN\n",
       "\n",
       "[283 rows x 6 columns]"
      ]
     },
     "execution_count": 24,
     "metadata": {},
     "output_type": "execute_result"
    }
   ],
   "source": [
    "BHPreg"
   ]
  },
  {
   "cell_type": "code",
   "execution_count": null,
   "metadata": {},
   "outputs": [],
   "source": []
  },
  {
   "cell_type": "code",
   "execution_count": 97,
   "metadata": {},
   "outputs": [],
   "source": [
    "#last_date = BHPreg.iloc[-1].name\n",
    "#last_unix = last_date\n",
    "#next_unix = last_unix+datetime.timedelta(days=1)\n",
    "\n",
    "#for i in forecast_set:\n",
    "    #next_date = next_unix\n",
    "    #next_unix += datetime.timedelta(days=1)\n",
    "    #BHPreg.loc[next_date] = [np.nan for _ in range(len(BHPreg.columns)-1)]+[i]\n",
    "#BHPreg['Adj Close'].tail(500).plot()\n",
    "#BHPreg['Forecast'].tail(500).plot()\n",
    "#plt.legend(loc=4)\n",
    "#plt.xlabel('Date')\n",
    "#plt.ylabel('Price')\n",
    "#plt.show()"
   ]
  },
  {
   "cell_type": "code",
   "execution_count": 26,
   "metadata": {},
   "outputs": [],
   "source": [
    "### LSTM "
   ]
  },
  {
   "cell_type": "code",
   "execution_count": 28,
   "metadata": {},
   "outputs": [],
   "source": [
    "import math\n",
    "import pandas_datareader as web\n",
    "import numpy as np\n",
    "import pandas as pd\n",
    "from sklearn.preprocessing import MinMaxScaler\n",
    "from keras.models import Sequential\n",
    "from keras.layers import Dense, LSTM\n",
    "import matplotlib.pyplot as plt\n",
    "plt.style.use('fivethirtyeight')"
   ]
  },
  {
   "cell_type": "code",
   "execution_count": 30,
   "metadata": {},
   "outputs": [],
   "source": [
    "df = web.DataReader('BHP', data_source='yahoo', start ='2012-01-01', end= '2021-03-09')"
   ]
  },
  {
   "cell_type": "code",
   "execution_count": 35,
   "metadata": {},
   "outputs": [],
   "source": [
    "df['Date'] = df.index"
   ]
  },
  {
   "cell_type": "code",
   "execution_count": 36,
   "metadata": {},
   "outputs": [
    {
     "data": {
      "text/html": [
       "<div>\n",
       "<style scoped>\n",
       "    .dataframe tbody tr th:only-of-type {\n",
       "        vertical-align: middle;\n",
       "    }\n",
       "\n",
       "    .dataframe tbody tr th {\n",
       "        vertical-align: top;\n",
       "    }\n",
       "\n",
       "    .dataframe thead th {\n",
       "        text-align: right;\n",
       "    }\n",
       "</style>\n",
       "<table border=\"1\" class=\"dataframe\">\n",
       "  <thead>\n",
       "    <tr style=\"text-align: right;\">\n",
       "      <th></th>\n",
       "      <th>High</th>\n",
       "      <th>Low</th>\n",
       "      <th>Open</th>\n",
       "      <th>Close</th>\n",
       "      <th>Volume</th>\n",
       "      <th>Adj Close</th>\n",
       "      <th>Date</th>\n",
       "    </tr>\n",
       "    <tr>\n",
       "      <th>Date</th>\n",
       "      <th></th>\n",
       "      <th></th>\n",
       "      <th></th>\n",
       "      <th></th>\n",
       "      <th></th>\n",
       "      <th></th>\n",
       "      <th></th>\n",
       "    </tr>\n",
       "  </thead>\n",
       "  <tbody>\n",
       "    <tr>\n",
       "      <th>2021-02-11</th>\n",
       "      <td>70.050003</td>\n",
       "      <td>69.089996</td>\n",
       "      <td>69.709999</td>\n",
       "      <td>69.720001</td>\n",
       "      <td>2565700.0</td>\n",
       "      <td>69.720001</td>\n",
       "      <td>2021-02-11</td>\n",
       "    </tr>\n",
       "  </tbody>\n",
       "</table>\n",
       "</div>"
      ],
      "text/plain": [
       "                 High        Low       Open      Close     Volume  Adj Close  \\\n",
       "Date                                                                           \n",
       "2021-02-11  70.050003  69.089996  69.709999  69.720001  2565700.0  69.720001   \n",
       "\n",
       "                 Date  \n",
       "Date                   \n",
       "2021-02-11 2021-02-11  "
      ]
     },
     "execution_count": 36,
     "metadata": {},
     "output_type": "execute_result"
    }
   ],
   "source": [
    " df.loc[df['Date']== '2021-02-11']"
   ]
  },
  {
   "cell_type": "code",
   "execution_count": 37,
   "metadata": {},
   "outputs": [
    {
     "data": {
      "text/html": [
       "<div>\n",
       "<style scoped>\n",
       "    .dataframe tbody tr th:only-of-type {\n",
       "        vertical-align: middle;\n",
       "    }\n",
       "\n",
       "    .dataframe tbody tr th {\n",
       "        vertical-align: top;\n",
       "    }\n",
       "\n",
       "    .dataframe thead th {\n",
       "        text-align: right;\n",
       "    }\n",
       "</style>\n",
       "<table border=\"1\" class=\"dataframe\">\n",
       "  <thead>\n",
       "    <tr style=\"text-align: right;\">\n",
       "      <th></th>\n",
       "      <th>Date</th>\n",
       "      <th>Open</th>\n",
       "      <th>High</th>\n",
       "      <th>Low</th>\n",
       "      <th>Close</th>\n",
       "      <th>Adj Close</th>\n",
       "      <th>Volume</th>\n",
       "    </tr>\n",
       "  </thead>\n",
       "  <tbody>\n",
       "    <tr>\n",
       "      <th>280</th>\n",
       "      <td>2021-02-11</td>\n",
       "      <td>69.709999</td>\n",
       "      <td>70.050003</td>\n",
       "      <td>69.089996</td>\n",
       "      <td>69.720001</td>\n",
       "      <td>69.720001</td>\n",
       "      <td>2565700</td>\n",
       "    </tr>\n",
       "  </tbody>\n",
       "</table>\n",
       "</div>"
      ],
      "text/plain": [
       "           Date       Open       High        Low      Close  Adj Close  \\\n",
       "280  2021-02-11  69.709999  70.050003  69.089996  69.720001  69.720001   \n",
       "\n",
       "      Volume  \n",
       "280  2565700  "
      ]
     },
     "execution_count": 37,
     "metadata": {},
     "output_type": "execute_result"
    }
   ],
   "source": [
    " BHP.loc[BHP['Date']== '2021-02-11']"
   ]
  },
  {
   "cell_type": "code",
   "execution_count": 38,
   "metadata": {},
   "outputs": [
    {
     "data": {
      "image/png": "[encoded data removed]",
      "text/plain": [
       "<Figure size 1152x576 with 1 Axes>"
      ]
     },
     "metadata": {},
     "output_type": "display_data"
    }
   ],
   "source": [
    "plt.figure(figsize=(16,8))\n",
    "plt.title('Close Price History')\n",
    "plt.plot(df['Close'])\n",
    "plt.xlabel('Date', fontsize =18)\n",
    "plt.ylabel('Close Price USD ($)', fontsize =18)\n",
    "plt.show()"
   ]
  },
  {
   "cell_type": "code",
   "execution_count": 39,
   "metadata": {},
   "outputs": [],
   "source": [
    "data = df.filter(['Close'])"
   ]
  },
  {
   "cell_type": "code",
   "execution_count": 40,
   "metadata": {},
   "outputs": [
    {
     "data": {
      "text/plain": [
       "1848"
      ]
     },
     "execution_count": 40,
     "metadata": {},
     "output_type": "execute_result"
    }
   ],
   "source": [
    "dataset = data.values\n",
    "training_data_len = math.ceil(len(dataset)*.8)\n",
    "training_data_len "
   ]
  },
  {
   "cell_type": "code",
   "execution_count": 41,
   "metadata": {},
   "outputs": [
    {
     "data": {
      "text/plain": [
       "array([[0.88226861],\n",
       "       [0.88274653],\n",
       "       [0.86028351],\n",
       "       ...,\n",
       "       [0.90202324],\n",
       "       [0.90791782],\n",
       "       [0.89867771]])"
      ]
     },
     "execution_count": 41,
     "metadata": {},
     "output_type": "execute_result"
    }
   ],
   "source": [
    "# Scale the data\n",
    "scaler = MinMaxScaler(feature_range =(0,1))\n",
    "scaled_data = scaler.fit_transform(dataset)\n",
    "\n",
    "scaled_data"
   ]
  },
  {
   "cell_type": "code",
   "execution_count": 42,
   "metadata": {},
   "outputs": [
    {
     "name": "stdout",
     "output_type": "stream",
     "text": [
      "[array([0.88226861, 0.88274653, 0.86028351, 0.84546751, 0.84960965,\n",
      "       0.88163135, 0.88864111, 0.90823639, 0.88529545, 0.90664329,\n",
      "       0.93898356, 0.94201053, 0.93627529, 0.9471085 , 0.93579738,\n",
      "       0.9679783 , 0.97243901, 0.96813765, 0.95682653, 0.95682653,\n",
      "       0.97291693, 0.98008603, 1.        , 0.99378685, 0.99394608,\n",
      "       0.97737776, 0.95969414, 0.91954751, 0.94057666, 0.91460888,\n",
      "       0.90313842, 0.91636132, 0.90377568, 0.93213315, 0.93006214,\n",
      "       0.9283097 , 0.93054006, 0.93436351, 0.94678981, 0.9150868 ,\n",
      "       0.92257447, 0.90218258, 0.8754182 , 0.83782062, 0.85295519,\n",
      "       0.87032023, 0.87239124, 0.8621953 , 0.89230521, 0.85996494,\n",
      "       0.87589612, 0.88115344, 0.894217  , 0.85438905, 0.8410068 ,\n",
      "       0.81758795, 0.83160747, 0.84801656, 0.83001437, 0.81870313])]\n",
      "[0.8285805045275751]\n",
      "\n"
     ]
    }
   ],
   "source": [
    "# create training dataset\n",
    "# create the scaled training dataset\n",
    "train_data =scaled_data[0:training_data_len, :]\n",
    "\n",
    "\n",
    "x_train=[]\n",
    "y_train =[]\n",
    "\n",
    "\n",
    "for i in range(60, len(train_data)):\n",
    "    x_train.append(train_data[i-60:i,0])\n",
    "    y_train.append(train_data[i, 0])\n",
    "    if i<=60:\n",
    "        print(x_train)\n",
    "        print(y_train)\n",
    "        print()"
   ]
  },
  {
   "cell_type": "code",
   "execution_count": 43,
   "metadata": {},
   "outputs": [
    {
     "data": {
      "text/plain": [
       "1848"
      ]
     },
     "execution_count": 43,
     "metadata": {},
     "output_type": "execute_result"
    }
   ],
   "source": [
    "len(train_data)"
   ]
  },
  {
   "cell_type": "code",
   "execution_count": 44,
   "metadata": {},
   "outputs": [],
   "source": [
    "x_train, y_train = np.array(x_train), np.array(y_train)"
   ]
  },
  {
   "cell_type": "code",
   "execution_count": 47,
   "metadata": {},
   "outputs": [
    {
     "data": {
      "text/plain": [
       "(1788, 60, 1)"
      ]
     },
     "execution_count": 47,
     "metadata": {},
     "output_type": "execute_result"
    }
   ],
   "source": [
    "#x_train = np.reshape(x_train, (1788, 60,1))\n",
    "x_train = np.reshape(x_train, (x_train.shape[0], x_train.shape[1], 1))\n",
    "#x_train.shape"
   ]
  },
  {
   "cell_type": "code",
   "execution_count": 48,
   "metadata": {},
   "outputs": [],
   "source": [
    "model = Sequential()\n",
    "model.add(LSTM(50, return_sequences=True, input_shape = (x_train.shape[1], 1)))\n",
    "model.add(LSTM(50, return_sequences=False))\n",
    "model.add(Dense(1))"
   ]
  },
  {
   "cell_type": "code",
   "execution_count": 49,
   "metadata": {},
   "outputs": [],
   "source": [
    "model.compile(optimizer='adam', loss='mean_squared_error')"
   ]
  },
  {
   "cell_type": "code",
   "execution_count": 50,
   "metadata": {},
   "outputs": [
    {
     "name": "stdout",
     "output_type": "stream",
     "text": [
      "1788/1788 [==============================] - 19s 11ms/step - loss: 0.0022\n"
     ]
    },
    {
     "data": {
      "text/plain": [
       "<tensorflow.python.keras.callbacks.History at 0x1759e353670>"
      ]
     },
     "execution_count": 50,
     "metadata": {},
     "output_type": "execute_result"
    }
   ],
   "source": [
    "model.fit(x_train, y_train, batch_size=1, epochs=1)"
   ]
  },
  {
   "cell_type": "code",
   "execution_count": 51,
   "metadata": {},
   "outputs": [],
   "source": [
    "#create testing dataset\n",
    "#create new array from index 1788 to 1848\n",
    "test_data =scaled_data[training_data_len-60:, :]\n",
    "\n",
    "\n",
    "x_test =[]\n",
    "y_test =dataset[training_data_len:, :]\n",
    "\n",
    "for i in range(60, len(test_data)):\n",
    "    x_test.append(test_data[i-60:i, 0])\n",
    "    \n"
   ]
  },
  {
   "cell_type": "code",
   "execution_count": 52,
   "metadata": {},
   "outputs": [],
   "source": [
    "x_test =np.array(x_test)"
   ]
  },
  {
   "cell_type": "code",
   "execution_count": 53,
   "metadata": {},
   "outputs": [],
   "source": [
    "#LSTM expects 3d, number of features is 1, which is closing price\n",
    "x_test =np.reshape(x_test, (x_test.shape[0], x_test.shape[1], 1))"
   ]
  },
  {
   "cell_type": "code",
   "execution_count": 54,
   "metadata": {},
   "outputs": [],
   "source": [
    "# get the models predicted price values\n",
    "predictions = model.predict(x_test)\n",
    "predictions = scaler.inverse_transform(predictions)"
   ]
  },
  {
   "cell_type": "code",
   "execution_count": 55,
   "metadata": {},
   "outputs": [
    {
     "data": {
      "text/plain": [
       "2.117160044109485"
      ]
     },
     "execution_count": 55,
     "metadata": {},
     "output_type": "execute_result"
    }
   ],
   "source": [
    "# get the root mean squared error (RMSE)\n",
    "rmse = np.sqrt(np.mean( predictions-y_test )**2 )\n",
    "rmse"
   ]
  },
  {
   "cell_type": "code",
   "execution_count": 58,
   "metadata": {},
   "outputs": [
    {
     "data": {
      "text/html": [
       "<div>\n",
       "<style scoped>\n",
       "    .dataframe tbody tr th:only-of-type {\n",
       "        vertical-align: middle;\n",
       "    }\n",
       "\n",
       "    .dataframe tbody tr th {\n",
       "        vertical-align: top;\n",
       "    }\n",
       "\n",
       "    .dataframe thead th {\n",
       "        text-align: right;\n",
       "    }\n",
       "</style>\n",
       "<table border=\"1\" class=\"dataframe\">\n",
       "  <thead>\n",
       "    <tr style=\"text-align: right;\">\n",
       "      <th></th>\n",
       "      <th>Close</th>\n",
       "      <th>Predictions</th>\n",
       "    </tr>\n",
       "    <tr>\n",
       "      <th>Date</th>\n",
       "      <th></th>\n",
       "      <th></th>\n",
       "    </tr>\n",
       "  </thead>\n",
       "  <tbody>\n",
       "    <tr>\n",
       "      <th>2019-05-09</th>\n",
       "      <td>51.450001</td>\n",
       "      <td>50.435680</td>\n",
       "    </tr>\n",
       "    <tr>\n",
       "      <th>2019-05-10</th>\n",
       "      <td>51.869999</td>\n",
       "      <td>50.305676</td>\n",
       "    </tr>\n",
       "    <tr>\n",
       "      <th>2019-05-13</th>\n",
       "      <td>50.650002</td>\n",
       "      <td>50.239811</td>\n",
       "    </tr>\n",
       "    <tr>\n",
       "      <th>2019-05-14</th>\n",
       "      <td>51.250000</td>\n",
       "      <td>50.048061</td>\n",
       "    </tr>\n",
       "    <tr>\n",
       "      <th>2019-05-15</th>\n",
       "      <td>51.419998</td>\n",
       "      <td>49.904228</td>\n",
       "    </tr>\n",
       "    <tr>\n",
       "      <th>...</th>\n",
       "      <td>...</td>\n",
       "      <td>...</td>\n",
       "    </tr>\n",
       "    <tr>\n",
       "      <th>2021-03-02</th>\n",
       "      <td>80.099998</td>\n",
       "      <td>73.058449</td>\n",
       "    </tr>\n",
       "    <tr>\n",
       "      <th>2021-03-03</th>\n",
       "      <td>81.000000</td>\n",
       "      <td>73.245804</td>\n",
       "    </tr>\n",
       "    <tr>\n",
       "      <th>2021-03-04</th>\n",
       "      <td>76.000000</td>\n",
       "      <td>73.693268</td>\n",
       "    </tr>\n",
       "    <tr>\n",
       "      <th>2021-03-05</th>\n",
       "      <td>76.370003</td>\n",
       "      <td>73.370567</td>\n",
       "    </tr>\n",
       "    <tr>\n",
       "      <th>2021-03-08</th>\n",
       "      <td>75.790001</td>\n",
       "      <td>72.817085</td>\n",
       "    </tr>\n",
       "  </tbody>\n",
       "</table>\n",
       "<p>461 rows × 2 columns</p>\n",
       "</div>"
      ],
      "text/plain": [
       "                Close  Predictions\n",
       "Date                              \n",
       "2019-05-09  51.450001    50.435680\n",
       "2019-05-10  51.869999    50.305676\n",
       "2019-05-13  50.650002    50.239811\n",
       "2019-05-14  51.250000    50.048061\n",
       "2019-05-15  51.419998    49.904228\n",
       "...               ...          ...\n",
       "2021-03-02  80.099998    73.058449\n",
       "2021-03-03  81.000000    73.245804\n",
       "2021-03-04  76.000000    73.693268\n",
       "2021-03-05  76.370003    73.370567\n",
       "2021-03-08  75.790001    72.817085\n",
       "\n",
       "[461 rows x 2 columns]"
      ]
     },
     "execution_count": 58,
     "metadata": {},
     "output_type": "execute_result"
    }
   ],
   "source": [
    "valid"
   ]
  },
  {
   "cell_type": "code",
   "execution_count": 60,
   "metadata": {},
   "outputs": [
    {
     "name": "stderr",
     "output_type": "stream",
     "text": [
      "<ipython-input-60-60d014aa2bd9>:4: SettingWithCopyWarning: \n",
      "A value is trying to be set on a copy of a slice from a DataFrame.\n",
      "Try using .loc[row_indexer,col_indexer] = value instead\n",
      "\n",
      "See the caveats in the documentation: https://pandas.pydata.org/pandas-docs/stable/user_guide/indexing.html#returning-a-view-versus-a-copy\n",
      "  valid['Predictions']= predictions\n"
     ]
    },
    {
     "data": {
      "image/png": "[encoded data removed]",
      "text/plain": [
       "<Figure size 1152x576 with 1 Axes>"
      ]
     },
     "metadata": {},
     "output_type": "display_data"
    }
   ],
   "source": [
    "#plot the data\n",
    "train  = data[:training_data_len]\n",
    "valid = data[training_data_len:]\n",
    "valid['Predictions']= predictions\n",
    "# visualize\n",
    "plt.figure(figsize= (16,8))\n",
    "plt.title('Model')\n",
    "plt.xlabel('Date', fontsize =18)\n",
    "plt.ylabel('Close Price USD ($)', fontsize=18)\n",
    "plt.plot(train['Close'])\n",
    "plt.plot(valid[['Close', 'Predictions']])\n",
    "plt.legend(['Train', 'Val', 'Predictions'], loc ='lower right')\n",
    "plt.show()"
   ]
  },
  {
   "cell_type": "code",
   "execution_count": 61,
   "metadata": {},
   "outputs": [],
   "source": [
    "#predictions"
   ]
  },
  {
   "cell_type": "code",
   "execution_count": 62,
   "metadata": {},
   "outputs": [],
   "source": [
    "Bhp_quote =web.DataReader('BHP', data_source='yahoo', start='2012-01-01', end='2021-03-10')"
   ]
  },
  {
   "cell_type": "code",
   "execution_count": 64,
   "metadata": {},
   "outputs": [],
   "source": [
    "new_df = Bhp_quote.filter(['Close'])"
   ]
  },
  {
   "cell_type": "code",
   "execution_count": 65,
   "metadata": {},
   "outputs": [],
   "source": [
    "last_60_days= new_df[-60:].values"
   ]
  },
  {
   "cell_type": "code",
   "execution_count": 66,
   "metadata": {},
   "outputs": [],
   "source": [
    "last_60_days_scaled = scaler.transform(last_60_days)"
   ]
  },
  {
   "cell_type": "code",
   "execution_count": 69,
   "metadata": {},
   "outputs": [
    {
     "data": {
      "text/plain": [
       "array([[72.150795]], dtype=float32)"
      ]
     },
     "execution_count": 69,
     "metadata": {},
     "output_type": "execute_result"
    }
   ],
   "source": [
    "### Prediction for 9th march closing price for BHP\n",
    "X_test = []\n",
    "X_test.append(last_60_days_scaled)\n",
    "X_test = np.array(X_test)\n",
    "X_test = np.reshape(X_test, (X_test.shape[0], X_test.shape[1], 1))\n",
    "pred_price = model.predict(X_test)\n",
    "pred_price = scaler.inverse_transform(pred_price)\n",
    "pred_price"
   ]
  },
  {
   "cell_type": "code",
   "execution_count": 71,
   "metadata": {},
   "outputs": [],
   "source": [
    "#Bhp_quote"
   ]
  },
  {
   "cell_type": "code",
   "execution_count": 105,
   "metadata": {},
   "outputs": [],
   "source": [
    "### Predicting for DE company \n",
    "#DE =web.DataReader('DE', data_source='yahoo', start='2012-01-01', end='2021-03-10')\n",
    "DE = pd.read_csv('C:/Users/Asus/Documents/SALTANAT/fds/Homework01_algo_trading/Data/DE.csv')  "
   ]
  },
  {
   "cell_type": "code",
   "execution_count": 106,
   "metadata": {},
   "outputs": [
    {
     "data": {
      "text/html": [
       "<div>\n",
       "<style scoped>\n",
       "    .dataframe tbody tr th:only-of-type {\n",
       "        vertical-align: middle;\n",
       "    }\n",
       "\n",
       "    .dataframe tbody tr th {\n",
       "        vertical-align: top;\n",
       "    }\n",
       "\n",
       "    .dataframe thead th {\n",
       "        text-align: right;\n",
       "    }\n",
       "</style>\n",
       "<table border=\"1\" class=\"dataframe\">\n",
       "  <thead>\n",
       "    <tr style=\"text-align: right;\">\n",
       "      <th></th>\n",
       "      <th>Date</th>\n",
       "      <th>Open</th>\n",
       "      <th>High</th>\n",
       "      <th>Low</th>\n",
       "      <th>Close</th>\n",
       "      <th>Adj Close</th>\n",
       "      <th>Volume</th>\n",
       "    </tr>\n",
       "  </thead>\n",
       "  <tbody>\n",
       "    <tr>\n",
       "      <th>0</th>\n",
       "      <td>2020-01-02</td>\n",
       "      <td>174.240005</td>\n",
       "      <td>176.880005</td>\n",
       "      <td>173.729996</td>\n",
       "      <td>176.860001</td>\n",
       "      <td>173.869675</td>\n",
       "      <td>1591100</td>\n",
       "    </tr>\n",
       "    <tr>\n",
       "      <th>1</th>\n",
       "      <td>2020-01-03</td>\n",
       "      <td>174.210007</td>\n",
       "      <td>175.759995</td>\n",
       "      <td>173.550003</td>\n",
       "      <td>175.550003</td>\n",
       "      <td>172.581818</td>\n",
       "      <td>1301100</td>\n",
       "    </tr>\n",
       "    <tr>\n",
       "      <th>2</th>\n",
       "      <td>2020-01-06</td>\n",
       "      <td>174.479996</td>\n",
       "      <td>176.880005</td>\n",
       "      <td>173.740005</td>\n",
       "      <td>176.809998</td>\n",
       "      <td>173.820511</td>\n",
       "      <td>1234200</td>\n",
       "    </tr>\n",
       "    <tr>\n",
       "      <th>3</th>\n",
       "      <td>2020-01-07</td>\n",
       "      <td>176.009995</td>\n",
       "      <td>176.440002</td>\n",
       "      <td>173.490005</td>\n",
       "      <td>173.740005</td>\n",
       "      <td>170.802429</td>\n",
       "      <td>1234200</td>\n",
       "    </tr>\n",
       "    <tr>\n",
       "      <th>4</th>\n",
       "      <td>2020-01-08</td>\n",
       "      <td>174.500000</td>\n",
       "      <td>176.779999</td>\n",
       "      <td>173.990005</td>\n",
       "      <td>175.899994</td>\n",
       "      <td>172.925903</td>\n",
       "      <td>1713900</td>\n",
       "    </tr>\n",
       "    <tr>\n",
       "      <th>...</th>\n",
       "      <td>...</td>\n",
       "      <td>...</td>\n",
       "      <td>...</td>\n",
       "      <td>...</td>\n",
       "      <td>...</td>\n",
       "      <td>...</td>\n",
       "      <td>...</td>\n",
       "    </tr>\n",
       "    <tr>\n",
       "      <th>278</th>\n",
       "      <td>2021-02-09</td>\n",
       "      <td>316.019989</td>\n",
       "      <td>318.269989</td>\n",
       "      <td>313.170013</td>\n",
       "      <td>315.329987</td>\n",
       "      <td>315.329987</td>\n",
       "      <td>1066500</td>\n",
       "    </tr>\n",
       "    <tr>\n",
       "      <th>279</th>\n",
       "      <td>2021-02-10</td>\n",
       "      <td>317.549988</td>\n",
       "      <td>317.799988</td>\n",
       "      <td>311.369995</td>\n",
       "      <td>313.640015</td>\n",
       "      <td>313.640015</td>\n",
       "      <td>1070000</td>\n",
       "    </tr>\n",
       "    <tr>\n",
       "      <th>280</th>\n",
       "      <td>2021-02-11</td>\n",
       "      <td>314.690002</td>\n",
       "      <td>315.820007</td>\n",
       "      <td>309.049988</td>\n",
       "      <td>314.459991</td>\n",
       "      <td>314.459991</td>\n",
       "      <td>995100</td>\n",
       "    </tr>\n",
       "    <tr>\n",
       "      <th>281</th>\n",
       "      <td>2021-02-12</td>\n",
       "      <td>314.049988</td>\n",
       "      <td>315.790009</td>\n",
       "      <td>312.279999</td>\n",
       "      <td>313.000000</td>\n",
       "      <td>313.000000</td>\n",
       "      <td>1721600</td>\n",
       "    </tr>\n",
       "    <tr>\n",
       "      <th>282</th>\n",
       "      <td>2021-02-16</td>\n",
       "      <td>316.809998</td>\n",
       "      <td>321.670013</td>\n",
       "      <td>316.070007</td>\n",
       "      <td>317.089996</td>\n",
       "      <td>317.089996</td>\n",
       "      <td>3098700</td>\n",
       "    </tr>\n",
       "  </tbody>\n",
       "</table>\n",
       "<p>283 rows × 7 columns</p>\n",
       "</div>"
      ],
      "text/plain": [
       "           Date        Open        High         Low       Close   Adj Close  \\\n",
       "0    2020-01-02  174.240005  176.880005  173.729996  176.860001  173.869675   \n",
       "1    2020-01-03  174.210007  175.759995  173.550003  175.550003  172.581818   \n",
       "2    2020-01-06  174.479996  176.880005  173.740005  176.809998  173.820511   \n",
       "3    2020-01-07  176.009995  176.440002  173.490005  173.740005  170.802429   \n",
       "4    2020-01-08  174.500000  176.779999  173.990005  175.899994  172.925903   \n",
       "..          ...         ...         ...         ...         ...         ...   \n",
       "278  2021-02-09  316.019989  318.269989  313.170013  315.329987  315.329987   \n",
       "279  2021-02-10  317.549988  317.799988  311.369995  313.640015  313.640015   \n",
       "280  2021-02-11  314.690002  315.820007  309.049988  314.459991  314.459991   \n",
       "281  2021-02-12  314.049988  315.790009  312.279999  313.000000  313.000000   \n",
       "282  2021-02-16  316.809998  321.670013  316.070007  317.089996  317.089996   \n",
       "\n",
       "      Volume  \n",
       "0    1591100  \n",
       "1    1301100  \n",
       "2    1234200  \n",
       "3    1234200  \n",
       "4    1713900  \n",
       "..       ...  \n",
       "278  1066500  \n",
       "279  1070000  \n",
       "280   995100  \n",
       "281  1721600  \n",
       "282  3098700  \n",
       "\n",
       "[283 rows x 7 columns]"
      ]
     },
     "execution_count": 106,
     "metadata": {},
     "output_type": "execute_result"
    }
   ],
   "source": [
    "DE"
   ]
  },
  {
   "cell_type": "code",
   "execution_count": 107,
   "metadata": {},
   "outputs": [],
   "source": [
    "#DE = DE[['Date', 'Close']]\n",
    "new_df = DE.filter(['Close'])\n",
    "last_60_days= new_df[-60:].values\n",
    "last_60_days_scaled = scaler.transform(last_60_days)"
   ]
  },
  {
   "cell_type": "code",
   "execution_count": 108,
   "metadata": {},
   "outputs": [
    {
     "data": {
      "text/plain": [
       "array([[216.45085]], dtype=float32)"
      ]
     },
     "execution_count": 108,
     "metadata": {},
     "output_type": "execute_result"
    }
   ],
   "source": [
    "X_test = []\n",
    "X_test.append(last_60_days_scaled)\n",
    "X_test = np.array(X_test)\n",
    "X_test = np.reshape(X_test, (X_test.shape[0], X_test.shape[1], 1))\n",
    "pred_price = model.predict(X_test)\n",
    "pred_price = scaler.inverse_transform(pred_price)\n",
    "pred_price\n",
    "#array([[226.60133]] with yahoo\n",
    "# array([[216.45085]] with SelimT data"
   ]
  },
  {
   "cell_type": "code",
   "execution_count": 93,
   "metadata": {},
   "outputs": [],
   "source": [
    "## FE prediction\n",
    "### Predicting for FE company \n",
    "FE = pd.read_csv('C:/Users/Asus/Documents/SALTANAT/fds/Homework01_algo_trading/Data/FE.csv')  "
   ]
  },
  {
   "cell_type": "code",
   "execution_count": 94,
   "metadata": {},
   "outputs": [],
   "source": [
    "new_df = FE.filter(['Close'])\n",
    "last_60_days= new_df[-60:].values\n",
    "last_60_days_scaled = scaler.transform(last_60_days)"
   ]
  },
  {
   "cell_type": "code",
   "execution_count": 95,
   "metadata": {},
   "outputs": [
    {
     "data": {
      "text/plain": [
       "array([[31.790964]], dtype=float32)"
      ]
     },
     "execution_count": 95,
     "metadata": {},
     "output_type": "execute_result"
    }
   ],
   "source": [
    "X_test = []\n",
    "X_test.append(last_60_days_scaled)\n",
    "X_test = np.array(X_test)\n",
    "X_test = np.reshape(X_test, (X_test.shape[0], X_test.shape[1], 1))\n",
    "pred_price = model.predict(X_test)\n",
    "pred_price = scaler.inverse_transform(pred_price)\n",
    "pred_price"
   ]
  },
  {
   "cell_type": "code",
   "execution_count": 96,
   "metadata": {},
   "outputs": [
    {
     "data": {
      "text/html": [
       "<div>\n",
       "<style scoped>\n",
       "    .dataframe tbody tr th:only-of-type {\n",
       "        vertical-align: middle;\n",
       "    }\n",
       "\n",
       "    .dataframe tbody tr th {\n",
       "        vertical-align: top;\n",
       "    }\n",
       "\n",
       "    .dataframe thead th {\n",
       "        text-align: right;\n",
       "    }\n",
       "</style>\n",
       "<table border=\"1\" class=\"dataframe\">\n",
       "  <thead>\n",
       "    <tr style=\"text-align: right;\">\n",
       "      <th></th>\n",
       "      <th>Date</th>\n",
       "      <th>Open</th>\n",
       "      <th>High</th>\n",
       "      <th>Low</th>\n",
       "      <th>Close</th>\n",
       "      <th>Adj Close</th>\n",
       "      <th>Volume</th>\n",
       "    </tr>\n",
       "  </thead>\n",
       "  <tbody>\n",
       "    <tr>\n",
       "      <th>0</th>\n",
       "      <td>2020-01-02</td>\n",
       "      <td>48.560001</td>\n",
       "      <td>48.560001</td>\n",
       "      <td>47.200001</td>\n",
       "      <td>47.529999</td>\n",
       "      <td>44.935558</td>\n",
       "      <td>4639300</td>\n",
       "    </tr>\n",
       "    <tr>\n",
       "      <th>1</th>\n",
       "      <td>2020-01-03</td>\n",
       "      <td>47.400002</td>\n",
       "      <td>47.660000</td>\n",
       "      <td>47.320000</td>\n",
       "      <td>47.459999</td>\n",
       "      <td>44.869385</td>\n",
       "      <td>2970900</td>\n",
       "    </tr>\n",
       "    <tr>\n",
       "      <th>2</th>\n",
       "      <td>2020-01-06</td>\n",
       "      <td>47.500000</td>\n",
       "      <td>47.709999</td>\n",
       "      <td>47.330002</td>\n",
       "      <td>47.549999</td>\n",
       "      <td>44.954468</td>\n",
       "      <td>2474900</td>\n",
       "    </tr>\n",
       "    <tr>\n",
       "      <th>3</th>\n",
       "      <td>2020-01-07</td>\n",
       "      <td>47.320000</td>\n",
       "      <td>47.689999</td>\n",
       "      <td>47.240002</td>\n",
       "      <td>47.520000</td>\n",
       "      <td>44.926109</td>\n",
       "      <td>2187700</td>\n",
       "    </tr>\n",
       "    <tr>\n",
       "      <th>4</th>\n",
       "      <td>2020-01-08</td>\n",
       "      <td>47.650002</td>\n",
       "      <td>47.860001</td>\n",
       "      <td>47.509998</td>\n",
       "      <td>47.619999</td>\n",
       "      <td>45.020645</td>\n",
       "      <td>2700000</td>\n",
       "    </tr>\n",
       "    <tr>\n",
       "      <th>...</th>\n",
       "      <td>...</td>\n",
       "      <td>...</td>\n",
       "      <td>...</td>\n",
       "      <td>...</td>\n",
       "      <td>...</td>\n",
       "      <td>...</td>\n",
       "      <td>...</td>\n",
       "    </tr>\n",
       "    <tr>\n",
       "      <th>278</th>\n",
       "      <td>2021-02-09</td>\n",
       "      <td>32.169998</td>\n",
       "      <td>32.529999</td>\n",
       "      <td>31.930000</td>\n",
       "      <td>32.529999</td>\n",
       "      <td>32.529999</td>\n",
       "      <td>3660200</td>\n",
       "    </tr>\n",
       "    <tr>\n",
       "      <th>279</th>\n",
       "      <td>2021-02-10</td>\n",
       "      <td>32.709999</td>\n",
       "      <td>32.709999</td>\n",
       "      <td>31.559999</td>\n",
       "      <td>31.750000</td>\n",
       "      <td>31.750000</td>\n",
       "      <td>5120200</td>\n",
       "    </tr>\n",
       "    <tr>\n",
       "      <th>280</th>\n",
       "      <td>2021-02-11</td>\n",
       "      <td>31.879999</td>\n",
       "      <td>31.930000</td>\n",
       "      <td>31.000000</td>\n",
       "      <td>31.120001</td>\n",
       "      <td>31.120001</td>\n",
       "      <td>4589700</td>\n",
       "    </tr>\n",
       "    <tr>\n",
       "      <th>281</th>\n",
       "      <td>2021-02-12</td>\n",
       "      <td>31.030001</td>\n",
       "      <td>31.400000</td>\n",
       "      <td>31.000000</td>\n",
       "      <td>31.240000</td>\n",
       "      <td>31.240000</td>\n",
       "      <td>2494800</td>\n",
       "    </tr>\n",
       "    <tr>\n",
       "      <th>282</th>\n",
       "      <td>2021-02-16</td>\n",
       "      <td>31.389999</td>\n",
       "      <td>32.119999</td>\n",
       "      <td>31.170000</td>\n",
       "      <td>31.930000</td>\n",
       "      <td>31.930000</td>\n",
       "      <td>5212900</td>\n",
       "    </tr>\n",
       "  </tbody>\n",
       "</table>\n",
       "<p>283 rows × 7 columns</p>\n",
       "</div>"
      ],
      "text/plain": [
       "           Date       Open       High        Low      Close  Adj Close  \\\n",
       "0    2020-01-02  48.560001  48.560001  47.200001  47.529999  44.935558   \n",
       "1    2020-01-03  47.400002  47.660000  47.320000  47.459999  44.869385   \n",
       "2    2020-01-06  47.500000  47.709999  47.330002  47.549999  44.954468   \n",
       "3    2020-01-07  47.320000  47.689999  47.240002  47.520000  44.926109   \n",
       "4    2020-01-08  47.650002  47.860001  47.509998  47.619999  45.020645   \n",
       "..          ...        ...        ...        ...        ...        ...   \n",
       "278  2021-02-09  32.169998  32.529999  31.930000  32.529999  32.529999   \n",
       "279  2021-02-10  32.709999  32.709999  31.559999  31.750000  31.750000   \n",
       "280  2021-02-11  31.879999  31.930000  31.000000  31.120001  31.120001   \n",
       "281  2021-02-12  31.030001  31.400000  31.000000  31.240000  31.240000   \n",
       "282  2021-02-16  31.389999  32.119999  31.170000  31.930000  31.930000   \n",
       "\n",
       "      Volume  \n",
       "0    4639300  \n",
       "1    2970900  \n",
       "2    2474900  \n",
       "3    2187700  \n",
       "4    2700000  \n",
       "..       ...  \n",
       "278  3660200  \n",
       "279  5120200  \n",
       "280  4589700  \n",
       "281  2494800  \n",
       "282  5212900  \n",
       "\n",
       "[283 rows x 7 columns]"
      ]
     },
     "execution_count": 96,
     "metadata": {},
     "output_type": "execute_result"
    }
   ],
   "source": [
    "FE"
   ]
  },
  {
   "cell_type": "code",
   "execution_count": 98,
   "metadata": {},
   "outputs": [
    {
     "name": "stdout",
     "output_type": "stream",
     "text": [
      "60\n",
      "61\n",
      "62\n",
      "63\n",
      "64\n",
      "65\n",
      "66\n",
      "67\n",
      "68\n",
      "69\n",
      "70\n",
      "71\n",
      "72\n",
      "73\n",
      "74\n",
      "75\n",
      "76\n",
      "77\n",
      "78\n",
      "79\n",
      "80\n",
      "81\n",
      "82\n",
      "83\n",
      "84\n",
      "85\n",
      "86\n",
      "87\n",
      "88\n",
      "89\n",
      "90\n",
      "91\n",
      "92\n",
      "93\n",
      "94\n",
      "95\n",
      "96\n",
      "97\n",
      "98\n",
      "99\n"
     ]
    }
   ],
   "source": [
    "for i in range(60, 100):\n",
    "    print(i)"
   ]
  },
  {
   "cell_type": "code",
   "execution_count": 4,
   "metadata": {},
   "outputs": [],
   "source": [
    "import math\n",
    "import pandas_datareader as web\n",
    "import numpy as np\n",
    "import pandas as pd\n",
    "from sklearn.preprocessing import MinMaxScaler\n",
    "from keras.models import Sequential\n",
    "from keras.layers import Dense, LSTM\n",
    "import matplotlib.pyplot as plt\n",
    "plt.style.use('fivethirtyeight')"
   ]
  },
  {
   "cell_type": "code",
   "execution_count": 5,
   "metadata": {},
   "outputs": [
    {
     "name": "stdout",
     "output_type": "stream",
     "text": [
      "[100.92883998]\n"
     ]
    }
   ],
   "source": [
    "from statsmodels.tsa.ar_model import AutoReg\n",
    "from random import random\n",
    "# contrived dataset\n",
    "data = [x + random() for x in range(1, 100)]\n",
    "# fit model\n",
    "model = AutoReg(data, lags=1)\n",
    "model_fit = model.fit()\n",
    "# make prediction\n",
    "yhat = model_fit.predict(len(data), len(data))\n",
    "print(yhat)"
   ]
  },
  {
   "cell_type": "code",
   "execution_count": 70,
   "metadata": {},
   "outputs": [],
   "source": [
    "BHP = web.DataReader('JNJ', data_source='yahoo', start ='2012-01-01', end= '2021-03-15')"
   ]
  },
  {
   "cell_type": "code",
   "execution_count": 71,
   "metadata": {
    "scrolled": true
   },
   "outputs": [
    {
     "name": "stdout",
     "output_type": "stream",
     "text": [
      "2313    159.575014\n",
      "dtype: float64\n"
     ]
    },
    {
     "name": "stderr",
     "output_type": "stream",
     "text": [
      "C:\\Users\\Asus\\anaconda3\\lib\\site-packages\\statsmodels\\tsa\\base\\tsa_model.py:216: ValueWarning: A date index has been provided, but it has no associated frequency information and so will be ignored when e.g. forecasting.\n",
      "  warnings.warn('A date index has been provided, but it has no'\n",
      "C:\\Users\\Asus\\anaconda3\\lib\\site-packages\\statsmodels\\tsa\\base\\tsa_model.py:580: ValueWarning: No supported index is available. Prediction results will be given with an integer index beginning at `start`.\n",
      "  warnings.warn('No supported index is available.'\n"
     ]
    }
   ],
   "source": [
    "\n",
    "# fit model\n",
    "model = AutoReg(BHP['Close'], lags=1)\n",
    "model_fit = model.fit()\n",
    "# make prediction\n",
    "yhat = model_fit.predict(len(BHP), len(BHP))\n",
    "print(yhat)"
   ]
  },
  {
   "cell_type": "code",
   "execution_count": 72,
   "metadata": {},
   "outputs": [
    {
     "name": "stderr",
     "output_type": "stream",
     "text": [
      "C:\\Users\\Asus\\anaconda3\\lib\\site-packages\\statsmodels\\tsa\\base\\tsa_model.py:216: ValueWarning: A date index has been provided, but it has no associated frequency information and so will be ignored when e.g. forecasting.\n",
      "  warnings.warn('A date index has been provided, but it has no'\n",
      "C:\\Users\\Asus\\anaconda3\\lib\\site-packages\\statsmodels\\tsa\\base\\tsa_model.py:216: ValueWarning: A date index has been provided, but it has no associated frequency information and so will be ignored when e.g. forecasting.\n",
      "  warnings.warn('A date index has been provided, but it has no'\n",
      "C:\\Users\\Asus\\anaconda3\\lib\\site-packages\\statsmodels\\tsa\\base\\tsa_model.py:216: ValueWarning: A date index has been provided, but it has no associated frequency information and so will be ignored when e.g. forecasting.\n",
      "  warnings.warn('A date index has been provided, but it has no'\n"
     ]
    },
    {
     "name": "stdout",
     "output_type": "stream",
     "text": [
      "2313    136.444085\n",
      "dtype: float64\n"
     ]
    },
    {
     "name": "stderr",
     "output_type": "stream",
     "text": [
      "C:\\Users\\Asus\\anaconda3\\lib\\site-packages\\statsmodels\\tsa\\base\\tsa_model.py:580: ValueWarning: No supported index is available. Prediction results will be given with an integer index beginning at `start`.\n",
      "  warnings.warn('No supported index is available.'\n"
     ]
    }
   ],
   "source": [
    "\n",
    "# MA example\n",
    "from statsmodels.tsa.arima.model import ARIMA\n",
    "from random import random\n",
    "# contrived dataset\n",
    "#data = [x + random() for x in range(1, 100)]\n",
    "# fit model\n",
    "model = ARIMA(BHP['Close'], order=(0, 0, 1))\n",
    "model_fit = model.fit()\n",
    "# make prediction\n",
    "yhat = model_fit.predict(len(BHP), len(BHP))\n",
    "print(yhat)"
   ]
  },
  {
   "cell_type": "code",
   "execution_count": 80,
   "metadata": {},
   "outputs": [
    {
     "ename": "TypeError",
     "evalue": "'numpy.ndarray' object is not callable",
     "output_type": "error",
     "traceback": [
      "\u001b[1;31m---------------------------------------------------------------------------\u001b[0m",
      "\u001b[1;31mTypeError\u001b[0m                                 Traceback (most recent call last)",
      "\u001b[1;32m<ipython-input-80-aa7f1edadeee>\u001b[0m in \u001b[0;36m<module>\u001b[1;34m\u001b[0m\n\u001b[0;32m      1\u001b[0m \u001b[0mnew\u001b[0m \u001b[1;33m=\u001b[0m \u001b[0mBHP\u001b[0m\u001b[1;33m[\u001b[0m\u001b[1;34m'Close'\u001b[0m\u001b[1;33m]\u001b[0m\u001b[1;33m\u001b[0m\u001b[1;33m\u001b[0m\u001b[0m\n\u001b[1;32m----> 2\u001b[1;33m \u001b[0ma\u001b[0m \u001b[1;33m=\u001b[0m \u001b[0mnew\u001b[0m\u001b[1;33m[\u001b[0m\u001b[1;33m-\u001b[0m\u001b[1;36m60\u001b[0m\u001b[1;33m:\u001b[0m\u001b[1;33m]\u001b[0m\u001b[1;33m.\u001b[0m\u001b[0mvalues\u001b[0m\u001b[1;33m(\u001b[0m\u001b[1;33m)\u001b[0m\u001b[1;33m\u001b[0m\u001b[1;33m\u001b[0m\u001b[0m\n\u001b[0m",
      "\u001b[1;31mTypeError\u001b[0m: 'numpy.ndarray' object is not callable"
     ]
    }
   ],
   "source": []
  },
  {
   "cell_type": "code",
   "execution_count": 74,
   "metadata": {},
   "outputs": [
    {
     "name": "stderr",
     "output_type": "stream",
     "text": [
      "C:\\Users\\Asus\\anaconda3\\lib\\site-packages\\statsmodels\\tsa\\base\\tsa_model.py:216: ValueWarning: A date index has been provided, but it has no associated frequency information and so will be ignored when e.g. forecasting.\n",
      "  warnings.warn('A date index has been provided, but it has no'\n",
      "C:\\Users\\Asus\\anaconda3\\lib\\site-packages\\statsmodels\\tsa\\base\\tsa_model.py:216: ValueWarning: A date index has been provided, but it has no associated frequency information and so will be ignored when e.g. forecasting.\n",
      "  warnings.warn('A date index has been provided, but it has no'\n",
      "C:\\Users\\Asus\\anaconda3\\lib\\site-packages\\statsmodels\\tsa\\base\\tsa_model.py:216: ValueWarning: A date index has been provided, but it has no associated frequency information and so will be ignored when e.g. forecasting.\n",
      "  warnings.warn('A date index has been provided, but it has no'\n"
     ]
    },
    {
     "name": "stdout",
     "output_type": "stream",
     "text": [
      "2313    159.551857\n",
      "dtype: float64\n"
     ]
    },
    {
     "name": "stderr",
     "output_type": "stream",
     "text": [
      "C:\\Users\\Asus\\anaconda3\\lib\\site-packages\\statsmodels\\tsa\\base\\tsa_model.py:580: ValueWarning: No supported index is available. Prediction results will be given with an integer index beginning at `start`.\n",
      "  warnings.warn('No supported index is available.'\n"
     ]
    }
   ],
   "source": [
    "from statsmodels.tsa.arima.model import ARIMA\n",
    "from random import random\n",
    "# contrived dataset\n",
    "#data = [x + random() for x in range(1, 100)]\n",
    "# fit model\n",
    "model = ARIMA(BHP['Close'], order=(1, 1, 1))\n",
    "model_fit = model.fit()\n",
    "# make prediction\n",
    "yhat = model_fit.predict(len(BHP), len(BHP), typ='levels')\n",
    "print(yhat)"
   ]
  },
  {
   "cell_type": "code",
   "execution_count": 75,
   "metadata": {},
   "outputs": [
    {
     "data": {
      "text/plain": [
       "29.909695"
      ]
     },
     "execution_count": 75,
     "metadata": {},
     "output_type": "execute_result"
    }
   ],
   "source": [
    "29.909695"
   ]
  },
  {
   "cell_type": "code",
   "execution_count": null,
   "metadata": {},
   "outputs": [],
   "source": [
    "133.889661"
   ]
  }
 ],
 "metadata": {
  "kernelspec": {
   "display_name": "Python 3",
   "language": "python",
   "name": "python3"
  },
  "language_info": {
   "codemirror_mode": {
    "name": "ipython",
    "version": 3
   },
   "file_extension": ".py",
   "mimetype": "text/x-python",
   "name": "python",
   "nbconvert_exporter": "python",
   "pygments_lexer": "ipython3",
   "version": "3.8.3"
  }
 },
 "nbformat": 4,
 "nbformat_minor": 4
}
