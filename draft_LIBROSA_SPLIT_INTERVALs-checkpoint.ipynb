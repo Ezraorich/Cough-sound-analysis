{
 "cells": [
  {
   "cell_type": "code",
   "execution_count": 1,
   "metadata": {},
   "outputs": [],
   "source": [
    "import os\n",
    "from tqdm import tqdm\n",
    "import pandas as pd\n",
    "import numpy as np\n",
    "import matplotlib.pyplot as plt\n",
    "from scipy.io import wavfile\n",
    "from python_speech_features import mfcc, logfbank\n",
    "import librosa\n",
    "from glob import glob\n",
    "\n",
    "import librosa as lr\n"
   ]
  },
  {
   "cell_type": "code",
   "execution_count": 87,
   "metadata": {},
   "outputs": [],
   "source": [
    "DATA_DIR='C:/Users/Asus/Documents/COVID19/newwav/'\n",
    "filenames =glob(DATA_DIR + '/*.wav')"
   ]
  },
  {
   "cell_type": "code",
   "execution_count": 2,
   "metadata": {},
   "outputs": [
    {
     "data": {
      "text/plain": [
       "'1586793423518'"
      ]
     },
     "execution_count": 2,
     "metadata": {},
     "output_type": "execute_result"
    }
   ],
   "source": [
    "#file_path = 'C:/Users/Asus/Documents/COVID19/newwav/1588311962576.wav'\n",
    "def get_sound_id_from_file_path(file_path):\n",
    "    a = file_path.split('/')[-1][:-4]\n",
    "    #n = int(a)\n",
    "    #b = [n]\n",
    "    #sound_id = []\n",
    "    #sound_id.append(file_path.split('/')[-1][:-4])\n",
    "    return a\n",
    "get_sound_id_from_file_path('C:/Users/Asus/Documents/COVID19/testwav/1586793423518.wav')"
   ]
  },
  {
   "cell_type": "code",
   "execution_count": 3,
   "metadata": {},
   "outputs": [],
   "source": [
    "def get_data_files():\n",
    "    # we will be leaving some files out, on purpose. Do not change this function!\n",
    "    return [os.path.join(DATA_DIR, x) for x in sorted(os.listdir(DATA_DIR)) ]"
   ]
  },
  {
   "cell_type": "code",
   "execution_count": 6,
   "metadata": {
    "scrolled": true
   },
   "outputs": [
    {
     "name": "stderr",
     "output_type": "stream",
     "text": [
      "C:\\Users\\Asus\\anaconda3\\lib\\site-packages\\pydub\\utils.py:170: RuntimeWarning: Couldn't find ffmpeg or avconv - defaulting to ffmpeg, but may not work\n",
      "  warn(\"Couldn't find ffmpeg or avconv - defaulting to ffmpeg, but may not work\", RuntimeWarning)\n"
     ]
    },
    {
     "ename": "NameError",
     "evalue": "name 'make_chunks' is not defined",
     "output_type": "error",
     "traceback": [
      "\u001b[1;31m---------------------------------------------------------------------------\u001b[0m",
      "\u001b[1;31mNameError\u001b[0m                                 Traceback (most recent call last)",
      "\u001b[1;32m<ipython-input-6-02a064c50f38>\u001b[0m in \u001b[0;36m<module>\u001b[1;34m\u001b[0m\n\u001b[0;32m      5\u001b[0m \u001b[0mchunk_length_ms\u001b[0m \u001b[1;33m=\u001b[0m \u001b[1;36m500\u001b[0m\u001b[1;33m\u001b[0m\u001b[1;33m\u001b[0m\u001b[0m\n\u001b[0;32m      6\u001b[0m \u001b[1;33m\u001b[0m\u001b[0m\n\u001b[1;32m----> 7\u001b[1;33m \u001b[0mchunks\u001b[0m \u001b[1;33m=\u001b[0m \u001b[0mmake_chunks\u001b[0m\u001b[1;33m(\u001b[0m\u001b[0mmyaudio\u001b[0m\u001b[1;33m,\u001b[0m \u001b[0mchunk_length_ms\u001b[0m\u001b[1;33m)\u001b[0m\u001b[1;33m\u001b[0m\u001b[1;33m\u001b[0m\u001b[0m\n\u001b[0m\u001b[0;32m      8\u001b[0m \u001b[0msilence_thresh\u001b[0m\u001b[1;33m=\u001b[0m\u001b[1;33m-\u001b[0m\u001b[1;36m16\u001b[0m\u001b[1;33m\u001b[0m\u001b[1;33m\u001b[0m\u001b[0m\n\u001b[0;32m      9\u001b[0m \u001b[1;31m#chunks = split_on_silence(sound,\u001b[0m\u001b[1;33m\u001b[0m\u001b[1;33m\u001b[0m\u001b[1;33m\u001b[0m\u001b[0m\n",
      "\u001b[1;31mNameError\u001b[0m: name 'make_chunks' is not defined"
     ]
    }
   ],
   "source": [
    "from pydub import AudioSegment\n",
    "from pydub.silence import split_on_silence\n",
    "\n",
    "sound = AudioSegment.from_file(\"C:/Users/Asus/Documents/COVID19/testwav/1586793423518.wav\", \"wav\")\n",
    "chunk_length_ms = 500\n",
    "\n",
    "chunks = make_chunks(myaudio, chunk_length_ms)\n",
    "silence_thresh=-16\n",
    "#chunks = split_on_silence(sound, \n",
    "    # must be silent for at least half a second\n",
    "    #min_silence_len=500,\n",
    "\n",
    "    # consider it silent if quieter than -16 dBFS\n",
    "    #silence_thresh=-16)"
   ]
  },
  {
   "cell_type": "code",
   "execution_count": 26,
   "metadata": {},
   "outputs": [],
   "source": [
    "### this code splits the audio for 0.5 seconds. works well. "
   ]
  },
  {
   "cell_type": "code",
   "execution_count": 27,
   "metadata": {},
   "outputs": [],
   "source": [
    "from pydub import AudioSegment\n",
    "from pydub.utils import make_chunks\n",
    "\n",
    "myaudio = AudioSegment.from_file(\"C:/Users/Asus/Documents/COVID19/testwav/1586850463146.wav\" , \"wav\") \n",
    "chunk_length_ms = 5000 # pydub calculates in millisec\n",
    "chunks = make_chunks(myaudio, chunk_length_ms) #Make chunks of one sec"
   ]
  },
  {
   "cell_type": "code",
   "execution_count": 28,
   "metadata": {},
   "outputs": [],
   "source": [
    "###this code exports very well"
   ]
  },
  {
   "cell_type": "code",
   "execution_count": 29,
   "metadata": {},
   "outputs": [],
   "source": [
    "for i, chunk in enumerate(chunks):\n",
    "    chunk.export(\"C:/Users/Asus/Documents/COVID19/chunks/chunk{0}.wav\".format(i), format=\"wav\")"
   ]
  },
  {
   "cell_type": "code",
   "execution_count": 30,
   "metadata": {},
   "outputs": [],
   "source": [
    "## this code splits the audio for non silent intervals. but in numpy array. works good. "
   ]
  },
  {
   "cell_type": "code",
   "execution_count": 13,
   "metadata": {},
   "outputs": [],
   "source": [
    "\n",
    "y, sr = librosa.load('C:/Users/Asus/Documents/COVID19/testwav/1605574542532.wav')\n",
    "dur  =  librosa.get_duration(y=y, sr=sr)\n",
    "#buffer = 'C:/Users/Asus/Documents/COVID19/chunks/'\n",
    "chunks  = librosa.effects.split(y, frame_length=8000, top_db=40)"
   ]
  },
  {
   "cell_type": "code",
   "execution_count": 14,
   "metadata": {},
   "outputs": [
    {
     "data": {
      "text/plain": [
       "array([[ 61440,  68096],\n",
       "       [ 72704, 298496],\n",
       "       [317440, 324608],\n",
       "       [326656, 446976]])"
      ]
     },
     "execution_count": 14,
     "metadata": {},
     "output_type": "execute_result"
    }
   ],
   "source": [
    "chunks"
   ]
  },
  {
   "cell_type": "code",
   "execution_count": 55,
   "metadata": {},
   "outputs": [],
   "source": [
    "import soundfile as sf\n",
    "sf.write('C:/Users/Asus/Documents/COVID19/chunks/file_trim_5s.wav', b,  44100, 'PCM_24')"
   ]
  },
  {
   "cell_type": "code",
   "execution_count": 56,
   "metadata": {},
   "outputs": [
    {
     "data": {
      "text/plain": [
       "10.24"
      ]
     },
     "execution_count": 56,
     "metadata": {},
     "output_type": "execute_result"
    }
   ],
   "source": [
    "a = y[61440: 68096]\n",
    "b= y[72704: 298496]\n",
    "duration= b.size/sr\n",
    "duration"
   ]
  },
  {
   "cell_type": "code",
   "execution_count": 57,
   "metadata": {},
   "outputs": [
    {
     "data": {
      "text/plain": [
       "0.301859410430839"
      ]
     },
     "execution_count": 57,
     "metadata": {},
     "output_type": "execute_result"
    }
   ],
   "source": [
    "#Compute the duration (in seconds) of an audio time series, feature matrix, or filename.\n",
    "librosa.get_duration(y=a, sr=sr)"
   ]
  },
  {
   "cell_type": "code",
   "execution_count": 49,
   "metadata": {},
   "outputs": [
    {
     "data": {
      "text/plain": [
       "[<matplotlib.lines.Line2D at 0x269bd7d6100>]"
      ]
     },
     "execution_count": 49,
     "metadata": {},
     "output_type": "execute_result"
    },
    {
     "data": {
      "image/png": "[encoded data removed]",
      "text/plain": [
       "<Figure size 432x288 with 1 Axes>"
      ]
     },
     "metadata": {
      "needs_background": "light"
     },
     "output_type": "display_data"
    }
   ],
   "source": [
    "plt.plot(a)"
   ]
  },
  {
   "cell_type": "code",
   "execution_count": 39,
   "metadata": {},
   "outputs": [
    {
     "data": {
      "text/plain": [
       "[<matplotlib.lines.Line2D at 0x269ba7678b0>]"
      ]
     },
     "execution_count": 39,
     "metadata": {},
     "output_type": "execute_result"
    },
    {
     "data": {
      "image/png": "[encoded data removed]",
      "text/plain": [
       "<Figure size 432x288 with 1 Axes>"
      ]
     },
     "metadata": {
      "needs_background": "light"
     },
     "output_type": "display_data"
    }
   ],
   "source": [
    "plt.plot(y[72704: 298496])\n"
   ]
  },
  {
   "cell_type": "code",
   "execution_count": 38,
   "metadata": {},
   "outputs": [
    {
     "data": {
      "text/plain": [
       "[<matplotlib.lines.Line2D at 0x269ba392700>]"
      ]
     },
     "execution_count": 38,
     "metadata": {},
     "output_type": "execute_result"
    },
    {
     "data": {
      "image/png": "[encoded data removed]",
      "text/plain": [
       "<Figure size 432x288 with 1 Axes>"
      ]
     },
     "metadata": {
      "needs_background": "light"
     },
     "output_type": "display_data"
    }
   ],
   "source": [
    "plt.plot(y)"
   ]
  },
  {
   "cell_type": "code",
   "execution_count": 17,
   "metadata": {},
   "outputs": [
    {
     "data": {
      "text/plain": [
       "[<matplotlib.lines.Line2D at 0x269b99294f0>]"
      ]
     },
     "execution_count": 17,
     "metadata": {},
     "output_type": "execute_result"
    },
    {
     "data": {
      "image/png": "[encoded data removed]",
      "text/plain": [
       "<Figure size 432x288 with 1 Axes>"
      ]
     },
     "metadata": {
      "needs_background": "light"
     },
     "output_type": "display_data"
    }
   ],
   "source": [
    "plt.plot(y[61952:104960])"
   ]
  },
  {
   "cell_type": "code",
   "execution_count": 32,
   "metadata": {},
   "outputs": [],
   "source": [
    "ch = librosa.effects.trim(y, frame_length=8000, top_db=40)"
   ]
  },
  {
   "cell_type": "code",
   "execution_count": 34,
   "metadata": {},
   "outputs": [
    {
     "data": {
      "text/plain": [
       "(array([-6.8263750e-04, -3.8044850e-04, -4.6839140e-04, ...,\n",
       "        -5.1293915e-05,  3.8127913e-05, -9.6492746e-05], dtype=float32),\n",
       " array([ 21504, 104960]))"
      ]
     },
     "execution_count": 34,
     "metadata": {},
     "output_type": "execute_result"
    }
   ],
   "source": [
    "ch"
   ]
  },
  {
   "cell_type": "code",
   "execution_count": 38,
   "metadata": {},
   "outputs": [
    {
     "data": {
      "text/plain": [
       "[<matplotlib.lines.Line2D at 0x255c10516a0>]"
      ]
     },
     "execution_count": 38,
     "metadata": {},
     "output_type": "execute_result"
    },
    {
     "data": {
      "image/png": "[encoded data removed]",
      "text/plain": [
       "<Figure size 432x288 with 1 Axes>"
      ]
     },
     "metadata": {
      "needs_background": "light"
     },
     "output_type": "display_data"
    }
   ],
   "source": [
    "plt.plot(ch[0])"
   ]
  },
  {
   "cell_type": "code",
   "execution_count": 39,
   "metadata": {},
   "outputs": [
    {
     "data": {
      "image/png": "[encoded data removed]",
      "text/plain": [
       "<Figure size 432x288 with 1 Axes>"
      ]
     },
     "metadata": {
      "needs_background": "light"
     },
     "output_type": "display_data"
    }
   ],
   "source": [
    "sample_rate, audio = wavfile.read(\"C:/Users/Asus/Documents/COVID19/testwav/1586850463146.wav\")\n",
    "\n",
    "plt.plot(audio);"
   ]
  },
  {
   "cell_type": "code",
   "execution_count": 44,
   "metadata": {},
   "outputs": [
    {
     "name": "stdout",
     "output_type": "stream",
     "text": [
      "Audio chunks generated  []\n"
     ]
    }
   ],
   "source": [
    "import pydub\n",
    "from pydub import AudioSegment\n",
    "from pydub.silence import split_on_silence\n",
    "\n",
    "sound_file = AudioSegment.from_wav('C:/Users/Asus/Documents/COVID19/testwav/1586793423518.wav')\n",
    "audio_chunks = pydub.silence.split_on_silence(sound_file)\n",
    "sound_file.export('C:/Users/Asus/Documents/COVID19/chunks/chunk{0}.wav', format=\"wav\")\n",
    "print(\"Audio chunks generated \", audio_chunks)"
   ]
  },
  {
   "cell_type": "code",
   "execution_count": 63,
   "metadata": {},
   "outputs": [],
   "source": [
    "data_dir ='C:/Users/Asus/Documents/COVID19/newwav/'\n",
    "audio_files =glob(data_dir + '/*.wav')\n",
    "#audio_files[1]\n",
    "df=[]\n",
    "for i in range (0,len(df)):\n",
    "    y, sr = librosa.load(audio_files[i])\n",
    "    duration= y.size/sr\n",
    "    df.at[i,'time']=duration\n",
    "    df.append()"
   ]
  },
  {
   "cell_type": "code",
   "execution_count": 69,
   "metadata": {},
   "outputs": [
    {
     "data": {
      "text/html": [
       "<div>\n",
       "<style scoped>\n",
       "    .dataframe tbody tr th:only-of-type {\n",
       "        vertical-align: middle;\n",
       "    }\n",
       "\n",
       "    .dataframe tbody tr th {\n",
       "        vertical-align: top;\n",
       "    }\n",
       "\n",
       "    .dataframe thead th {\n",
       "        text-align: right;\n",
       "    }\n",
       "</style>\n",
       "<table border=\"1\" class=\"dataframe\">\n",
       "  <thead>\n",
       "    <tr style=\"text-align: right;\">\n",
       "      <th></th>\n",
       "      <th>0</th>\n",
       "    </tr>\n",
       "  </thead>\n",
       "  <tbody>\n",
       "    <tr>\n",
       "      <th>1586793423518</th>\n",
       "      <td>5.040000</td>\n",
       "    </tr>\n",
       "    <tr>\n",
       "      <th>1586850463146</th>\n",
       "      <td>5.040000</td>\n",
       "    </tr>\n",
       "    <tr>\n",
       "      <th>1587042586994</th>\n",
       "      <td>5.040000</td>\n",
       "    </tr>\n",
       "    <tr>\n",
       "      <th>1587206042393</th>\n",
       "      <td>3.800000</td>\n",
       "    </tr>\n",
       "    <tr>\n",
       "      <th>1587206113525</th>\n",
       "      <td>5.080000</td>\n",
       "    </tr>\n",
       "    <tr>\n",
       "      <th>...</th>\n",
       "      <td>...</td>\n",
       "    </tr>\n",
       "    <tr>\n",
       "      <th>1605546575765</th>\n",
       "      <td>5.040000</td>\n",
       "    </tr>\n",
       "    <tr>\n",
       "      <th>1605568024007</th>\n",
       "      <td>16.128027</td>\n",
       "    </tr>\n",
       "    <tr>\n",
       "      <th>1605574542532</th>\n",
       "      <td>20.480000</td>\n",
       "    </tr>\n",
       "    <tr>\n",
       "      <th>1605577878440</th>\n",
       "      <td>5.040000</td>\n",
       "    </tr>\n",
       "    <tr>\n",
       "      <th>1605585337340</th>\n",
       "      <td>5.040000</td>\n",
       "    </tr>\n",
       "  </tbody>\n",
       "</table>\n",
       "<p>288 rows × 1 columns</p>\n",
       "</div>"
      ],
      "text/plain": [
       "                       0\n",
       "1586793423518   5.040000\n",
       "1586850463146   5.040000\n",
       "1587042586994   5.040000\n",
       "1587206042393   3.800000\n",
       "1587206113525   5.080000\n",
       "...                  ...\n",
       "1605546575765   5.040000\n",
       "1605568024007  16.128027\n",
       "1605574542532  20.480000\n",
       "1605577878440   5.040000\n",
       "1605585337340   5.040000\n",
       "\n",
       "[288 rows x 1 columns]"
      ]
     },
     "execution_count": 69,
     "metadata": {},
     "output_type": "execute_result"
    }
   ],
   "source": [
    "onesound = []\n",
    "myDict = {}\n",
    "    \n",
    "for i in get_data_files():\n",
    "    val = []\n",
    "        \n",
    "    key = get_sound_id_from_file_path(i)\n",
    "            \n",
    "        \n",
    "        \n",
    "    y, sr = librosa.load(i)\n",
    "    dur  =  librosa.get_duration(y=y, sr=sr)\n",
    "    \n",
    "        #asd = len(val)\n",
    "    #onesound.append(dur)\n",
    "    myDict[key] = val\n",
    "    val.append(dur)\n",
    "        #print( dur )\n",
    "            \n",
    "    df = pd.DataFrame.from_dict(myDict,orient='index')\n",
    "df"
   ]
  },
  {
   "cell_type": "code",
   "execution_count": 56,
   "metadata": {},
   "outputs": [
    {
     "data": {
      "text/plain": [
       "[5.04, 5.04, 5.04, 3.8, 5.08]"
      ]
     },
     "execution_count": 56,
     "metadata": {},
     "output_type": "execute_result"
    }
   ],
   "source": [
    "onesound"
   ]
  },
  {
   "cell_type": "markdown",
   "metadata": {},
   "source": [
    "# Task\n",
    "1.get rid of beginning and ending silent parts \n",
    "\n",
    "\n",
    "2.split audio to 5 second suration wav files. "
   ]
  },
  {
   "cell_type": "code",
   "execution_count": 5,
   "metadata": {},
   "outputs": [
    {
     "name": "stderr",
     "output_type": "stream",
     "text": [
      "C:\\Users\\Asus\\anaconda3\\lib\\site-packages\\pydub\\utils.py:170: RuntimeWarning: Couldn't find ffmpeg or avconv - defaulting to ffmpeg, but may not work\n",
      "  warn(\"Couldn't find ffmpeg or avconv - defaulting to ffmpeg, but may not work\", RuntimeWarning)\n"
     ]
    }
   ],
   "source": [
    "from pydub import AudioSegment\n",
    "\n",
    "\n",
    "def detect_leading_silence(sound, silence_threshold=-50.0, chunk_size=10):\n",
    "    '''\n",
    "    sound is a pydub.AudioSegment\n",
    "    silence_threshold in dB\n",
    "    chunk_size in ms\n",
    "    iterate over chunks until you find the first one with sound\n",
    "    '''\n",
    "    trim_ms = 0  # ms\n",
    "    while sound[trim_ms:trim_ms+chunk_size].dBFS < silence_threshold:\n",
    "        trim_ms += chunk_size\n",
    "\n",
    "    return trim_ms\n",
    "\n",
    "\n",
    "\n",
    "    "
   ]
  },
  {
   "cell_type": "code",
   "execution_count": 6,
   "metadata": {},
   "outputs": [
    {
     "data": {
      "text/plain": [
       "<_io.BufferedRandom name='C:/Users/Asus/Documents/COVID19/chunks/12.wav'>"
      ]
     },
     "execution_count": 6,
     "metadata": {},
     "output_type": "execute_result"
    }
   ],
   "source": [
    "sound = AudioSegment.from_file('C:/Users/Asus/Documents/COVID19/testwav/1586850463146.wav', format=\"wav\")\n",
    "\n",
    "start_trim = detect_leading_silence(sound)\n",
    "end_trim = detect_leading_silence(sound.reverse())\n",
    "\n",
    "duration = len(sound)\n",
    "end = duration - end_trim\n",
    "trimmed_sound = sound[start_trim: end ]\n",
    "trimmed_sound.export('C:/Users/Asus/Documents/COVID19/chunks/12.wav', format=\"wav\")"
   ]
  },
  {
   "cell_type": "markdown",
   "metadata": {},
   "source": [
    "## Implementation of task 1. \n",
    "## No silent beginnings in the sound."
   ]
  },
  {
   "cell_type": "code",
   "execution_count": 7,
   "metadata": {},
   "outputs": [
    {
     "data": {
      "text/plain": [
       "<_io.BufferedRandom name='C:/Users/Asus/Documents/COVID19/chunks/45552.wav'>"
      ]
     },
     "execution_count": 7,
     "metadata": {},
     "output_type": "execute_result"
    }
   ],
   "source": [
    "sound = AudioSegment.from_file( 'C:/Users/Asus/Documents/COVID19/testwav/1586850463146.wav', format=\"wav\")\n",
    "\n",
    "start_trim = detect_leading_silence(sound)\n",
    "end_trim = detect_leading_silence(sound.reverse())\n",
    "\n",
    "duration = len(sound)\n",
    "end = duration - end_trim\n",
    "trimmed_sound = sound[start_trim: end ]\n",
    "trimmed_sound.export('C:/Users/Asus/Documents/COVID19/chunks/45552.wav', format=\"wav\")\n",
    "    "
   ]
  },
  {
   "cell_type": "code",
   "execution_count": 10,
   "metadata": {},
   "outputs": [],
   "source": [
    "DATA_DIR ='C:/Users/Asus/Documents/COVID19/newwav/'\n",
    "audio_files =glob(DATA_DIR+ '/*.wav')\n",
    "for file in range(0, len(audio_files), 1):\n",
    "    sound = AudioSegment.from_file( audio_files[file], format=\"wav\")\n",
    "\n",
    "    start_trim = detect_leading_silence(sound)\n",
    "    end_trim = detect_leading_silence(sound.reverse())\n",
    "\n",
    "    duration = len(sound)\n",
    "    end = duration - end_trim\n",
    "    trimmed_sound = sound[start_trim: end ]\n",
    "    trimmed_sound.export('C:/Users/Asus/Documents/COVID19/chunks/'+str(file)+'.wav', format=\"wav\")\n",
    "    "
   ]
  },
  {
   "cell_type": "code",
   "execution_count": 11,
   "metadata": {},
   "outputs": [],
   "source": [
    "for i  in get_data_files():\n",
    "    sound = AudioSegment.from_file( i , format=\"wav\")\n",
    "\n",
    "    start_trim = detect_leading_silence(sound)\n",
    "    end_trim = detect_leading_silence(sound.reverse())\n",
    "\n",
    "    duration = len(sound)\n",
    "    end = duration - end_trim\n",
    "    trimmed_sound = sound[start_trim: end ]\n",
    "    trimmed_sound.export('C:/Users/Asus/Documents/COVID19/chunksnew/'+str(get_sound_id_from_file_path(i))+'.wav', format=\"wav\")\n",
    "    \n",
    "    \n",
    "  "
   ]
  },
  {
   "cell_type": "markdown",
   "metadata": {},
   "source": [
    "### Implementation of task 2\n",
    "### Splitting the sound to 2.5 second audio files "
   ]
  },
  {
   "cell_type": "code",
   "execution_count": 14,
   "metadata": {},
   "outputs": [],
   "source": [
    "from pydub import AudioSegment\n",
    "from pydub.utils import make_chunks\n",
    "for i in get_data_files(): \n",
    "    myaudio = AudioSegment.from_file(i , \"wav\") \n",
    "    chunk_length_ms = 2500 # pydub calculates in millisec\n",
    "    chunks = make_chunks(myaudio, chunk_length_ms)\n",
    "    j = get_sound_id_from_file_path(i)#Make chunks of one sec\n",
    "    for i, chunk in enumerate(chunks):\n",
    "        chunk.export('C:/Users/Asus/Documents/COVID19/split_sound/'+j+'_'+str(i)+ '.wav', format=\"wav\")"
   ]
  },
  {
   "cell_type": "code",
   "execution_count": 108,
   "metadata": {},
   "outputs": [],
   "source": []
  },
  {
   "cell_type": "code",
   "execution_count": null,
   "metadata": {},
   "outputs": [],
   "source": []
  }
 ],
 "metadata": {
  "kernelspec": {
   "display_name": "Python 3",
   "language": "python",
   "name": "python3"
  },
  "language_info": {
   "codemirror_mode": {
    "name": "ipython",
    "version": 3
   },
   "file_extension": ".py",
   "mimetype": "text/x-python",
   "name": "python",
   "nbconvert_exporter": "python",
   "pygments_lexer": "ipython3",
   "version": "3.8.10"
  }
 },
 "nbformat": 4,
 "nbformat_minor": 4
}
