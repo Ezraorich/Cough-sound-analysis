{
 "cells": [
  {
   "cell_type": "code",
   "execution_count": 1,
   "metadata": {},
   "outputs": [],
   "source": [
    "### Algorithmic trading homework 2\n",
    "### Saltanat Khalyk"
   ]
  },
  {
   "cell_type": "code",
   "execution_count": 2,
   "metadata": {},
   "outputs": [],
   "source": [
    "###\n",
    "##   10 companies data provided in the homework bundle (year-to-date price data from Yahoo Finance website)\n",
    "###"
   ]
  },
  {
   "cell_type": "code",
   "execution_count": 4,
   "metadata": {},
   "outputs": [],
   "source": [
    "### CHANGE THE LOCATION IN CODE WHERE BHP DATA IS LOCATED::: C:\\Users\\Asus\\Documents\\SALTANAT\\fds\\Homework02\\Data"
   ]
  },
  {
   "cell_type": "code",
   "execution_count": 138,
   "metadata": {},
   "outputs": [],
   "source": [
    "import numpy as np\n",
    "from math import *"
   ]
  },
  {
   "cell_type": "code",
   "execution_count": 28,
   "metadata": {},
   "outputs": [],
   "source": [
    "import pandas as pd\n",
    "\n",
    "BHP = pd.read_csv('C:/Users/Asus/Documents/SALTANAT/fds/Homework02/Data/BHP.csv')\n",
    "DE = pd.read_csv('C:/Users/Asus/Documents/SALTANAT/fds/Homework02/Data/DE.csv')\n",
    "FE = pd.read_csv('C:/Users/Asus/Documents/SALTANAT/fds/Homework02/Data/FE.csv')\n",
    "GOOG = pd.read_csv('C:/Users/Asus/Documents/SALTANAT/fds/Homework02/Data/GOOG.csv')\n",
    "GS = pd.read_csv('C:/Users/Asus/Documents/SALTANAT/fds/Homework02/Data/GS.csv')\n",
    "JNJ = pd.read_csv('C:/Users/Asus/Documents/SALTANAT/fds/Homework02/Data/JNJ.csv')\n",
    "KO = pd.read_csv('C:/Users/Asus/Documents/SALTANAT/fds/Homework02/Data/KO.csv')\n",
    "T = pd.read_csv('C:/Users/Asus/Documents/SALTANAT/fds/Homework02/Data/T.csv')\n",
    "WMT = pd.read_csv('C:/Users/Asus/Documents/SALTANAT/fds/Homework02/Data/WMT.csv')\n",
    "XOM = pd.read_csv('C:/Users/Asus/Documents/SALTANAT/fds/Homework02/Data/XOM.csv')"
   ]
  },
  {
   "cell_type": "code",
   "execution_count": 29,
   "metadata": {
    "scrolled": true
   },
   "outputs": [],
   "source": [
    "DE = DE[['Date','Close']]\n",
    "#DE"
   ]
  },
  {
   "cell_type": "code",
   "execution_count": 30,
   "metadata": {},
   "outputs": [],
   "source": [
    "BHP = BHP[['Close']]\n",
    "FE = FE[['Close']]\n",
    "GOOG = GOOG[['Close']]\n",
    "GS = GS[['Close']]\n",
    "JNJ = JNJ[['Close']]\n",
    "KO = KO[['Close']]\n",
    "T = T[['Close']]\n",
    "WMT = WMT[['Close']]\n",
    "XOM = XOM[['Close']]\n"
   ]
  },
  {
   "cell_type": "code",
   "execution_count": 31,
   "metadata": {},
   "outputs": [],
   "source": [
    "close = pd.concat([DE, BHP, FE, GOOG, GS, JNJ, KO, T, WMT, XOM], axis=1, ignore_index=True)\n",
    "close.columns =['Date','DE', 'BHP', 'FE', 'GOOG', 'GS', 'JNJ', 'KO', 'T', 'WMT', 'XOM']"
   ]
  },
  {
   "cell_type": "code",
   "execution_count": 32,
   "metadata": {},
   "outputs": [
    {
     "data": {
      "text/html": [
       "<div>\n",
       "<style scoped>\n",
       "    .dataframe tbody tr th:only-of-type {\n",
       "        vertical-align: middle;\n",
       "    }\n",
       "\n",
       "    .dataframe tbody tr th {\n",
       "        vertical-align: top;\n",
       "    }\n",
       "\n",
       "    .dataframe thead th {\n",
       "        text-align: right;\n",
       "    }\n",
       "</style>\n",
       "<table border=\"1\" class=\"dataframe\">\n",
       "  <thead>\n",
       "    <tr style=\"text-align: right;\">\n",
       "      <th></th>\n",
       "      <th>Date</th>\n",
       "      <th>DE</th>\n",
       "      <th>BHP</th>\n",
       "      <th>FE</th>\n",
       "      <th>GOOG</th>\n",
       "      <th>GS</th>\n",
       "      <th>JNJ</th>\n",
       "      <th>KO</th>\n",
       "      <th>T</th>\n",
       "      <th>WMT</th>\n",
       "      <th>XOM</th>\n",
       "    </tr>\n",
       "  </thead>\n",
       "  <tbody>\n",
       "    <tr>\n",
       "      <th>0</th>\n",
       "      <td>2021-01-04</td>\n",
       "      <td>267.640015</td>\n",
       "      <td>67.349998</td>\n",
       "      <td>29.510000</td>\n",
       "      <td>1728.239990</td>\n",
       "      <td>265.000000</td>\n",
       "      <td>156.500000</td>\n",
       "      <td>52.759998</td>\n",
       "      <td>29.440001</td>\n",
       "      <td>146.529999</td>\n",
       "      <td>41.500000</td>\n",
       "    </tr>\n",
       "    <tr>\n",
       "      <th>1</th>\n",
       "      <td>2021-01-05</td>\n",
       "      <td>274.279999</td>\n",
       "      <td>69.500000</td>\n",
       "      <td>29.840000</td>\n",
       "      <td>1740.920044</td>\n",
       "      <td>270.929993</td>\n",
       "      <td>158.339996</td>\n",
       "      <td>52.180000</td>\n",
       "      <td>29.260000</td>\n",
       "      <td>145.750000</td>\n",
       "      <td>43.500000</td>\n",
       "    </tr>\n",
       "    <tr>\n",
       "      <th>2</th>\n",
       "      <td>2021-01-06</td>\n",
       "      <td>290.359985</td>\n",
       "      <td>71.709999</td>\n",
       "      <td>30.299999</td>\n",
       "      <td>1735.290039</td>\n",
       "      <td>285.549988</td>\n",
       "      <td>159.830002</td>\n",
       "      <td>50.520000</td>\n",
       "      <td>29.830000</td>\n",
       "      <td>146.660004</td>\n",
       "      <td>44.610001</td>\n",
       "    </tr>\n",
       "    <tr>\n",
       "      <th>3</th>\n",
       "      <td>2021-01-07</td>\n",
       "      <td>299.730011</td>\n",
       "      <td>73.180000</td>\n",
       "      <td>29.629999</td>\n",
       "      <td>1787.250000</td>\n",
       "      <td>291.649994</td>\n",
       "      <td>160.369995</td>\n",
       "      <td>49.959999</td>\n",
       "      <td>29.910000</td>\n",
       "      <td>146.649994</td>\n",
       "      <td>44.959999</td>\n",
       "    </tr>\n",
       "    <tr>\n",
       "      <th>4</th>\n",
       "      <td>2021-01-08</td>\n",
       "      <td>293.910004</td>\n",
       "      <td>73.459999</td>\n",
       "      <td>29.910000</td>\n",
       "      <td>1807.209961</td>\n",
       "      <td>290.079987</td>\n",
       "      <td>160.039993</td>\n",
       "      <td>51.080002</td>\n",
       "      <td>29.020000</td>\n",
       "      <td>146.630005</td>\n",
       "      <td>45.459999</td>\n",
       "    </tr>\n",
       "    <tr>\n",
       "      <th>...</th>\n",
       "      <td>...</td>\n",
       "      <td>...</td>\n",
       "      <td>...</td>\n",
       "      <td>...</td>\n",
       "      <td>...</td>\n",
       "      <td>...</td>\n",
       "      <td>...</td>\n",
       "      <td>...</td>\n",
       "      <td>...</td>\n",
       "      <td>...</td>\n",
       "      <td>...</td>\n",
       "    </tr>\n",
       "    <tr>\n",
       "      <th>63</th>\n",
       "      <td>2021-04-06</td>\n",
       "      <td>375.609985</td>\n",
       "      <td>69.870003</td>\n",
       "      <td>34.799999</td>\n",
       "      <td>2224.750000</td>\n",
       "      <td>327.059998</td>\n",
       "      <td>163.389999</td>\n",
       "      <td>53.189999</td>\n",
       "      <td>30.980000</td>\n",
       "      <td>140.100006</td>\n",
       "      <td>56.340000</td>\n",
       "    </tr>\n",
       "    <tr>\n",
       "      <th>64</th>\n",
       "      <td>2021-04-07</td>\n",
       "      <td>374.790009</td>\n",
       "      <td>71.150002</td>\n",
       "      <td>35.029999</td>\n",
       "      <td>2249.679932</td>\n",
       "      <td>326.549988</td>\n",
       "      <td>163.610001</td>\n",
       "      <td>53.279999</td>\n",
       "      <td>30.930000</td>\n",
       "      <td>139.800003</td>\n",
       "      <td>56.590000</td>\n",
       "    </tr>\n",
       "    <tr>\n",
       "      <th>65</th>\n",
       "      <td>2021-04-08</td>\n",
       "      <td>374.070007</td>\n",
       "      <td>71.230003</td>\n",
       "      <td>34.990002</td>\n",
       "      <td>2265.439941</td>\n",
       "      <td>331.140015</td>\n",
       "      <td>162.970001</td>\n",
       "      <td>53.119999</td>\n",
       "      <td>30.000000</td>\n",
       "      <td>139.710007</td>\n",
       "      <td>56.000000</td>\n",
       "    </tr>\n",
       "    <tr>\n",
       "      <th>66</th>\n",
       "      <td>2021-04-09</td>\n",
       "      <td>377.000000</td>\n",
       "      <td>70.730003</td>\n",
       "      <td>34.770000</td>\n",
       "      <td>2285.879883</td>\n",
       "      <td>330.809998</td>\n",
       "      <td>161.250000</td>\n",
       "      <td>53.180000</td>\n",
       "      <td>30.040001</td>\n",
       "      <td>139.779999</td>\n",
       "      <td>55.869999</td>\n",
       "    </tr>\n",
       "    <tr>\n",
       "      <th>67</th>\n",
       "      <td>2021-04-12</td>\n",
       "      <td>378.260010</td>\n",
       "      <td>70.019997</td>\n",
       "      <td>34.689999</td>\n",
       "      <td>2254.790039</td>\n",
       "      <td>331.839996</td>\n",
       "      <td>161.639999</td>\n",
       "      <td>53.349998</td>\n",
       "      <td>29.959999</td>\n",
       "      <td>139.800003</td>\n",
       "      <td>55.500000</td>\n",
       "    </tr>\n",
       "  </tbody>\n",
       "</table>\n",
       "<p>68 rows × 11 columns</p>\n",
       "</div>"
      ],
      "text/plain": [
       "          Date          DE        BHP         FE         GOOG          GS  \\\n",
       "0   2021-01-04  267.640015  67.349998  29.510000  1728.239990  265.000000   \n",
       "1   2021-01-05  274.279999  69.500000  29.840000  1740.920044  270.929993   \n",
       "2   2021-01-06  290.359985  71.709999  30.299999  1735.290039  285.549988   \n",
       "3   2021-01-07  299.730011  73.180000  29.629999  1787.250000  291.649994   \n",
       "4   2021-01-08  293.910004  73.459999  29.910000  1807.209961  290.079987   \n",
       "..         ...         ...        ...        ...          ...         ...   \n",
       "63  2021-04-06  375.609985  69.870003  34.799999  2224.750000  327.059998   \n",
       "64  2021-04-07  374.790009  71.150002  35.029999  2249.679932  326.549988   \n",
       "65  2021-04-08  374.070007  71.230003  34.990002  2265.439941  331.140015   \n",
       "66  2021-04-09  377.000000  70.730003  34.770000  2285.879883  330.809998   \n",
       "67  2021-04-12  378.260010  70.019997  34.689999  2254.790039  331.839996   \n",
       "\n",
       "           JNJ         KO          T         WMT        XOM  \n",
       "0   156.500000  52.759998  29.440001  146.529999  41.500000  \n",
       "1   158.339996  52.180000  29.260000  145.750000  43.500000  \n",
       "2   159.830002  50.520000  29.830000  146.660004  44.610001  \n",
       "3   160.369995  49.959999  29.910000  146.649994  44.959999  \n",
       "4   160.039993  51.080002  29.020000  146.630005  45.459999  \n",
       "..         ...        ...        ...         ...        ...  \n",
       "63  163.389999  53.189999  30.980000  140.100006  56.340000  \n",
       "64  163.610001  53.279999  30.930000  139.800003  56.590000  \n",
       "65  162.970001  53.119999  30.000000  139.710007  56.000000  \n",
       "66  161.250000  53.180000  30.040001  139.779999  55.869999  \n",
       "67  161.639999  53.349998  29.959999  139.800003  55.500000  \n",
       "\n",
       "[68 rows x 11 columns]"
      ]
     },
     "execution_count": 32,
     "metadata": {},
     "output_type": "execute_result"
    }
   ],
   "source": [
    "close"
   ]
  },
  {
   "cell_type": "code",
   "execution_count": 34,
   "metadata": {},
   "outputs": [],
   "source": [
    "#daily_ returns= (today close - yesterday close)/yesterday close*100\n",
    "daily_returns = pd.DataFrame()\n",
    "\n",
    "#daily_returns['BHP'] = close['BHP'].pct_change()\n"
   ]
  },
  {
   "cell_type": "code",
   "execution_count": 53,
   "metadata": {},
   "outputs": [],
   "source": [
    "for i in close.columns:\n",
    "    if i !='Date':\n",
    "        daily_returns[i] = close[i].pct_change()\n",
    "    "
   ]
  },
  {
   "cell_type": "code",
   "execution_count": 54,
   "metadata": {},
   "outputs": [
    {
     "data": {
      "text/html": [
       "<div>\n",
       "<style scoped>\n",
       "    .dataframe tbody tr th:only-of-type {\n",
       "        vertical-align: middle;\n",
       "    }\n",
       "\n",
       "    .dataframe tbody tr th {\n",
       "        vertical-align: top;\n",
       "    }\n",
       "\n",
       "    .dataframe thead th {\n",
       "        text-align: right;\n",
       "    }\n",
       "</style>\n",
       "<table border=\"1\" class=\"dataframe\">\n",
       "  <thead>\n",
       "    <tr style=\"text-align: right;\">\n",
       "      <th></th>\n",
       "      <th>DE</th>\n",
       "      <th>BHP</th>\n",
       "      <th>FE</th>\n",
       "      <th>GOOG</th>\n",
       "      <th>GS</th>\n",
       "      <th>JNJ</th>\n",
       "      <th>KO</th>\n",
       "      <th>T</th>\n",
       "      <th>WMT</th>\n",
       "      <th>XOM</th>\n",
       "    </tr>\n",
       "  </thead>\n",
       "  <tbody>\n",
       "    <tr>\n",
       "      <th>0</th>\n",
       "      <td>NaN</td>\n",
       "      <td>NaN</td>\n",
       "      <td>NaN</td>\n",
       "      <td>NaN</td>\n",
       "      <td>NaN</td>\n",
       "      <td>NaN</td>\n",
       "      <td>NaN</td>\n",
       "      <td>NaN</td>\n",
       "      <td>NaN</td>\n",
       "      <td>NaN</td>\n",
       "    </tr>\n",
       "    <tr>\n",
       "      <th>1</th>\n",
       "      <td>0.024809</td>\n",
       "      <td>0.031923</td>\n",
       "      <td>0.011183</td>\n",
       "      <td>0.007337</td>\n",
       "      <td>0.022377</td>\n",
       "      <td>0.011757</td>\n",
       "      <td>-0.010993</td>\n",
       "      <td>-0.006114</td>\n",
       "      <td>-0.005323</td>\n",
       "      <td>0.048193</td>\n",
       "    </tr>\n",
       "    <tr>\n",
       "      <th>2</th>\n",
       "      <td>0.058626</td>\n",
       "      <td>0.031799</td>\n",
       "      <td>0.015416</td>\n",
       "      <td>-0.003234</td>\n",
       "      <td>0.053962</td>\n",
       "      <td>0.009410</td>\n",
       "      <td>-0.031813</td>\n",
       "      <td>0.019481</td>\n",
       "      <td>0.006244</td>\n",
       "      <td>0.025517</td>\n",
       "    </tr>\n",
       "    <tr>\n",
       "      <th>3</th>\n",
       "      <td>0.032270</td>\n",
       "      <td>0.020499</td>\n",
       "      <td>-0.022112</td>\n",
       "      <td>0.029943</td>\n",
       "      <td>0.021362</td>\n",
       "      <td>0.003379</td>\n",
       "      <td>-0.011085</td>\n",
       "      <td>0.002682</td>\n",
       "      <td>-0.000068</td>\n",
       "      <td>0.007846</td>\n",
       "    </tr>\n",
       "    <tr>\n",
       "      <th>4</th>\n",
       "      <td>-0.019417</td>\n",
       "      <td>0.003826</td>\n",
       "      <td>0.009450</td>\n",
       "      <td>0.011168</td>\n",
       "      <td>-0.005383</td>\n",
       "      <td>-0.002058</td>\n",
       "      <td>0.022418</td>\n",
       "      <td>-0.029756</td>\n",
       "      <td>-0.000136</td>\n",
       "      <td>0.011121</td>\n",
       "    </tr>\n",
       "    <tr>\n",
       "      <th>...</th>\n",
       "      <td>...</td>\n",
       "      <td>...</td>\n",
       "      <td>...</td>\n",
       "      <td>...</td>\n",
       "      <td>...</td>\n",
       "      <td>...</td>\n",
       "      <td>...</td>\n",
       "      <td>...</td>\n",
       "      <td>...</td>\n",
       "      <td>...</td>\n",
       "    </tr>\n",
       "    <tr>\n",
       "      <th>63</th>\n",
       "      <td>0.002134</td>\n",
       "      <td>-0.017852</td>\n",
       "      <td>0.000000</td>\n",
       "      <td>-0.000359</td>\n",
       "      <td>0.010880</td>\n",
       "      <td>-0.000245</td>\n",
       "      <td>0.007196</td>\n",
       "      <td>0.008792</td>\n",
       "      <td>0.004805</td>\n",
       "      <td>-0.002832</td>\n",
       "    </tr>\n",
       "    <tr>\n",
       "      <th>64</th>\n",
       "      <td>-0.002183</td>\n",
       "      <td>0.018320</td>\n",
       "      <td>0.006609</td>\n",
       "      <td>0.011206</td>\n",
       "      <td>-0.001559</td>\n",
       "      <td>0.001346</td>\n",
       "      <td>0.001692</td>\n",
       "      <td>-0.001614</td>\n",
       "      <td>-0.002141</td>\n",
       "      <td>0.004437</td>\n",
       "    </tr>\n",
       "    <tr>\n",
       "      <th>65</th>\n",
       "      <td>-0.001921</td>\n",
       "      <td>0.001124</td>\n",
       "      <td>-0.001142</td>\n",
       "      <td>0.007005</td>\n",
       "      <td>0.014056</td>\n",
       "      <td>-0.003912</td>\n",
       "      <td>-0.003003</td>\n",
       "      <td>-0.030068</td>\n",
       "      <td>-0.000644</td>\n",
       "      <td>-0.010426</td>\n",
       "    </tr>\n",
       "    <tr>\n",
       "      <th>66</th>\n",
       "      <td>0.007833</td>\n",
       "      <td>-0.007020</td>\n",
       "      <td>-0.006288</td>\n",
       "      <td>0.009023</td>\n",
       "      <td>-0.000997</td>\n",
       "      <td>-0.010554</td>\n",
       "      <td>0.001130</td>\n",
       "      <td>0.001333</td>\n",
       "      <td>0.000501</td>\n",
       "      <td>-0.002321</td>\n",
       "    </tr>\n",
       "    <tr>\n",
       "      <th>67</th>\n",
       "      <td>0.003342</td>\n",
       "      <td>-0.010038</td>\n",
       "      <td>-0.002301</td>\n",
       "      <td>-0.013601</td>\n",
       "      <td>0.003114</td>\n",
       "      <td>0.002419</td>\n",
       "      <td>0.003197</td>\n",
       "      <td>-0.002663</td>\n",
       "      <td>0.000143</td>\n",
       "      <td>-0.006622</td>\n",
       "    </tr>\n",
       "  </tbody>\n",
       "</table>\n",
       "<p>68 rows × 10 columns</p>\n",
       "</div>"
      ],
      "text/plain": [
       "          DE       BHP        FE      GOOG        GS       JNJ        KO  \\\n",
       "0        NaN       NaN       NaN       NaN       NaN       NaN       NaN   \n",
       "1   0.024809  0.031923  0.011183  0.007337  0.022377  0.011757 -0.010993   \n",
       "2   0.058626  0.031799  0.015416 -0.003234  0.053962  0.009410 -0.031813   \n",
       "3   0.032270  0.020499 -0.022112  0.029943  0.021362  0.003379 -0.011085   \n",
       "4  -0.019417  0.003826  0.009450  0.011168 -0.005383 -0.002058  0.022418   \n",
       "..       ...       ...       ...       ...       ...       ...       ...   \n",
       "63  0.002134 -0.017852  0.000000 -0.000359  0.010880 -0.000245  0.007196   \n",
       "64 -0.002183  0.018320  0.006609  0.011206 -0.001559  0.001346  0.001692   \n",
       "65 -0.001921  0.001124 -0.001142  0.007005  0.014056 -0.003912 -0.003003   \n",
       "66  0.007833 -0.007020 -0.006288  0.009023 -0.000997 -0.010554  0.001130   \n",
       "67  0.003342 -0.010038 -0.002301 -0.013601  0.003114  0.002419  0.003197   \n",
       "\n",
       "           T       WMT       XOM  \n",
       "0        NaN       NaN       NaN  \n",
       "1  -0.006114 -0.005323  0.048193  \n",
       "2   0.019481  0.006244  0.025517  \n",
       "3   0.002682 -0.000068  0.007846  \n",
       "4  -0.029756 -0.000136  0.011121  \n",
       "..       ...       ...       ...  \n",
       "63  0.008792  0.004805 -0.002832  \n",
       "64 -0.001614 -0.002141  0.004437  \n",
       "65 -0.030068 -0.000644 -0.010426  \n",
       "66  0.001333  0.000501 -0.002321  \n",
       "67 -0.002663  0.000143 -0.006622  \n",
       "\n",
       "[68 rows x 10 columns]"
      ]
     },
     "execution_count": 54,
     "metadata": {},
     "output_type": "execute_result"
    }
   ],
   "source": [
    "daily_returns"
   ]
  },
  {
   "cell_type": "code",
   "execution_count": 59,
   "metadata": {},
   "outputs": [],
   "source": [
    "daily_returns = daily_returns.drop(daily_returns.index[0])"
   ]
  },
  {
   "cell_type": "code",
   "execution_count": null,
   "metadata": {},
   "outputs": [],
   "source": [
    "# average monthly return:\n",
    "#sum(daily return)/n days\n",
    "df.loc['avg'] = [1.0, 'hotel', 'true']\n",
    "avg"
   ]
  },
  {
   "cell_type": "code",
   "execution_count": 61,
   "metadata": {},
   "outputs": [
    {
     "data": {
      "text/plain": [
       "67"
      ]
     },
     "execution_count": 61,
     "metadata": {},
     "output_type": "execute_result"
    }
   ],
   "source": [
    "daily_returns.shape[0]"
   ]
  },
  {
   "cell_type": "code",
   "execution_count": 103,
   "metadata": {},
   "outputs": [
    {
     "data": {
      "text/plain": [
       "{'DE': 1.3570575106376324,\n",
       " 'BHP': 0.20455033116741755,\n",
       " 'FE': 0.6325879477895627,\n",
       " 'GOOG': 1.0417519656174814,\n",
       " 'GS': 0.8767399406156541,\n",
       " 'JNJ': 0.1348377358521864,\n",
       " 'KO': 0.0574741918369449,\n",
       " 'T': 0.08232062304037899,\n",
       " 'WMT': -0.15302561933236714,\n",
       " 'XOM': 1.1499822221282532}"
      ]
     },
     "execution_count": 103,
     "metadata": {},
     "output_type": "execute_result"
    }
   ],
   "source": [
    "# I created empty dictionary which will hold average return values\n",
    "## avg1 -is average return \n",
    "## avg is annual return, we multiply to 250, because there are 250 trading days in one year.  \n",
    "annual_return = {}\n",
    "\n",
    "for i in daily_returns.columns:\n",
    "    #avg1[i] = sum(daily_returns[i])/daily_returns.shape[0]\n",
    "    annual_return[i] = (sum(daily_returns[i])/daily_returns.shape[0])*250\n",
    "    #print(avg[i])\n",
    "annual_return"
   ]
  },
  {
   "cell_type": "code",
   "execution_count": 93,
   "metadata": {},
   "outputs": [
    {
     "data": {
      "text/plain": [
       "{'DE': 0.12986189764524195,\n",
       " 'BHP': 0.12082046459811828,\n",
       " 'FE': 0.058407758962383885,\n",
       " 'GOOG': 0.09728275059287991,\n",
       " 'GS': 0.07386786395033658,\n",
       " 'JNJ': 0.028788853997625853,\n",
       " 'KO': 0.03234728296591785,\n",
       " 'T': 0.034363761915362334,\n",
       " 'WMT': 0.04468544113414933,\n",
       " 'XOM': 0.12827448523476126}"
      ]
     },
     "execution_count": 93,
     "metadata": {},
     "output_type": "execute_result"
    }
   ],
   "source": [
    "## we should calculate variance:\n",
    "## that is variance for 12 month\n",
    "variance = {}\n",
    "for i in daily_returns.columns:\n",
    "    variance[i] = (daily_returns[i].var())*250\n",
    "    #print(avg[i])\n",
    "variance\n",
    "    "
   ]
  },
  {
   "cell_type": "code",
   "execution_count": 205,
   "metadata": {},
   "outputs": [],
   "source": [
    "cov_matrix= daily_returns.cov()*250"
   ]
  },
  {
   "cell_type": "code",
   "execution_count": 206,
   "metadata": {},
   "outputs": [
    {
     "data": {
      "text/plain": [
       "array([0.11518324, 0.15742335, 0.07336744, 0.10819613, 0.03932506,\n",
       "       0.07100617, 0.12959867, 0.03469224, 0.11676658, 0.15444111])"
      ]
     },
     "execution_count": 206,
     "metadata": {},
     "output_type": "execute_result"
    }
   ],
   "source": [
    "num_assets = len(daily_returns.columns)\n",
    "\n",
    "weights = np.random.random(num_assets)\n",
    "weights = weights / sum(weights)\n",
    "weights"
   ]
  },
  {
   "cell_type": "code",
   "execution_count": 207,
   "metadata": {
    "scrolled": true
   },
   "outputs": [
    {
     "name": "stdout",
     "output_type": "stream",
     "text": [
      "ANNUAL RETURN:  [1.3570575106376324, 0.20455033116741755, 0.6325879477895627, 1.0417519656174814, 0.8767399406156541, 0.1348377358521864, 0.0574741918369449, 0.08232062304037899, -0.15302561933236714, 1.1499822221282532] \n",
      "\n",
      "WEIGHTS:  [[0.11518324 0.15742335 0.07336744 0.10819613 0.03932506 0.07100617\n",
      "  0.12959867 0.03469224 0.11676658 0.15444111]] \n",
      "\n",
      "EXPECTED RETURN:  [0.56172906]\n",
      "Standart deviation:  0.16463795126895736\n"
     ]
    }
   ],
   "source": [
    "weights_T = np.array(weights)[np.newaxis]\n",
    "\n",
    "print('ANNUAL RETURN: ',ann_return, '\\n')\n",
    "\n",
    "print('WEIGHTS: ',weights_T, '\\n' )\n",
    "\n",
    "expected_return = np.matmul(weights_T, ann_return)\n",
    "\n",
    "print('EXPECTED RETURN: ', expected_return)\n",
    "\n",
    "std_for_port = sqrt((weights_T.dot(cov_matrix).dot(weights)))\n",
    "\n",
    "print('Standart deviation: ', std_for_port)"
   ]
  },
  {
   "cell_type": "code",
   "execution_count": 208,
   "metadata": {},
   "outputs": [
    {
     "data": {
      "text/plain": [
       "(1, 10)"
      ]
     },
     "execution_count": 208,
     "metadata": {},
     "output_type": "execute_result"
    }
   ],
   "source": [
    "weights_T.shape"
   ]
  },
  {
   "cell_type": "code",
   "execution_count": 209,
   "metadata": {},
   "outputs": [
    {
     "data": {
      "text/html": [
       "<div>\n",
       "<style scoped>\n",
       "    .dataframe tbody tr th:only-of-type {\n",
       "        vertical-align: middle;\n",
       "    }\n",
       "\n",
       "    .dataframe tbody tr th {\n",
       "        vertical-align: top;\n",
       "    }\n",
       "\n",
       "    .dataframe thead th {\n",
       "        text-align: right;\n",
       "    }\n",
       "</style>\n",
       "<table border=\"1\" class=\"dataframe\">\n",
       "  <thead>\n",
       "    <tr style=\"text-align: right;\">\n",
       "      <th></th>\n",
       "      <th>DE</th>\n",
       "      <th>BHP</th>\n",
       "      <th>FE</th>\n",
       "      <th>GOOG</th>\n",
       "      <th>GS</th>\n",
       "      <th>JNJ</th>\n",
       "      <th>KO</th>\n",
       "      <th>T</th>\n",
       "      <th>WMT</th>\n",
       "      <th>XOM</th>\n",
       "    </tr>\n",
       "  </thead>\n",
       "  <tbody>\n",
       "    <tr>\n",
       "      <th>DE</th>\n",
       "      <td>0.129862</td>\n",
       "      <td>0.044173</td>\n",
       "      <td>-0.005068</td>\n",
       "      <td>0.014496</td>\n",
       "      <td>0.060804</td>\n",
       "      <td>0.007934</td>\n",
       "      <td>-0.003616</td>\n",
       "      <td>0.011478</td>\n",
       "      <td>0.027112</td>\n",
       "      <td>0.048274</td>\n",
       "    </tr>\n",
       "    <tr>\n",
       "      <th>BHP</th>\n",
       "      <td>0.044173</td>\n",
       "      <td>0.120820</td>\n",
       "      <td>0.010871</td>\n",
       "      <td>0.029803</td>\n",
       "      <td>0.036228</td>\n",
       "      <td>0.021647</td>\n",
       "      <td>0.005672</td>\n",
       "      <td>0.016865</td>\n",
       "      <td>0.012250</td>\n",
       "      <td>0.055907</td>\n",
       "    </tr>\n",
       "    <tr>\n",
       "      <th>FE</th>\n",
       "      <td>-0.005068</td>\n",
       "      <td>0.010871</td>\n",
       "      <td>0.058408</td>\n",
       "      <td>0.014365</td>\n",
       "      <td>0.009509</td>\n",
       "      <td>0.007372</td>\n",
       "      <td>0.007411</td>\n",
       "      <td>0.004501</td>\n",
       "      <td>-0.002883</td>\n",
       "      <td>0.009801</td>\n",
       "    </tr>\n",
       "    <tr>\n",
       "      <th>GOOG</th>\n",
       "      <td>0.014496</td>\n",
       "      <td>0.029803</td>\n",
       "      <td>0.014365</td>\n",
       "      <td>0.097283</td>\n",
       "      <td>-0.004274</td>\n",
       "      <td>0.008104</td>\n",
       "      <td>0.010483</td>\n",
       "      <td>0.002412</td>\n",
       "      <td>0.021195</td>\n",
       "      <td>0.026833</td>\n",
       "    </tr>\n",
       "    <tr>\n",
       "      <th>GS</th>\n",
       "      <td>0.060804</td>\n",
       "      <td>0.036228</td>\n",
       "      <td>0.009509</td>\n",
       "      <td>-0.004274</td>\n",
       "      <td>0.073868</td>\n",
       "      <td>0.005967</td>\n",
       "      <td>-0.002844</td>\n",
       "      <td>0.015104</td>\n",
       "      <td>0.011486</td>\n",
       "      <td>0.047703</td>\n",
       "    </tr>\n",
       "    <tr>\n",
       "      <th>JNJ</th>\n",
       "      <td>0.007934</td>\n",
       "      <td>0.021647</td>\n",
       "      <td>0.007372</td>\n",
       "      <td>0.008104</td>\n",
       "      <td>0.005967</td>\n",
       "      <td>0.028789</td>\n",
       "      <td>0.011063</td>\n",
       "      <td>0.012515</td>\n",
       "      <td>0.011053</td>\n",
       "      <td>0.012286</td>\n",
       "    </tr>\n",
       "    <tr>\n",
       "      <th>KO</th>\n",
       "      <td>-0.003616</td>\n",
       "      <td>0.005672</td>\n",
       "      <td>0.007411</td>\n",
       "      <td>0.010483</td>\n",
       "      <td>-0.002844</td>\n",
       "      <td>0.011063</td>\n",
       "      <td>0.032347</td>\n",
       "      <td>0.006572</td>\n",
       "      <td>0.006997</td>\n",
       "      <td>0.008288</td>\n",
       "    </tr>\n",
       "    <tr>\n",
       "      <th>T</th>\n",
       "      <td>0.011478</td>\n",
       "      <td>0.016865</td>\n",
       "      <td>0.004501</td>\n",
       "      <td>0.002412</td>\n",
       "      <td>0.015104</td>\n",
       "      <td>0.012515</td>\n",
       "      <td>0.006572</td>\n",
       "      <td>0.034364</td>\n",
       "      <td>0.012433</td>\n",
       "      <td>0.020735</td>\n",
       "    </tr>\n",
       "    <tr>\n",
       "      <th>WMT</th>\n",
       "      <td>0.027112</td>\n",
       "      <td>0.012250</td>\n",
       "      <td>-0.002883</td>\n",
       "      <td>0.021195</td>\n",
       "      <td>0.011486</td>\n",
       "      <td>0.011053</td>\n",
       "      <td>0.006997</td>\n",
       "      <td>0.012433</td>\n",
       "      <td>0.044685</td>\n",
       "      <td>0.020723</td>\n",
       "    </tr>\n",
       "    <tr>\n",
       "      <th>XOM</th>\n",
       "      <td>0.048274</td>\n",
       "      <td>0.055907</td>\n",
       "      <td>0.009801</td>\n",
       "      <td>0.026833</td>\n",
       "      <td>0.047703</td>\n",
       "      <td>0.012286</td>\n",
       "      <td>0.008288</td>\n",
       "      <td>0.020735</td>\n",
       "      <td>0.020723</td>\n",
       "      <td>0.128274</td>\n",
       "    </tr>\n",
       "  </tbody>\n",
       "</table>\n",
       "</div>"
      ],
      "text/plain": [
       "            DE       BHP        FE      GOOG        GS       JNJ        KO  \\\n",
       "DE    0.129862  0.044173 -0.005068  0.014496  0.060804  0.007934 -0.003616   \n",
       "BHP   0.044173  0.120820  0.010871  0.029803  0.036228  0.021647  0.005672   \n",
       "FE   -0.005068  0.010871  0.058408  0.014365  0.009509  0.007372  0.007411   \n",
       "GOOG  0.014496  0.029803  0.014365  0.097283 -0.004274  0.008104  0.010483   \n",
       "GS    0.060804  0.036228  0.009509 -0.004274  0.073868  0.005967 -0.002844   \n",
       "JNJ   0.007934  0.021647  0.007372  0.008104  0.005967  0.028789  0.011063   \n",
       "KO   -0.003616  0.005672  0.007411  0.010483 -0.002844  0.011063  0.032347   \n",
       "T     0.011478  0.016865  0.004501  0.002412  0.015104  0.012515  0.006572   \n",
       "WMT   0.027112  0.012250 -0.002883  0.021195  0.011486  0.011053  0.006997   \n",
       "XOM   0.048274  0.055907  0.009801  0.026833  0.047703  0.012286  0.008288   \n",
       "\n",
       "             T       WMT       XOM  \n",
       "DE    0.011478  0.027112  0.048274  \n",
       "BHP   0.016865  0.012250  0.055907  \n",
       "FE    0.004501 -0.002883  0.009801  \n",
       "GOOG  0.002412  0.021195  0.026833  \n",
       "GS    0.015104  0.011486  0.047703  \n",
       "JNJ   0.012515  0.011053  0.012286  \n",
       "KO    0.006572  0.006997  0.008288  \n",
       "T     0.034364  0.012433  0.020735  \n",
       "WMT   0.012433  0.044685  0.020723  \n",
       "XOM   0.020735  0.020723  0.128274  "
      ]
     },
     "execution_count": 209,
     "metadata": {},
     "output_type": "execute_result"
    }
   ],
   "source": [
    "cov_matrix"
   ]
  },
  {
   "cell_type": "code",
   "execution_count": 258,
   "metadata": {},
   "outputs": [
    {
     "name": "stdout",
     "output_type": "stream",
     "text": [
      "[[0.03661361 0.04247667 0.01015797 0.02640949 0.0251343  0.01307418\n",
      "  0.00934536 0.01274894 0.01812589 0.04475624]]\n"
     ]
    },
    {
     "data": {
      "text/plain": [
       "(1, 10)"
      ]
     },
     "execution_count": 258,
     "metadata": {},
     "output_type": "execute_result"
    }
   ],
   "source": [
    "print(weights_T.dot(cov_matrix))\n",
    "n=weights_T.dot(cov_matrix)\n",
    "sum(weights)\n",
    "n.shape"
   ]
  },
  {
   "cell_type": "code",
   "execution_count": 211,
   "metadata": {},
   "outputs": [],
   "source": [
    "weights_T = np.array(weights)[np.newaxis]\n",
    "#weights_T.shape\n",
    "n=weights_T.dot(cov_matrix)\n",
    "std_for_port = sqrt((n.dot(weights)))"
   ]
  },
  {
   "cell_type": "code",
   "execution_count": 212,
   "metadata": {},
   "outputs": [
    {
     "data": {
      "text/plain": [
       "0.16463795126895736"
      ]
     },
     "execution_count": 212,
     "metadata": {},
     "output_type": "execute_result"
    }
   ],
   "source": [
    "std_for_port"
   ]
  },
  {
   "cell_type": "code",
   "execution_count": 222,
   "metadata": {},
   "outputs": [
    {
     "name": "stdout",
     "output_type": "stream",
     "text": [
      "Portfolio variance:  [0.02710565]\n"
     ]
    }
   ],
   "source": [
    "port_variance =np.dot(weights_T, np.dot(cov_matrix, weights))\n",
    "print( 'Portfolio variance: ', port_variance )"
   ]
  },
  {
   "cell_type": "code",
   "execution_count": 256,
   "metadata": {},
   "outputs": [],
   "source": [
    "#pip install PyPortfolioOpt\n",
    "#from pypfopt.efficient_frontier import EfficientFrontier"
   ]
  },
  {
   "cell_type": "code",
   "execution_count": 237,
   "metadata": {},
   "outputs": [],
   "source": [
    "rf = 0.03"
   ]
  },
  {
   "cell_type": "code",
   "execution_count": 253,
   "metadata": {},
   "outputs": [
    {
     "name": "stdout",
     "output_type": "stream",
     "text": [
      "SHARPE RATIO:  [3.22968703]\n"
     ]
    }
   ],
   "source": [
    "sharpe_ratio = (expected_return - rf)/(std_for_port)\n",
    "print('SHARPE RATIO: ', sharpe_ratio)"
   ]
  },
  {
   "cell_type": "code",
   "execution_count": 239,
   "metadata": {},
   "outputs": [],
   "source": [
    "ann_return = list(annual_return.values())"
   ]
  },
  {
   "cell_type": "code",
   "execution_count": 263,
   "metadata": {},
   "outputs": [
    {
     "name": "stdout",
     "output_type": "stream",
     "text": [
      "Expected annual return:  [56.17290555]\n",
      "Portfolio variance:  [0.02710565]\n",
      "Annual volatility /risk /std:  16.463795126895736\n",
      "Sharpe ratio  [3.22968703]\n",
      "Weights:  [0.11518324 0.15742335 0.07336744 0.10819613 0.03932506 0.07100617\n",
      " 0.12959867 0.03469224 0.11676658 0.15444111]\n"
     ]
    }
   ],
   "source": [
    "## expected annual return, risk(volatility), variance\n",
    "\n",
    "print('Expected annual return: ', expected_return*100)\n",
    "print( 'Portfolio variance: ', port_variance )\n",
    "print('Annual volatility /risk /std: ', std_for_port*100)\n",
    "print('Sharpe ratio ',sharpe_ratio)\n",
    "print('Weights: ', weights)"
   ]
  }
 ],
 "metadata": {
  "kernelspec": {
   "display_name": "Python 3",
   "language": "python",
   "name": "python3"
  },
  "language_info": {
   "codemirror_mode": {
    "name": "ipython",
    "version": 3
   },
   "file_extension": ".py",
   "mimetype": "text/x-python",
   "name": "python",
   "nbconvert_exporter": "python",
   "pygments_lexer": "ipython3",
   "version": "3.8.3"
  }
 },
 "nbformat": 4,
 "nbformat_minor": 4
}
