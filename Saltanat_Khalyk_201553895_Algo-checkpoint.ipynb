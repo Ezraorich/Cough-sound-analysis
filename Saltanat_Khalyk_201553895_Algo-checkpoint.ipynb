{
 "cells": [
  {
   "cell_type": "code",
   "execution_count": 1,
   "metadata": {},
   "outputs": [],
   "source": [
    "## Algo trading homework 1 \n",
    "### Saltanat Khalyk\n",
    "## 201553895"
   ]
  },
  {
   "cell_type": "code",
   "execution_count": 2,
   "metadata": {},
   "outputs": [],
   "source": [
    "### LSTM"
   ]
  },
  {
   "cell_type": "code",
   "execution_count": 44,
   "metadata": {},
   "outputs": [],
   "source": [
    "import math\n",
    "import pandas_datareader as web\n",
    "import numpy as np\n",
    "import pandas as pd\n",
    "from sklearn.preprocessing import MinMaxScaler\n",
    "from keras.models import Sequential\n",
    "from keras.layers import Dense, LSTM\n",
    "import matplotlib.pyplot as plt\n",
    "plt.style.use('fivethirtyeight')"
   ]
  },
  {
   "cell_type": "code",
   "execution_count": 45,
   "metadata": {},
   "outputs": [],
   "source": [
    "BHP = web.DataReader('BHP', data_source='yahoo', start ='2012-01-01', end= '2021-03-15')"
   ]
  },
  {
   "cell_type": "code",
   "execution_count": 46,
   "metadata": {},
   "outputs": [
    {
     "data": {
      "text/html": [
       "<div>\n",
       "<style scoped>\n",
       "    .dataframe tbody tr th:only-of-type {\n",
       "        vertical-align: middle;\n",
       "    }\n",
       "\n",
       "    .dataframe tbody tr th {\n",
       "        vertical-align: top;\n",
       "    }\n",
       "\n",
       "    .dataframe thead th {\n",
       "        text-align: right;\n",
       "    }\n",
       "</style>\n",
       "<table border=\"1\" class=\"dataframe\">\n",
       "  <thead>\n",
       "    <tr style=\"text-align: right;\">\n",
       "      <th></th>\n",
       "      <th>High</th>\n",
       "      <th>Low</th>\n",
       "      <th>Open</th>\n",
       "      <th>Close</th>\n",
       "      <th>Volume</th>\n",
       "      <th>Adj Close</th>\n",
       "    </tr>\n",
       "    <tr>\n",
       "      <th>Date</th>\n",
       "      <th></th>\n",
       "      <th></th>\n",
       "      <th></th>\n",
       "      <th></th>\n",
       "      <th></th>\n",
       "      <th></th>\n",
       "    </tr>\n",
       "  </thead>\n",
       "  <tbody>\n",
       "    <tr>\n",
       "      <th>2012-01-03</th>\n",
       "      <td>75.279999</td>\n",
       "      <td>74.269997</td>\n",
       "      <td>74.629997</td>\n",
       "      <td>74.760002</td>\n",
       "      <td>4694500.0</td>\n",
       "      <td>49.140343</td>\n",
       "    </tr>\n",
       "    <tr>\n",
       "      <th>2012-01-04</th>\n",
       "      <td>75.050003</td>\n",
       "      <td>73.739998</td>\n",
       "      <td>74.449997</td>\n",
       "      <td>74.790001</td>\n",
       "      <td>2617100.0</td>\n",
       "      <td>49.160076</td>\n",
       "    </tr>\n",
       "    <tr>\n",
       "      <th>2012-01-05</th>\n",
       "      <td>73.839996</td>\n",
       "      <td>72.709999</td>\n",
       "      <td>73.360001</td>\n",
       "      <td>73.379997</td>\n",
       "      <td>1883200.0</td>\n",
       "      <td>48.233261</td>\n",
       "    </tr>\n",
       "    <tr>\n",
       "      <th>2012-01-06</th>\n",
       "      <td>73.550003</td>\n",
       "      <td>72.300003</td>\n",
       "      <td>73.489998</td>\n",
       "      <td>72.449997</td>\n",
       "      <td>1924900.0</td>\n",
       "      <td>47.621967</td>\n",
       "    </tr>\n",
       "    <tr>\n",
       "      <th>2012-01-09</th>\n",
       "      <td>73.050003</td>\n",
       "      <td>72.160004</td>\n",
       "      <td>72.919998</td>\n",
       "      <td>72.709999</td>\n",
       "      <td>2276300.0</td>\n",
       "      <td>47.792877</td>\n",
       "    </tr>\n",
       "    <tr>\n",
       "      <th>...</th>\n",
       "      <td>...</td>\n",
       "      <td>...</td>\n",
       "      <td>...</td>\n",
       "      <td>...</td>\n",
       "      <td>...</td>\n",
       "      <td>...</td>\n",
       "    </tr>\n",
       "    <tr>\n",
       "      <th>2021-03-08</th>\n",
       "      <td>76.379997</td>\n",
       "      <td>75.279999</td>\n",
       "      <td>75.690002</td>\n",
       "      <td>75.790001</td>\n",
       "      <td>2949300.0</td>\n",
       "      <td>75.790001</td>\n",
       "    </tr>\n",
       "    <tr>\n",
       "      <th>2021-03-09</th>\n",
       "      <td>76.320000</td>\n",
       "      <td>73.449997</td>\n",
       "      <td>75.029999</td>\n",
       "      <td>75.629997</td>\n",
       "      <td>5009600.0</td>\n",
       "      <td>75.629997</td>\n",
       "    </tr>\n",
       "    <tr>\n",
       "      <th>2021-03-10</th>\n",
       "      <td>74.260002</td>\n",
       "      <td>72.550003</td>\n",
       "      <td>73.769997</td>\n",
       "      <td>72.970001</td>\n",
       "      <td>3378200.0</td>\n",
       "      <td>72.970001</td>\n",
       "    </tr>\n",
       "    <tr>\n",
       "      <th>2021-03-11</th>\n",
       "      <td>74.190002</td>\n",
       "      <td>73.550003</td>\n",
       "      <td>74.000000</td>\n",
       "      <td>74.099998</td>\n",
       "      <td>2075800.0</td>\n",
       "      <td>74.099998</td>\n",
       "    </tr>\n",
       "    <tr>\n",
       "      <th>2021-03-12</th>\n",
       "      <td>74.650002</td>\n",
       "      <td>72.910004</td>\n",
       "      <td>73.279999</td>\n",
       "      <td>74.580002</td>\n",
       "      <td>2343100.0</td>\n",
       "      <td>74.580002</td>\n",
       "    </tr>\n",
       "  </tbody>\n",
       "</table>\n",
       "<p>2313 rows × 6 columns</p>\n",
       "</div>"
      ],
      "text/plain": [
       "                 High        Low       Open      Close     Volume  Adj Close\n",
       "Date                                                                        \n",
       "2012-01-03  75.279999  74.269997  74.629997  74.760002  4694500.0  49.140343\n",
       "2012-01-04  75.050003  73.739998  74.449997  74.790001  2617100.0  49.160076\n",
       "2012-01-05  73.839996  72.709999  73.360001  73.379997  1883200.0  48.233261\n",
       "2012-01-06  73.550003  72.300003  73.489998  72.449997  1924900.0  47.621967\n",
       "2012-01-09  73.050003  72.160004  72.919998  72.709999  2276300.0  47.792877\n",
       "...               ...        ...        ...        ...        ...        ...\n",
       "2021-03-08  76.379997  75.279999  75.690002  75.790001  2949300.0  75.790001\n",
       "2021-03-09  76.320000  73.449997  75.029999  75.629997  5009600.0  75.629997\n",
       "2021-03-10  74.260002  72.550003  73.769997  72.970001  3378200.0  72.970001\n",
       "2021-03-11  74.190002  73.550003  74.000000  74.099998  2075800.0  74.099998\n",
       "2021-03-12  74.650002  72.910004  73.279999  74.580002  2343100.0  74.580002\n",
       "\n",
       "[2313 rows x 6 columns]"
      ]
     },
     "execution_count": 46,
     "metadata": {},
     "output_type": "execute_result"
    }
   ],
   "source": [
    "BHP"
   ]
  },
  {
   "cell_type": "code",
   "execution_count": 157,
   "metadata": {},
   "outputs": [],
   "source": [
    "data = BHP.filter(['Close'])"
   ]
  },
  {
   "cell_type": "code",
   "execution_count": 158,
   "metadata": {},
   "outputs": [
    {
     "data": {
      "text/plain": [
       "1851"
      ]
     },
     "execution_count": 158,
     "metadata": {},
     "output_type": "execute_result"
    }
   ],
   "source": [
    "dataset = data.values\n",
    "training_data_len = math.ceil(len(dataset)*.8)\n",
    "training_data_len "
   ]
  },
  {
   "cell_type": "code",
   "execution_count": 159,
   "metadata": {},
   "outputs": [
    {
     "data": {
      "text/plain": [
       "array([[0.88226861],\n",
       "       [0.88274653],\n",
       "       [0.86028351],\n",
       "       ...,\n",
       "       [0.85375179],\n",
       "       [0.87175398],\n",
       "       [0.879401  ]])"
      ]
     },
     "execution_count": 159,
     "metadata": {},
     "output_type": "execute_result"
    }
   ],
   "source": [
    "# Scale the data\n",
    "scaler = MinMaxScaler(feature_range =(0,1))\n",
    "scaled_data = scaler.fit_transform(dataset)\n",
    "\n",
    "scaled_data"
   ]
  },
  {
   "cell_type": "code",
   "execution_count": 160,
   "metadata": {},
   "outputs": [
    {
     "name": "stdout",
     "output_type": "stream",
     "text": [
      "[array([0.88226861, 0.88274653, 0.86028351, 0.84546751, 0.84960965,\n",
      "       0.88163135, 0.88864111, 0.90823639, 0.88529545, 0.90664329,\n",
      "       0.93898356, 0.94201053, 0.93627529, 0.9471085 , 0.93579738,\n",
      "       0.9679783 , 0.97243901, 0.96813765, 0.95682653, 0.95682653,\n",
      "       0.97291693, 0.98008603, 1.        , 0.99378685, 0.99394608,\n",
      "       0.97737776, 0.95969414, 0.91954751, 0.94057666, 0.91460888,\n",
      "       0.90313842, 0.91636132, 0.90377568, 0.93213315, 0.93006214,\n",
      "       0.9283097 , 0.93054006, 0.93436351, 0.94678981, 0.9150868 ,\n",
      "       0.92257447, 0.90218258, 0.8754182 , 0.83782062, 0.85295519,\n",
      "       0.87032023, 0.87239124, 0.8621953 , 0.89230521, 0.85996494,\n",
      "       0.87589612, 0.88115344, 0.894217  , 0.85438905, 0.8410068 ,\n",
      "       0.81758795, 0.83160747, 0.84801656, 0.83001437, 0.81870313])]\n",
      "[0.8285805045275751]\n",
      "\n"
     ]
    }
   ],
   "source": [
    "# create training dataset\n",
    "# create the scaled training dataset\n",
    "train_data =scaled_data[0:training_data_len, :]\n",
    "\n",
    "\n",
    "x_train=[]\n",
    "y_train =[]\n",
    "\n",
    "\n",
    "for i in range(60, len(train_data)):\n",
    "    x_train.append(train_data[i-60:i,0])\n",
    "    y_train.append(train_data[i, 0])\n",
    "    if i<=60:\n",
    "        print(x_train)\n",
    "        print(y_train)\n",
    "        print()"
   ]
  },
  {
   "cell_type": "code",
   "execution_count": 161,
   "metadata": {},
   "outputs": [],
   "source": [
    "x_train, y_train = np.array(x_train), np.array(y_train)"
   ]
  },
  {
   "cell_type": "code",
   "execution_count": 162,
   "metadata": {},
   "outputs": [
    {
     "data": {
      "text/plain": [
       "1791"
      ]
     },
     "execution_count": 162,
     "metadata": {},
     "output_type": "execute_result"
    }
   ],
   "source": [
    "x_train.shape[0]"
   ]
  },
  {
   "cell_type": "code",
   "execution_count": 163,
   "metadata": {},
   "outputs": [],
   "source": [
    "#train_data[61-60:61,0]\n",
    "#train_data[61,0]"
   ]
  },
  {
   "cell_type": "code",
   "execution_count": 164,
   "metadata": {},
   "outputs": [],
   "source": [
    "#x_train = np.reshape(x_train, (1788, 60,1))\n",
    "x_train = np.reshape(x_train, (x_train.shape[0], x_train.shape[1], 1))\n",
    "#x_train.shape"
   ]
  },
  {
   "cell_type": "code",
   "execution_count": 165,
   "metadata": {},
   "outputs": [],
   "source": [
    "model = Sequential()\n",
    "model.add(LSTM(50, return_sequences=True, input_shape = (x_train.shape[1], 1)))\n",
    "model.add(LSTM(50, return_sequences=False))\n",
    "model.add(Dense(1))"
   ]
  },
  {
   "cell_type": "code",
   "execution_count": 166,
   "metadata": {},
   "outputs": [],
   "source": [
    "model.compile(optimizer='adam', loss='mean_squared_error')"
   ]
  },
  {
   "cell_type": "code",
   "execution_count": 167,
   "metadata": {},
   "outputs": [
    {
     "name": "stdout",
     "output_type": "stream",
     "text": [
      "1791/1791 [==============================] - 105s 59ms/step - loss: 0.0023\n"
     ]
    },
    {
     "data": {
      "text/plain": [
       "<tensorflow.python.keras.callbacks.History at 0x263421665e0>"
      ]
     },
     "execution_count": 167,
     "metadata": {},
     "output_type": "execute_result"
    }
   ],
   "source": [
    "model.fit(x_train, y_train, batch_size=1, epochs=1)"
   ]
  },
  {
   "cell_type": "code",
   "execution_count": 169,
   "metadata": {},
   "outputs": [],
   "source": [
    "#create testing dataset\n",
    "#create new array from index 1788 to 1848\n",
    "test_data =scaled_data[training_data_len-60:, :]\n",
    "\n",
    "\n",
    "x_test =[]\n",
    "y_test =dataset[training_data_len:, :]\n",
    "\n",
    "for i in range(60, len(test_data)):\n",
    "    x_test.append(test_data[i-60:i, 0])\n",
    "    \n"
   ]
  },
  {
   "cell_type": "code",
   "execution_count": 170,
   "metadata": {},
   "outputs": [],
   "source": [
    "x_test =np.array(x_test)"
   ]
  },
  {
   "cell_type": "code",
   "execution_count": 171,
   "metadata": {},
   "outputs": [],
   "source": [
    "#LSTM expects 3d, number of features is 1, which is closing price\n",
    "x_test =np.reshape(x_test, (x_test.shape[0], x_test.shape[1], 1))"
   ]
  },
  {
   "cell_type": "code",
   "execution_count": 172,
   "metadata": {},
   "outputs": [],
   "source": [
    "# get the models predicted price values\n",
    "predictions = model.predict(x_test)\n",
    "predictions = scaler.inverse_transform(predictions)"
   ]
  },
  {
   "cell_type": "code",
   "execution_count": 173,
   "metadata": {},
   "outputs": [
    {
     "data": {
      "text/plain": [
       "0.06489694273317015"
      ]
     },
     "execution_count": 173,
     "metadata": {},
     "output_type": "execute_result"
    }
   ],
   "source": [
    "# get the root mean squared error (RMSE)\n",
    "rmse = np.sqrt(np.mean( predictions-y_test )**2 )\n",
    "rmse"
   ]
  },
  {
   "cell_type": "code",
   "execution_count": 174,
   "metadata": {},
   "outputs": [
    {
     "name": "stderr",
     "output_type": "stream",
     "text": [
      "<ipython-input-174-60d014aa2bd9>:4: SettingWithCopyWarning: \n",
      "A value is trying to be set on a copy of a slice from a DataFrame.\n",
      "Try using .loc[row_indexer,col_indexer] = value instead\n",
      "\n",
      "See the caveats in the documentation: https://pandas.pydata.org/pandas-docs/stable/user_guide/indexing.html#returning-a-view-versus-a-copy\n",
      "  valid['Predictions']= predictions\n"
     ]
    },
    {
     "data": {
      "image/png": "[encoded data removed]",
      "text/plain": [
       "<Figure size 1152x576 with 1 Axes>"
      ]
     },
     "metadata": {},
     "output_type": "display_data"
    }
   ],
   "source": [
    "#plot the data\n",
    "train  = data[:training_data_len]\n",
    "valid = data[training_data_len:]\n",
    "valid['Predictions']= predictions\n",
    "# visualize\n",
    "plt.figure(figsize= (16,8))\n",
    "plt.title('Model')\n",
    "plt.xlabel('Date', fontsize =18)\n",
    "plt.ylabel('Close Price USD ($)', fontsize=18)\n",
    "plt.plot(train['Close'])\n",
    "plt.plot(valid[['Close', 'Predictions']])\n",
    "plt.legend(['Train', 'Val', 'Predictions'], loc ='lower right')\n",
    "plt.show()"
   ]
  },
  {
   "cell_type": "code",
   "execution_count": 175,
   "metadata": {},
   "outputs": [
    {
     "data": {
      "text/html": [
       "<div>\n",
       "<style scoped>\n",
       "    .dataframe tbody tr th:only-of-type {\n",
       "        vertical-align: middle;\n",
       "    }\n",
       "\n",
       "    .dataframe tbody tr th {\n",
       "        vertical-align: top;\n",
       "    }\n",
       "\n",
       "    .dataframe thead th {\n",
       "        text-align: right;\n",
       "    }\n",
       "</style>\n",
       "<table border=\"1\" class=\"dataframe\">\n",
       "  <thead>\n",
       "    <tr style=\"text-align: right;\">\n",
       "      <th></th>\n",
       "      <th>Close</th>\n",
       "      <th>Predictions</th>\n",
       "    </tr>\n",
       "    <tr>\n",
       "      <th>Date</th>\n",
       "      <th></th>\n",
       "      <th></th>\n",
       "    </tr>\n",
       "  </thead>\n",
       "  <tbody>\n",
       "    <tr>\n",
       "      <th>2019-05-14</th>\n",
       "      <td>51.250000</td>\n",
       "      <td>51.815582</td>\n",
       "    </tr>\n",
       "    <tr>\n",
       "      <th>2019-05-15</th>\n",
       "      <td>51.419998</td>\n",
       "      <td>51.662201</td>\n",
       "    </tr>\n",
       "    <tr>\n",
       "      <th>2019-05-16</th>\n",
       "      <td>52.040001</td>\n",
       "      <td>51.581863</td>\n",
       "    </tr>\n",
       "    <tr>\n",
       "      <th>2019-05-17</th>\n",
       "      <td>52.070000</td>\n",
       "      <td>51.642471</td>\n",
       "    </tr>\n",
       "    <tr>\n",
       "      <th>2019-05-20</th>\n",
       "      <td>52.320000</td>\n",
       "      <td>51.761662</td>\n",
       "    </tr>\n",
       "    <tr>\n",
       "      <th>...</th>\n",
       "      <td>...</td>\n",
       "      <td>...</td>\n",
       "    </tr>\n",
       "    <tr>\n",
       "      <th>2021-03-08</th>\n",
       "      <td>75.790001</td>\n",
       "      <td>78.225998</td>\n",
       "    </tr>\n",
       "    <tr>\n",
       "      <th>2021-03-09</th>\n",
       "      <td>75.629997</td>\n",
       "      <td>77.542320</td>\n",
       "    </tr>\n",
       "    <tr>\n",
       "      <th>2021-03-10</th>\n",
       "      <td>72.970001</td>\n",
       "      <td>76.891777</td>\n",
       "    </tr>\n",
       "    <tr>\n",
       "      <th>2021-03-11</th>\n",
       "      <td>74.099998</td>\n",
       "      <td>75.889404</td>\n",
       "    </tr>\n",
       "    <tr>\n",
       "      <th>2021-03-12</th>\n",
       "      <td>74.580002</td>\n",
       "      <td>75.145317</td>\n",
       "    </tr>\n",
       "  </tbody>\n",
       "</table>\n",
       "<p>462 rows × 2 columns</p>\n",
       "</div>"
      ],
      "text/plain": [
       "                Close  Predictions\n",
       "Date                              \n",
       "2019-05-14  51.250000    51.815582\n",
       "2019-05-15  51.419998    51.662201\n",
       "2019-05-16  52.040001    51.581863\n",
       "2019-05-17  52.070000    51.642471\n",
       "2019-05-20  52.320000    51.761662\n",
       "...               ...          ...\n",
       "2021-03-08  75.790001    78.225998\n",
       "2021-03-09  75.629997    77.542320\n",
       "2021-03-10  72.970001    76.891777\n",
       "2021-03-11  74.099998    75.889404\n",
       "2021-03-12  74.580002    75.145317\n",
       "\n",
       "[462 rows x 2 columns]"
      ]
     },
     "execution_count": 175,
     "metadata": {},
     "output_type": "execute_result"
    }
   ],
   "source": [
    "valid"
   ]
  },
  {
   "cell_type": "code",
   "execution_count": 176,
   "metadata": {},
   "outputs": [],
   "source": [
    "Bhp =web.DataReader('BHP', data_source='yahoo', start='2012-01-01', end='2021-03-15')"
   ]
  },
  {
   "cell_type": "code",
   "execution_count": 177,
   "metadata": {},
   "outputs": [],
   "source": [
    "new_df = Bhp.filter(['Close'])"
   ]
  },
  {
   "cell_type": "code",
   "execution_count": 178,
   "metadata": {},
   "outputs": [],
   "source": [
    "last_60_days= new_df[-60:].values"
   ]
  },
  {
   "cell_type": "code",
   "execution_count": 179,
   "metadata": {},
   "outputs": [],
   "source": [
    "last_60_days_scaled = scaler.transform(last_60_days)"
   ]
  },
  {
   "cell_type": "code",
   "execution_count": 180,
   "metadata": {},
   "outputs": [
    {
     "data": {
      "text/plain": [
       "array([[74.703]], dtype=float32)"
      ]
     },
     "execution_count": 180,
     "metadata": {},
     "output_type": "execute_result"
    }
   ],
   "source": [
    "### Prediction for 9th march closing price for BHP\n",
    "X_test = []\n",
    "X_test.append(last_60_days_scaled)\n",
    "X_test = np.array(X_test)\n",
    "X_test = np.reshape(X_test, (X_test.shape[0], X_test.shape[1], 1))\n",
    "pred_price = model.predict(X_test)\n",
    "pred_price = scaler.inverse_transform(pred_price)\n",
    "pred_price"
   ]
  },
  {
   "cell_type": "code",
   "execution_count": 181,
   "metadata": {},
   "outputs": [
    {
     "data": {
      "text/html": [
       "<div>\n",
       "<style scoped>\n",
       "    .dataframe tbody tr th:only-of-type {\n",
       "        vertical-align: middle;\n",
       "    }\n",
       "\n",
       "    .dataframe tbody tr th {\n",
       "        vertical-align: top;\n",
       "    }\n",
       "\n",
       "    .dataframe thead th {\n",
       "        text-align: right;\n",
       "    }\n",
       "</style>\n",
       "<table border=\"1\" class=\"dataframe\">\n",
       "  <thead>\n",
       "    <tr style=\"text-align: right;\">\n",
       "      <th></th>\n",
       "      <th>High</th>\n",
       "      <th>Low</th>\n",
       "      <th>Open</th>\n",
       "      <th>Close</th>\n",
       "      <th>Volume</th>\n",
       "      <th>Adj Close</th>\n",
       "    </tr>\n",
       "    <tr>\n",
       "      <th>Date</th>\n",
       "      <th></th>\n",
       "      <th></th>\n",
       "      <th></th>\n",
       "      <th></th>\n",
       "      <th></th>\n",
       "      <th></th>\n",
       "    </tr>\n",
       "  </thead>\n",
       "  <tbody>\n",
       "    <tr>\n",
       "      <th>2012-01-03</th>\n",
       "      <td>75.279999</td>\n",
       "      <td>74.269997</td>\n",
       "      <td>74.629997</td>\n",
       "      <td>74.760002</td>\n",
       "      <td>4694500.0</td>\n",
       "      <td>49.140343</td>\n",
       "    </tr>\n",
       "    <tr>\n",
       "      <th>2012-01-04</th>\n",
       "      <td>75.050003</td>\n",
       "      <td>73.739998</td>\n",
       "      <td>74.449997</td>\n",
       "      <td>74.790001</td>\n",
       "      <td>2617100.0</td>\n",
       "      <td>49.160076</td>\n",
       "    </tr>\n",
       "    <tr>\n",
       "      <th>2012-01-05</th>\n",
       "      <td>73.839996</td>\n",
       "      <td>72.709999</td>\n",
       "      <td>73.360001</td>\n",
       "      <td>73.379997</td>\n",
       "      <td>1883200.0</td>\n",
       "      <td>48.233261</td>\n",
       "    </tr>\n",
       "    <tr>\n",
       "      <th>2012-01-06</th>\n",
       "      <td>73.550003</td>\n",
       "      <td>72.300003</td>\n",
       "      <td>73.489998</td>\n",
       "      <td>72.449997</td>\n",
       "      <td>1924900.0</td>\n",
       "      <td>47.621967</td>\n",
       "    </tr>\n",
       "    <tr>\n",
       "      <th>2012-01-09</th>\n",
       "      <td>73.050003</td>\n",
       "      <td>72.160004</td>\n",
       "      <td>72.919998</td>\n",
       "      <td>72.709999</td>\n",
       "      <td>2276300.0</td>\n",
       "      <td>47.792877</td>\n",
       "    </tr>\n",
       "    <tr>\n",
       "      <th>...</th>\n",
       "      <td>...</td>\n",
       "      <td>...</td>\n",
       "      <td>...</td>\n",
       "      <td>...</td>\n",
       "      <td>...</td>\n",
       "      <td>...</td>\n",
       "    </tr>\n",
       "    <tr>\n",
       "      <th>2021-03-08</th>\n",
       "      <td>76.379997</td>\n",
       "      <td>75.279999</td>\n",
       "      <td>75.690002</td>\n",
       "      <td>75.790001</td>\n",
       "      <td>2949300.0</td>\n",
       "      <td>75.790001</td>\n",
       "    </tr>\n",
       "    <tr>\n",
       "      <th>2021-03-09</th>\n",
       "      <td>76.320000</td>\n",
       "      <td>73.449997</td>\n",
       "      <td>75.029999</td>\n",
       "      <td>75.629997</td>\n",
       "      <td>5009600.0</td>\n",
       "      <td>75.629997</td>\n",
       "    </tr>\n",
       "    <tr>\n",
       "      <th>2021-03-10</th>\n",
       "      <td>74.260002</td>\n",
       "      <td>72.550003</td>\n",
       "      <td>73.769997</td>\n",
       "      <td>72.970001</td>\n",
       "      <td>3378200.0</td>\n",
       "      <td>72.970001</td>\n",
       "    </tr>\n",
       "    <tr>\n",
       "      <th>2021-03-11</th>\n",
       "      <td>74.190002</td>\n",
       "      <td>73.550003</td>\n",
       "      <td>74.000000</td>\n",
       "      <td>74.099998</td>\n",
       "      <td>2075800.0</td>\n",
       "      <td>74.099998</td>\n",
       "    </tr>\n",
       "    <tr>\n",
       "      <th>2021-03-12</th>\n",
       "      <td>74.650002</td>\n",
       "      <td>72.910004</td>\n",
       "      <td>73.279999</td>\n",
       "      <td>74.580002</td>\n",
       "      <td>2343100.0</td>\n",
       "      <td>74.580002</td>\n",
       "    </tr>\n",
       "  </tbody>\n",
       "</table>\n",
       "<p>2313 rows × 6 columns</p>\n",
       "</div>"
      ],
      "text/plain": [
       "                 High        Low       Open      Close     Volume  Adj Close\n",
       "Date                                                                        \n",
       "2012-01-03  75.279999  74.269997  74.629997  74.760002  4694500.0  49.140343\n",
       "2012-01-04  75.050003  73.739998  74.449997  74.790001  2617100.0  49.160076\n",
       "2012-01-05  73.839996  72.709999  73.360001  73.379997  1883200.0  48.233261\n",
       "2012-01-06  73.550003  72.300003  73.489998  72.449997  1924900.0  47.621967\n",
       "2012-01-09  73.050003  72.160004  72.919998  72.709999  2276300.0  47.792877\n",
       "...               ...        ...        ...        ...        ...        ...\n",
       "2021-03-08  76.379997  75.279999  75.690002  75.790001  2949300.0  75.790001\n",
       "2021-03-09  76.320000  73.449997  75.029999  75.629997  5009600.0  75.629997\n",
       "2021-03-10  74.260002  72.550003  73.769997  72.970001  3378200.0  72.970001\n",
       "2021-03-11  74.190002  73.550003  74.000000  74.099998  2075800.0  74.099998\n",
       "2021-03-12  74.650002  72.910004  73.279999  74.580002  2343100.0  74.580002\n",
       "\n",
       "[2313 rows x 6 columns]"
      ]
     },
     "execution_count": 181,
     "metadata": {},
     "output_type": "execute_result"
    }
   ],
   "source": [
    "BHP"
   ]
  },
  {
   "cell_type": "code",
   "execution_count": 119,
   "metadata": {},
   "outputs": [
    {
     "name": "stderr",
     "output_type": "stream",
     "text": [
      "C:\\Users\\Asus\\anaconda3\\lib\\site-packages\\statsmodels\\tsa\\base\\tsa_model.py:216: ValueWarning: A date index has been provided, but it has no associated frequency information and so will be ignored when e.g. forecasting.\n",
      "  warnings.warn('A date index has been provided, but it has no'\n",
      "C:\\Users\\Asus\\anaconda3\\lib\\site-packages\\statsmodels\\tsa\\base\\tsa_model.py:216: ValueWarning: A date index has been provided, but it has no associated frequency information and so will be ignored when e.g. forecasting.\n",
      "  warnings.warn('A date index has been provided, but it has no'\n",
      "C:\\Users\\Asus\\anaconda3\\lib\\site-packages\\statsmodels\\tsa\\base\\tsa_model.py:216: ValueWarning: A date index has been provided, but it has no associated frequency information and so will be ignored when e.g. forecasting.\n",
      "  warnings.warn('A date index has been provided, but it has no'\n"
     ]
    },
    {
     "name": "stdout",
     "output_type": "stream",
     "text": [
      "2313    74.608241\n",
      "dtype: float64\n"
     ]
    },
    {
     "name": "stderr",
     "output_type": "stream",
     "text": [
      "C:\\Users\\Asus\\anaconda3\\lib\\site-packages\\statsmodels\\tsa\\base\\tsa_model.py:580: ValueWarning: No supported index is available. Prediction results will be given with an integer index beginning at `start`.\n",
      "  warnings.warn('No supported index is available.'\n"
     ]
    }
   ],
   "source": [
    "from statsmodels.tsa.arima.model import ARIMA\n",
    "from random import random\n",
    "# contrived dataset\n",
    "#data = [x + random() for x in range(1, 100)]\n",
    "# fit model\n",
    "modelar = ARIMA(BHP['Close'], order=(1, 1, 1))\n",
    "modela_fit = modelar.fit()\n",
    "# make prediction\n",
    "yhat = modela_fit.predict((len(BHP)), (len(BHP)), typ='levels')\n",
    "print(yhat)"
   ]
  },
  {
   "cell_type": "code",
   "execution_count": 120,
   "metadata": {},
   "outputs": [],
   "source": [
    "### BHP prediction price for 15th of march -- array([[74.703]]\n",
    "### because today is 14.03"
   ]
  },
  {
   "cell_type": "code",
   "execution_count": 121,
   "metadata": {},
   "outputs": [],
   "source": [
    "### DE company"
   ]
  },
  {
   "cell_type": "code",
   "execution_count": 122,
   "metadata": {},
   "outputs": [],
   "source": [
    "### Predicting for DE company \n",
    "DE =web.DataReader('DE', data_source='yahoo', start='2012-01-01', end='2021-03-15')\n",
    "#DE = pd.read_csv('C:/Users/Asus/Documents/SALTANAT/fds/Homework01_algo_trading/Data/DE.csv')  "
   ]
  },
  {
   "cell_type": "code",
   "execution_count": 123,
   "metadata": {},
   "outputs": [],
   "source": [
    "#DE = DE[['Date', 'Close']]\n",
    "new_df = DE.filter(['Close'])\n",
    "last_60_days= new_df[-60:].values\n",
    "last_60_days_scaled = scaler.transform(last_60_days)"
   ]
  },
  {
   "cell_type": "code",
   "execution_count": 124,
   "metadata": {},
   "outputs": [
    {
     "data": {
      "text/plain": [
       "array([[229.32642]], dtype=float32)"
      ]
     },
     "execution_count": 124,
     "metadata": {},
     "output_type": "execute_result"
    }
   ],
   "source": [
    "### Prediction for 10th march closing price for DE\n",
    "X_test = []\n",
    "X_test.append(last_60_days_scaled)\n",
    "X_test = np.array(X_test)\n",
    "X_test = np.reshape(X_test, (X_test.shape[0], X_test.shape[1], 1))\n",
    "pred_price = model.predict(X_test)\n",
    "pred_price = scaler.inverse_transform(pred_price)\n",
    "pred_price"
   ]
  },
  {
   "cell_type": "code",
   "execution_count": 125,
   "metadata": {},
   "outputs": [
    {
     "data": {
      "text/html": [
       "<div>\n",
       "<style scoped>\n",
       "    .dataframe tbody tr th:only-of-type {\n",
       "        vertical-align: middle;\n",
       "    }\n",
       "\n",
       "    .dataframe tbody tr th {\n",
       "        vertical-align: top;\n",
       "    }\n",
       "\n",
       "    .dataframe thead th {\n",
       "        text-align: right;\n",
       "    }\n",
       "</style>\n",
       "<table border=\"1\" class=\"dataframe\">\n",
       "  <thead>\n",
       "    <tr style=\"text-align: right;\">\n",
       "      <th></th>\n",
       "      <th>High</th>\n",
       "      <th>Low</th>\n",
       "      <th>Open</th>\n",
       "      <th>Close</th>\n",
       "      <th>Volume</th>\n",
       "      <th>Adj Close</th>\n",
       "    </tr>\n",
       "    <tr>\n",
       "      <th>Date</th>\n",
       "      <th></th>\n",
       "      <th></th>\n",
       "      <th></th>\n",
       "      <th></th>\n",
       "      <th></th>\n",
       "      <th></th>\n",
       "    </tr>\n",
       "  </thead>\n",
       "  <tbody>\n",
       "    <tr>\n",
       "      <th>2012-01-03</th>\n",
       "      <td>79.989998</td>\n",
       "      <td>78.839996</td>\n",
       "      <td>79.120003</td>\n",
       "      <td>79.309998</td>\n",
       "      <td>3317300.0</td>\n",
       "      <td>64.749222</td>\n",
       "    </tr>\n",
       "    <tr>\n",
       "      <th>2012-01-04</th>\n",
       "      <td>81.099998</td>\n",
       "      <td>79.129997</td>\n",
       "      <td>79.129997</td>\n",
       "      <td>80.470001</td>\n",
       "      <td>4381900.0</td>\n",
       "      <td>65.696236</td>\n",
       "    </tr>\n",
       "    <tr>\n",
       "      <th>2012-01-05</th>\n",
       "      <td>81.750000</td>\n",
       "      <td>80.120003</td>\n",
       "      <td>80.449997</td>\n",
       "      <td>81.639999</td>\n",
       "      <td>3498500.0</td>\n",
       "      <td>66.651436</td>\n",
       "    </tr>\n",
       "    <tr>\n",
       "      <th>2012-01-06</th>\n",
       "      <td>82.570000</td>\n",
       "      <td>81.139999</td>\n",
       "      <td>82.000000</td>\n",
       "      <td>82.300003</td>\n",
       "      <td>3839500.0</td>\n",
       "      <td>67.190277</td>\n",
       "    </tr>\n",
       "    <tr>\n",
       "      <th>2012-01-09</th>\n",
       "      <td>82.970001</td>\n",
       "      <td>82.220001</td>\n",
       "      <td>82.620003</td>\n",
       "      <td>82.730003</td>\n",
       "      <td>3501300.0</td>\n",
       "      <td>67.541321</td>\n",
       "    </tr>\n",
       "    <tr>\n",
       "      <th>...</th>\n",
       "      <td>...</td>\n",
       "      <td>...</td>\n",
       "      <td>...</td>\n",
       "      <td>...</td>\n",
       "      <td>...</td>\n",
       "      <td>...</td>\n",
       "    </tr>\n",
       "    <tr>\n",
       "      <th>2021-03-08</th>\n",
       "      <td>359.910004</td>\n",
       "      <td>349.220001</td>\n",
       "      <td>354.429993</td>\n",
       "      <td>353.700012</td>\n",
       "      <td>1762800.0</td>\n",
       "      <td>353.700012</td>\n",
       "    </tr>\n",
       "    <tr>\n",
       "      <th>2021-03-09</th>\n",
       "      <td>357.390015</td>\n",
       "      <td>351.869995</td>\n",
       "      <td>354.720001</td>\n",
       "      <td>352.690002</td>\n",
       "      <td>1456800.0</td>\n",
       "      <td>352.690002</td>\n",
       "    </tr>\n",
       "    <tr>\n",
       "      <th>2021-03-10</th>\n",
       "      <td>361.690002</td>\n",
       "      <td>351.010010</td>\n",
       "      <td>351.220001</td>\n",
       "      <td>361.220001</td>\n",
       "      <td>1401100.0</td>\n",
       "      <td>361.220001</td>\n",
       "    </tr>\n",
       "    <tr>\n",
       "      <th>2021-03-11</th>\n",
       "      <td>366.820007</td>\n",
       "      <td>360.779999</td>\n",
       "      <td>365.000000</td>\n",
       "      <td>364.459991</td>\n",
       "      <td>1675700.0</td>\n",
       "      <td>364.459991</td>\n",
       "    </tr>\n",
       "    <tr>\n",
       "      <th>2021-03-12</th>\n",
       "      <td>370.760010</td>\n",
       "      <td>363.339996</td>\n",
       "      <td>363.549988</td>\n",
       "      <td>369.489990</td>\n",
       "      <td>1940800.0</td>\n",
       "      <td>369.489990</td>\n",
       "    </tr>\n",
       "  </tbody>\n",
       "</table>\n",
       "<p>2313 rows × 6 columns</p>\n",
       "</div>"
      ],
      "text/plain": [
       "                  High         Low        Open       Close     Volume  \\\n",
       "Date                                                                    \n",
       "2012-01-03   79.989998   78.839996   79.120003   79.309998  3317300.0   \n",
       "2012-01-04   81.099998   79.129997   79.129997   80.470001  4381900.0   \n",
       "2012-01-05   81.750000   80.120003   80.449997   81.639999  3498500.0   \n",
       "2012-01-06   82.570000   81.139999   82.000000   82.300003  3839500.0   \n",
       "2012-01-09   82.970001   82.220001   82.620003   82.730003  3501300.0   \n",
       "...                ...         ...         ...         ...        ...   \n",
       "2021-03-08  359.910004  349.220001  354.429993  353.700012  1762800.0   \n",
       "2021-03-09  357.390015  351.869995  354.720001  352.690002  1456800.0   \n",
       "2021-03-10  361.690002  351.010010  351.220001  361.220001  1401100.0   \n",
       "2021-03-11  366.820007  360.779999  365.000000  364.459991  1675700.0   \n",
       "2021-03-12  370.760010  363.339996  363.549988  369.489990  1940800.0   \n",
       "\n",
       "             Adj Close  \n",
       "Date                    \n",
       "2012-01-03   64.749222  \n",
       "2012-01-04   65.696236  \n",
       "2012-01-05   66.651436  \n",
       "2012-01-06   67.190277  \n",
       "2012-01-09   67.541321  \n",
       "...                ...  \n",
       "2021-03-08  353.700012  \n",
       "2021-03-09  352.690002  \n",
       "2021-03-10  361.220001  \n",
       "2021-03-11  364.459991  \n",
       "2021-03-12  369.489990  \n",
       "\n",
       "[2313 rows x 6 columns]"
      ]
     },
     "execution_count": 125,
     "metadata": {},
     "output_type": "execute_result"
    }
   ],
   "source": [
    "## DE - [[370.61954]]\n",
    "DE"
   ]
  },
  {
   "cell_type": "code",
   "execution_count": 126,
   "metadata": {},
   "outputs": [
    {
     "name": "stderr",
     "output_type": "stream",
     "text": [
      "C:\\Users\\Asus\\anaconda3\\lib\\site-packages\\statsmodels\\tsa\\base\\tsa_model.py:216: ValueWarning: A date index has been provided, but it has no associated frequency information and so will be ignored when e.g. forecasting.\n",
      "  warnings.warn('A date index has been provided, but it has no'\n",
      "C:\\Users\\Asus\\anaconda3\\lib\\site-packages\\statsmodels\\tsa\\base\\tsa_model.py:216: ValueWarning: A date index has been provided, but it has no associated frequency information and so will be ignored when e.g. forecasting.\n",
      "  warnings.warn('A date index has been provided, but it has no'\n",
      "C:\\Users\\Asus\\anaconda3\\lib\\site-packages\\statsmodels\\tsa\\base\\tsa_model.py:216: ValueWarning: A date index has been provided, but it has no associated frequency information and so will be ignored when e.g. forecasting.\n",
      "  warnings.warn('A date index has been provided, but it has no'\n"
     ]
    },
    {
     "name": "stdout",
     "output_type": "stream",
     "text": [
      "2313    369.090382\n",
      "dtype: float64\n"
     ]
    },
    {
     "name": "stderr",
     "output_type": "stream",
     "text": [
      "C:\\Users\\Asus\\anaconda3\\lib\\site-packages\\statsmodels\\tsa\\base\\tsa_model.py:580: ValueWarning: No supported index is available. Prediction results will be given with an integer index beginning at `start`.\n",
      "  warnings.warn('No supported index is available.'\n"
     ]
    }
   ],
   "source": [
    "from statsmodels.tsa.arima.model import ARIMA\n",
    "from random import random\n",
    "# contrived dataset\n",
    "#data = [x + random() for x in range(1, 100)]\n",
    "# fit model\n",
    "modelar = ARIMA(DE['Close'], order=(1, 1, 1))\n",
    "modela_fit = modelar.fit()\n",
    "# make prediction\n",
    "yhat = modela_fit.predict((len(DE)), (len(DE)), typ='levels')\n",
    "print(yhat)"
   ]
  },
  {
   "cell_type": "code",
   "execution_count": 128,
   "metadata": {},
   "outputs": [
    {
     "name": "stdout",
     "output_type": "stream",
     "text": [
      "2313    370.61954\n",
      "dtype: float64\n"
     ]
    },
    {
     "name": "stderr",
     "output_type": "stream",
     "text": [
      "C:\\Users\\Asus\\anaconda3\\lib\\site-packages\\statsmodels\\tsa\\base\\tsa_model.py:216: ValueWarning: A date index has been provided, but it has no associated frequency information and so will be ignored when e.g. forecasting.\n",
      "  warnings.warn('A date index has been provided, but it has no'\n",
      "C:\\Users\\Asus\\anaconda3\\lib\\site-packages\\statsmodels\\tsa\\base\\tsa_model.py:580: ValueWarning: No supported index is available. Prediction results will be given with an integer index beginning at `start`.\n",
      "  warnings.warn('No supported index is available.'\n"
     ]
    }
   ],
   "source": [
    "from statsmodels.tsa.ar_model import AutoReg\n",
    "from random import random\n",
    "modelREG = AutoReg(DE['Close'], lags=1)\n",
    "model_fit2 = modelREG.fit()\n",
    "# make prediction\n",
    "yhat = model_fit2.predict(len(BHP), len(BHP))\n",
    "print(yhat)"
   ]
  },
  {
   "cell_type": "code",
   "execution_count": 129,
   "metadata": {},
   "outputs": [],
   "source": [
    "### FE company"
   ]
  },
  {
   "cell_type": "code",
   "execution_count": 130,
   "metadata": {},
   "outputs": [],
   "source": [
    "FE =web.DataReader('FE', data_source='yahoo', start='2012-01-01', end='2021-03-15')"
   ]
  },
  {
   "cell_type": "code",
   "execution_count": 131,
   "metadata": {},
   "outputs": [],
   "source": [
    "new_df = FE.filter(['Close'])\n",
    "last_60_days= new_df[-60:].values\n",
    "last_60_days_scaled = scaler.transform(last_60_days)"
   ]
  },
  {
   "cell_type": "code",
   "execution_count": 132,
   "metadata": {},
   "outputs": [
    {
     "data": {
      "text/plain": [
       "array([[33.854645]], dtype=float32)"
      ]
     },
     "execution_count": 132,
     "metadata": {},
     "output_type": "execute_result"
    }
   ],
   "source": [
    "X_test = []\n",
    "X_test.append(last_60_days_scaled)\n",
    "X_test = np.array(X_test)\n",
    "X_test = np.reshape(X_test, (X_test.shape[0], X_test.shape[1], 1))\n",
    "pred_price = model.predict(X_test)\n",
    "pred_price = scaler.inverse_transform(pred_price)\n",
    "pred_price"
   ]
  },
  {
   "cell_type": "code",
   "execution_count": 133,
   "metadata": {},
   "outputs": [
    {
     "data": {
      "text/html": [
       "<div>\n",
       "<style scoped>\n",
       "    .dataframe tbody tr th:only-of-type {\n",
       "        vertical-align: middle;\n",
       "    }\n",
       "\n",
       "    .dataframe tbody tr th {\n",
       "        vertical-align: top;\n",
       "    }\n",
       "\n",
       "    .dataframe thead th {\n",
       "        text-align: right;\n",
       "    }\n",
       "</style>\n",
       "<table border=\"1\" class=\"dataframe\">\n",
       "  <thead>\n",
       "    <tr style=\"text-align: right;\">\n",
       "      <th></th>\n",
       "      <th>High</th>\n",
       "      <th>Low</th>\n",
       "      <th>Open</th>\n",
       "      <th>Close</th>\n",
       "      <th>Volume</th>\n",
       "      <th>Adj Close</th>\n",
       "    </tr>\n",
       "    <tr>\n",
       "      <th>Date</th>\n",
       "      <th></th>\n",
       "      <th></th>\n",
       "      <th></th>\n",
       "      <th></th>\n",
       "      <th></th>\n",
       "      <th></th>\n",
       "    </tr>\n",
       "  </thead>\n",
       "  <tbody>\n",
       "    <tr>\n",
       "      <th>2012-01-03</th>\n",
       "      <td>44.740002</td>\n",
       "      <td>42.520000</td>\n",
       "      <td>44.669998</td>\n",
       "      <td>42.810001</td>\n",
       "      <td>5298900.0</td>\n",
       "      <td>28.354767</td>\n",
       "    </tr>\n",
       "    <tr>\n",
       "      <th>2012-01-04</th>\n",
       "      <td>42.770000</td>\n",
       "      <td>41.959999</td>\n",
       "      <td>42.770000</td>\n",
       "      <td>42.189999</td>\n",
       "      <td>4496500.0</td>\n",
       "      <td>27.944120</td>\n",
       "    </tr>\n",
       "    <tr>\n",
       "      <th>2012-01-05</th>\n",
       "      <td>42.259998</td>\n",
       "      <td>41.910000</td>\n",
       "      <td>42.150002</td>\n",
       "      <td>42.060001</td>\n",
       "      <td>3784800.0</td>\n",
       "      <td>27.858017</td>\n",
       "    </tr>\n",
       "    <tr>\n",
       "      <th>2012-01-06</th>\n",
       "      <td>42.290001</td>\n",
       "      <td>41.990002</td>\n",
       "      <td>42.169998</td>\n",
       "      <td>42.209999</td>\n",
       "      <td>2628600.0</td>\n",
       "      <td>27.957363</td>\n",
       "    </tr>\n",
       "    <tr>\n",
       "      <th>2012-01-09</th>\n",
       "      <td>42.509998</td>\n",
       "      <td>42.049999</td>\n",
       "      <td>42.320000</td>\n",
       "      <td>42.400002</td>\n",
       "      <td>5642400.0</td>\n",
       "      <td>28.083216</td>\n",
       "    </tr>\n",
       "    <tr>\n",
       "      <th>...</th>\n",
       "      <td>...</td>\n",
       "      <td>...</td>\n",
       "      <td>...</td>\n",
       "      <td>...</td>\n",
       "      <td>...</td>\n",
       "      <td>...</td>\n",
       "    </tr>\n",
       "    <tr>\n",
       "      <th>2021-03-08</th>\n",
       "      <td>33.580002</td>\n",
       "      <td>33.180000</td>\n",
       "      <td>33.480000</td>\n",
       "      <td>33.369999</td>\n",
       "      <td>4053800.0</td>\n",
       "      <td>33.369999</td>\n",
       "    </tr>\n",
       "    <tr>\n",
       "      <th>2021-03-09</th>\n",
       "      <td>34.430000</td>\n",
       "      <td>33.639999</td>\n",
       "      <td>33.720001</td>\n",
       "      <td>34.180000</td>\n",
       "      <td>5601100.0</td>\n",
       "      <td>34.180000</td>\n",
       "    </tr>\n",
       "    <tr>\n",
       "      <th>2021-03-10</th>\n",
       "      <td>34.869999</td>\n",
       "      <td>34.250000</td>\n",
       "      <td>34.270000</td>\n",
       "      <td>34.549999</td>\n",
       "      <td>3756500.0</td>\n",
       "      <td>34.549999</td>\n",
       "    </tr>\n",
       "    <tr>\n",
       "      <th>2021-03-11</th>\n",
       "      <td>34.759998</td>\n",
       "      <td>34.139999</td>\n",
       "      <td>34.369999</td>\n",
       "      <td>34.650002</td>\n",
       "      <td>4865500.0</td>\n",
       "      <td>34.650002</td>\n",
       "    </tr>\n",
       "    <tr>\n",
       "      <th>2021-03-12</th>\n",
       "      <td>35.009998</td>\n",
       "      <td>34.459999</td>\n",
       "      <td>34.840000</td>\n",
       "      <td>34.930000</td>\n",
       "      <td>4095100.0</td>\n",
       "      <td>34.930000</td>\n",
       "    </tr>\n",
       "  </tbody>\n",
       "</table>\n",
       "<p>2313 rows × 6 columns</p>\n",
       "</div>"
      ],
      "text/plain": [
       "                 High        Low       Open      Close     Volume  Adj Close\n",
       "Date                                                                        \n",
       "2012-01-03  44.740002  42.520000  44.669998  42.810001  5298900.0  28.354767\n",
       "2012-01-04  42.770000  41.959999  42.770000  42.189999  4496500.0  27.944120\n",
       "2012-01-05  42.259998  41.910000  42.150002  42.060001  3784800.0  27.858017\n",
       "2012-01-06  42.290001  41.990002  42.169998  42.209999  2628600.0  27.957363\n",
       "2012-01-09  42.509998  42.049999  42.320000  42.400002  5642400.0  28.083216\n",
       "...               ...        ...        ...        ...        ...        ...\n",
       "2021-03-08  33.580002  33.180000  33.480000  33.369999  4053800.0  33.369999\n",
       "2021-03-09  34.430000  33.639999  33.720001  34.180000  5601100.0  34.180000\n",
       "2021-03-10  34.869999  34.250000  34.270000  34.549999  3756500.0  34.549999\n",
       "2021-03-11  34.759998  34.139999  34.369999  34.650002  4865500.0  34.650002\n",
       "2021-03-12  35.009998  34.459999  34.840000  34.930000  4095100.0  34.930000\n",
       "\n",
       "[2313 rows x 6 columns]"
      ]
     },
     "execution_count": 133,
     "metadata": {},
     "output_type": "execute_result"
    }
   ],
   "source": [
    "FE"
   ]
  },
  {
   "cell_type": "code",
   "execution_count": 134,
   "metadata": {},
   "outputs": [],
   "source": [
    "### FE price -- [[33.854645]]"
   ]
  },
  {
   "cell_type": "code",
   "execution_count": 135,
   "metadata": {},
   "outputs": [],
   "source": [
    "## GOOG company prediction"
   ]
  },
  {
   "cell_type": "code",
   "execution_count": 136,
   "metadata": {},
   "outputs": [],
   "source": [
    "GOOG =web.DataReader('GOOG', data_source='yahoo', start='2012-01-01', end='2021-03-15')"
   ]
  },
  {
   "cell_type": "code",
   "execution_count": 137,
   "metadata": {},
   "outputs": [],
   "source": [
    "new_df = GOOG.filter(['Close'])\n",
    "last_60_days= new_df[-60:].values\n",
    "last_60_days_scaled = scaler.transform(last_60_days)"
   ]
  },
  {
   "cell_type": "code",
   "execution_count": 138,
   "metadata": {},
   "outputs": [
    {
     "data": {
      "text/plain": [
       "array([[256.27155]], dtype=float32)"
      ]
     },
     "execution_count": 138,
     "metadata": {},
     "output_type": "execute_result"
    }
   ],
   "source": [
    "X_test = []\n",
    "X_test.append(last_60_days_scaled)\n",
    "X_test = np.array(X_test)\n",
    "X_test = np.reshape(X_test, (X_test.shape[0], X_test.shape[1], 1))\n",
    "pred_price = model.predict(X_test)\n",
    "pred_price = scaler.inverse_transform(pred_price)\n",
    "pred_price"
   ]
  },
  {
   "cell_type": "code",
   "execution_count": 139,
   "metadata": {},
   "outputs": [
    {
     "data": {
      "text/html": [
       "<div>\n",
       "<style scoped>\n",
       "    .dataframe tbody tr th:only-of-type {\n",
       "        vertical-align: middle;\n",
       "    }\n",
       "\n",
       "    .dataframe tbody tr th {\n",
       "        vertical-align: top;\n",
       "    }\n",
       "\n",
       "    .dataframe thead th {\n",
       "        text-align: right;\n",
       "    }\n",
       "</style>\n",
       "<table border=\"1\" class=\"dataframe\">\n",
       "  <thead>\n",
       "    <tr style=\"text-align: right;\">\n",
       "      <th></th>\n",
       "      <th>High</th>\n",
       "      <th>Low</th>\n",
       "      <th>Open</th>\n",
       "      <th>Close</th>\n",
       "      <th>Volume</th>\n",
       "      <th>Adj Close</th>\n",
       "    </tr>\n",
       "    <tr>\n",
       "      <th>Date</th>\n",
       "      <th></th>\n",
       "      <th></th>\n",
       "      <th></th>\n",
       "      <th></th>\n",
       "      <th></th>\n",
       "      <th></th>\n",
       "    </tr>\n",
       "  </thead>\n",
       "  <tbody>\n",
       "    <tr>\n",
       "      <th>2012-01-03</th>\n",
       "      <td>332.827484</td>\n",
       "      <td>324.966949</td>\n",
       "      <td>325.250885</td>\n",
       "      <td>331.462585</td>\n",
       "      <td>7380561.0</td>\n",
       "      <td>331.462585</td>\n",
       "    </tr>\n",
       "    <tr>\n",
       "      <th>2012-01-04</th>\n",
       "      <td>333.873566</td>\n",
       "      <td>329.076538</td>\n",
       "      <td>331.273315</td>\n",
       "      <td>332.892242</td>\n",
       "      <td>5749470.0</td>\n",
       "      <td>332.892242</td>\n",
       "    </tr>\n",
       "    <tr>\n",
       "      <th>2012-01-05</th>\n",
       "      <td>330.745270</td>\n",
       "      <td>326.889740</td>\n",
       "      <td>329.828735</td>\n",
       "      <td>328.274536</td>\n",
       "      <td>6590410.0</td>\n",
       "      <td>328.274536</td>\n",
       "    </tr>\n",
       "    <tr>\n",
       "      <th>2012-01-06</th>\n",
       "      <td>328.767700</td>\n",
       "      <td>323.681763</td>\n",
       "      <td>328.344299</td>\n",
       "      <td>323.796326</td>\n",
       "      <td>5405987.0</td>\n",
       "      <td>323.796326</td>\n",
       "    </tr>\n",
       "    <tr>\n",
       "      <th>2012-01-09</th>\n",
       "      <td>322.291962</td>\n",
       "      <td>309.455078</td>\n",
       "      <td>322.042908</td>\n",
       "      <td>310.067780</td>\n",
       "      <td>11688849.0</td>\n",
       "      <td>310.067780</td>\n",
       "    </tr>\n",
       "    <tr>\n",
       "      <th>...</th>\n",
       "      <td>...</td>\n",
       "      <td>...</td>\n",
       "      <td>...</td>\n",
       "      <td>...</td>\n",
       "      <td>...</td>\n",
       "      <td>...</td>\n",
       "    </tr>\n",
       "    <tr>\n",
       "      <th>2021-03-08</th>\n",
       "      <td>2128.810059</td>\n",
       "      <td>2021.609985</td>\n",
       "      <td>2101.129883</td>\n",
       "      <td>2024.170044</td>\n",
       "      <td>1646000.0</td>\n",
       "      <td>2024.170044</td>\n",
       "    </tr>\n",
       "    <tr>\n",
       "      <th>2021-03-09</th>\n",
       "      <td>2078.040039</td>\n",
       "      <td>2047.829956</td>\n",
       "      <td>2070.000000</td>\n",
       "      <td>2052.699951</td>\n",
       "      <td>1696400.0</td>\n",
       "      <td>2052.699951</td>\n",
       "    </tr>\n",
       "    <tr>\n",
       "      <th>2021-03-10</th>\n",
       "      <td>2075.000000</td>\n",
       "      <td>2033.369995</td>\n",
       "      <td>2071.760010</td>\n",
       "      <td>2055.030029</td>\n",
       "      <td>1267800.0</td>\n",
       "      <td>2055.030029</td>\n",
       "    </tr>\n",
       "    <tr>\n",
       "      <th>2021-03-11</th>\n",
       "      <td>2125.699951</td>\n",
       "      <td>2072.379883</td>\n",
       "      <td>2074.060059</td>\n",
       "      <td>2114.770020</td>\n",
       "      <td>1238300.0</td>\n",
       "      <td>2114.770020</td>\n",
       "    </tr>\n",
       "    <tr>\n",
       "      <th>2021-03-12</th>\n",
       "      <td>2090.260010</td>\n",
       "      <td>2047.550049</td>\n",
       "      <td>2085.000000</td>\n",
       "      <td>2061.919922</td>\n",
       "      <td>1725000.0</td>\n",
       "      <td>2061.919922</td>\n",
       "    </tr>\n",
       "  </tbody>\n",
       "</table>\n",
       "<p>2313 rows × 6 columns</p>\n",
       "</div>"
      ],
      "text/plain": [
       "                   High          Low         Open        Close      Volume  \\\n",
       "Date                                                                         \n",
       "2012-01-03   332.827484   324.966949   325.250885   331.462585   7380561.0   \n",
       "2012-01-04   333.873566   329.076538   331.273315   332.892242   5749470.0   \n",
       "2012-01-05   330.745270   326.889740   329.828735   328.274536   6590410.0   \n",
       "2012-01-06   328.767700   323.681763   328.344299   323.796326   5405987.0   \n",
       "2012-01-09   322.291962   309.455078   322.042908   310.067780  11688849.0   \n",
       "...                 ...          ...          ...          ...         ...   \n",
       "2021-03-08  2128.810059  2021.609985  2101.129883  2024.170044   1646000.0   \n",
       "2021-03-09  2078.040039  2047.829956  2070.000000  2052.699951   1696400.0   \n",
       "2021-03-10  2075.000000  2033.369995  2071.760010  2055.030029   1267800.0   \n",
       "2021-03-11  2125.699951  2072.379883  2074.060059  2114.770020   1238300.0   \n",
       "2021-03-12  2090.260010  2047.550049  2085.000000  2061.919922   1725000.0   \n",
       "\n",
       "              Adj Close  \n",
       "Date                     \n",
       "2012-01-03   331.462585  \n",
       "2012-01-04   332.892242  \n",
       "2012-01-05   328.274536  \n",
       "2012-01-06   323.796326  \n",
       "2012-01-09   310.067780  \n",
       "...                 ...  \n",
       "2021-03-08  2024.170044  \n",
       "2021-03-09  2052.699951  \n",
       "2021-03-10  2055.030029  \n",
       "2021-03-11  2114.770020  \n",
       "2021-03-12  2061.919922  \n",
       "\n",
       "[2313 rows x 6 columns]"
      ]
     },
     "execution_count": 139,
     "metadata": {},
     "output_type": "execute_result"
    }
   ],
   "source": [
    "GOOG"
   ]
  },
  {
   "cell_type": "code",
   "execution_count": 140,
   "metadata": {},
   "outputs": [
    {
     "name": "stdout",
     "output_type": "stream",
     "text": [
      "2313    2063.639708\n",
      "dtype: float64\n"
     ]
    },
    {
     "name": "stderr",
     "output_type": "stream",
     "text": [
      "C:\\Users\\Asus\\anaconda3\\lib\\site-packages\\statsmodels\\tsa\\base\\tsa_model.py:216: ValueWarning: A date index has been provided, but it has no associated frequency information and so will be ignored when e.g. forecasting.\n",
      "  warnings.warn('A date index has been provided, but it has no'\n",
      "C:\\Users\\Asus\\anaconda3\\lib\\site-packages\\statsmodels\\tsa\\base\\tsa_model.py:580: ValueWarning: No supported index is available. Prediction results will be given with an integer index beginning at `start`.\n",
      "  warnings.warn('No supported index is available.'\n"
     ]
    }
   ],
   "source": [
    "from statsmodels.tsa.ar_model import AutoReg\n",
    "from random import random\n",
    "modelREG = AutoReg(GOOG['Close'], lags=1)\n",
    "model_fit2 = modelREG.fit()\n",
    "# make prediction\n",
    "yhat = model_fit2.predict(len(BHP), len(BHP))\n",
    "print(yhat)"
   ]
  },
  {
   "cell_type": "code",
   "execution_count": 141,
   "metadata": {},
   "outputs": [
    {
     "name": "stderr",
     "output_type": "stream",
     "text": [
      "C:\\Users\\Asus\\anaconda3\\lib\\site-packages\\statsmodels\\tsa\\base\\tsa_model.py:216: ValueWarning: A date index has been provided, but it has no associated frequency information and so will be ignored when e.g. forecasting.\n",
      "  warnings.warn('A date index has been provided, but it has no'\n",
      "C:\\Users\\Asus\\anaconda3\\lib\\site-packages\\statsmodels\\tsa\\base\\tsa_model.py:216: ValueWarning: A date index has been provided, but it has no associated frequency information and so will be ignored when e.g. forecasting.\n",
      "  warnings.warn('A date index has been provided, but it has no'\n",
      "C:\\Users\\Asus\\anaconda3\\lib\\site-packages\\statsmodels\\tsa\\base\\tsa_model.py:216: ValueWarning: A date index has been provided, but it has no associated frequency information and so will be ignored when e.g. forecasting.\n",
      "  warnings.warn('A date index has been provided, but it has no'\n"
     ]
    },
    {
     "name": "stdout",
     "output_type": "stream",
     "text": [
      "2313    2068.95148\n",
      "dtype: float64\n"
     ]
    },
    {
     "name": "stderr",
     "output_type": "stream",
     "text": [
      "C:\\Users\\Asus\\anaconda3\\lib\\site-packages\\statsmodels\\tsa\\base\\tsa_model.py:580: ValueWarning: No supported index is available. Prediction results will be given with an integer index beginning at `start`.\n",
      "  warnings.warn('No supported index is available.'\n"
     ]
    }
   ],
   "source": [
    "modelar = ARIMA(GOOG['Close'], order=(1, 1, 1))\n",
    "modela_fit = modelar.fit()\n",
    "# make prediction\n",
    "yhat = modela_fit.predict((len(DE)), (len(DE)), typ='levels')\n",
    "print(yhat)"
   ]
  },
  {
   "cell_type": "code",
   "execution_count": 147,
   "metadata": {},
   "outputs": [
    {
     "data": {
      "image/png": "[encoded data removed]",
      "text/plain": [
       "<Figure size 1152x576 with 1 Axes>"
      ]
     },
     "metadata": {},
     "output_type": "display_data"
    }
   ],
   "source": [
    "plt.figure(figsize= (16,8))\n",
    "plt.title('Model')\n",
    "plt.xlabel('Date', fontsize =18)\n",
    "plt.ylabel('Close Price USD ($)', fontsize=18)\n",
    "plt.plot(GS['Close'])\n",
    "#plt.plot(GOOG[['Close', 'Predictions']])\n",
    "#plt.legend(['Train', 'Val', 'Predictions'], loc ='lower right')\n",
    "plt.show()"
   ]
  },
  {
   "cell_type": "code",
   "execution_count": 47,
   "metadata": {},
   "outputs": [],
   "source": [
    "### GOOG price [[2068.95148]]"
   ]
  },
  {
   "cell_type": "code",
   "execution_count": 143,
   "metadata": {},
   "outputs": [],
   "source": [
    "## GS\n",
    "GS =web.DataReader('GS', data_source='yahoo', start='2012-01-01', end='2021-03-15')"
   ]
  },
  {
   "cell_type": "code",
   "execution_count": 144,
   "metadata": {},
   "outputs": [],
   "source": [
    "new_df = GS.filter(['Close'])\n",
    "last_60_days= new_df[-60:].values\n",
    "last_60_days_scaled = scaler.transform(last_60_days)"
   ]
  },
  {
   "cell_type": "code",
   "execution_count": 145,
   "metadata": {},
   "outputs": [
    {
     "data": {
      "text/plain": [
       "array([[224.0745]], dtype=float32)"
      ]
     },
     "execution_count": 145,
     "metadata": {},
     "output_type": "execute_result"
    }
   ],
   "source": [
    "X_test = []\n",
    "X_test.append(last_60_days_scaled)\n",
    "X_test = np.array(X_test)\n",
    "X_test = np.reshape(X_test, (X_test.shape[0], X_test.shape[1], 1))\n",
    "pred_price = model.predict(X_test)\n",
    "pred_price = scaler.inverse_transform(pred_price)\n",
    "pred_price"
   ]
  },
  {
   "cell_type": "code",
   "execution_count": 146,
   "metadata": {},
   "outputs": [
    {
     "data": {
      "text/html": [
       "<div>\n",
       "<style scoped>\n",
       "    .dataframe tbody tr th:only-of-type {\n",
       "        vertical-align: middle;\n",
       "    }\n",
       "\n",
       "    .dataframe tbody tr th {\n",
       "        vertical-align: top;\n",
       "    }\n",
       "\n",
       "    .dataframe thead th {\n",
       "        text-align: right;\n",
       "    }\n",
       "</style>\n",
       "<table border=\"1\" class=\"dataframe\">\n",
       "  <thead>\n",
       "    <tr style=\"text-align: right;\">\n",
       "      <th></th>\n",
       "      <th>High</th>\n",
       "      <th>Low</th>\n",
       "      <th>Open</th>\n",
       "      <th>Close</th>\n",
       "      <th>Volume</th>\n",
       "      <th>Adj Close</th>\n",
       "    </tr>\n",
       "    <tr>\n",
       "      <th>Date</th>\n",
       "      <th></th>\n",
       "      <th></th>\n",
       "      <th></th>\n",
       "      <th></th>\n",
       "      <th></th>\n",
       "      <th></th>\n",
       "    </tr>\n",
       "  </thead>\n",
       "  <tbody>\n",
       "    <tr>\n",
       "      <th>2012-01-03</th>\n",
       "      <td>96.430000</td>\n",
       "      <td>92.830002</td>\n",
       "      <td>92.970001</td>\n",
       "      <td>95.360001</td>\n",
       "      <td>8645200.0</td>\n",
       "      <td>82.454552</td>\n",
       "    </tr>\n",
       "    <tr>\n",
       "      <th>2012-01-04</th>\n",
       "      <td>95.129997</td>\n",
       "      <td>93.680000</td>\n",
       "      <td>94.730003</td>\n",
       "      <td>94.739998</td>\n",
       "      <td>7406200.0</td>\n",
       "      <td>81.918457</td>\n",
       "    </tr>\n",
       "    <tr>\n",
       "      <th>2012-01-05</th>\n",
       "      <td>95.800003</td>\n",
       "      <td>92.500000</td>\n",
       "      <td>93.949997</td>\n",
       "      <td>94.580002</td>\n",
       "      <td>8131300.0</td>\n",
       "      <td>81.780121</td>\n",
       "    </tr>\n",
       "    <tr>\n",
       "      <th>2012-01-06</th>\n",
       "      <td>93.959999</td>\n",
       "      <td>92.419998</td>\n",
       "      <td>93.800003</td>\n",
       "      <td>93.419998</td>\n",
       "      <td>5940900.0</td>\n",
       "      <td>80.777100</td>\n",
       "    </tr>\n",
       "    <tr>\n",
       "      <th>2012-01-09</th>\n",
       "      <td>95.110001</td>\n",
       "      <td>92.959999</td>\n",
       "      <td>93.489998</td>\n",
       "      <td>94.690002</td>\n",
       "      <td>5018200.0</td>\n",
       "      <td>81.875229</td>\n",
       "    </tr>\n",
       "    <tr>\n",
       "      <th>...</th>\n",
       "      <td>...</td>\n",
       "      <td>...</td>\n",
       "      <td>...</td>\n",
       "      <td>...</td>\n",
       "      <td>...</td>\n",
       "      <td>...</td>\n",
       "    </tr>\n",
       "    <tr>\n",
       "      <th>2021-03-08</th>\n",
       "      <td>337.589996</td>\n",
       "      <td>329.100006</td>\n",
       "      <td>331.359985</td>\n",
       "      <td>334.190002</td>\n",
       "      <td>2996600.0</td>\n",
       "      <td>334.190002</td>\n",
       "    </tr>\n",
       "    <tr>\n",
       "      <th>2021-03-09</th>\n",
       "      <td>336.390015</td>\n",
       "      <td>325.570007</td>\n",
       "      <td>328.619995</td>\n",
       "      <td>330.589996</td>\n",
       "      <td>3265900.0</td>\n",
       "      <td>330.589996</td>\n",
       "    </tr>\n",
       "    <tr>\n",
       "      <th>2021-03-10</th>\n",
       "      <td>342.399994</td>\n",
       "      <td>331.529999</td>\n",
       "      <td>332.070007</td>\n",
       "      <td>342.019989</td>\n",
       "      <td>3151000.0</td>\n",
       "      <td>342.019989</td>\n",
       "    </tr>\n",
       "    <tr>\n",
       "      <th>2021-03-11</th>\n",
       "      <td>345.000000</td>\n",
       "      <td>336.459991</td>\n",
       "      <td>338.660004</td>\n",
       "      <td>342.100006</td>\n",
       "      <td>2755800.0</td>\n",
       "      <td>342.100006</td>\n",
       "    </tr>\n",
       "    <tr>\n",
       "      <th>2021-03-12</th>\n",
       "      <td>350.000000</td>\n",
       "      <td>343.640015</td>\n",
       "      <td>345.220001</td>\n",
       "      <td>348.809998</td>\n",
       "      <td>2435500.0</td>\n",
       "      <td>348.809998</td>\n",
       "    </tr>\n",
       "  </tbody>\n",
       "</table>\n",
       "<p>2313 rows × 6 columns</p>\n",
       "</div>"
      ],
      "text/plain": [
       "                  High         Low        Open       Close     Volume  \\\n",
       "Date                                                                    \n",
       "2012-01-03   96.430000   92.830002   92.970001   95.360001  8645200.0   \n",
       "2012-01-04   95.129997   93.680000   94.730003   94.739998  7406200.0   \n",
       "2012-01-05   95.800003   92.500000   93.949997   94.580002  8131300.0   \n",
       "2012-01-06   93.959999   92.419998   93.800003   93.419998  5940900.0   \n",
       "2012-01-09   95.110001   92.959999   93.489998   94.690002  5018200.0   \n",
       "...                ...         ...         ...         ...        ...   \n",
       "2021-03-08  337.589996  329.100006  331.359985  334.190002  2996600.0   \n",
       "2021-03-09  336.390015  325.570007  328.619995  330.589996  3265900.0   \n",
       "2021-03-10  342.399994  331.529999  332.070007  342.019989  3151000.0   \n",
       "2021-03-11  345.000000  336.459991  338.660004  342.100006  2755800.0   \n",
       "2021-03-12  350.000000  343.640015  345.220001  348.809998  2435500.0   \n",
       "\n",
       "             Adj Close  \n",
       "Date                    \n",
       "2012-01-03   82.454552  \n",
       "2012-01-04   81.918457  \n",
       "2012-01-05   81.780121  \n",
       "2012-01-06   80.777100  \n",
       "2012-01-09   81.875229  \n",
       "...                ...  \n",
       "2021-03-08  334.190002  \n",
       "2021-03-09  330.589996  \n",
       "2021-03-10  342.019989  \n",
       "2021-03-11  342.100006  \n",
       "2021-03-12  348.809998  \n",
       "\n",
       "[2313 rows x 6 columns]"
      ]
     },
     "execution_count": 146,
     "metadata": {},
     "output_type": "execute_result"
    }
   ],
   "source": [
    "GS"
   ]
  },
  {
   "cell_type": "code",
   "execution_count": 148,
   "metadata": {},
   "outputs": [
    {
     "name": "stdout",
     "output_type": "stream",
     "text": [
      "2313    348.766873\n",
      "dtype: float64\n"
     ]
    },
    {
     "name": "stderr",
     "output_type": "stream",
     "text": [
      "C:\\Users\\Asus\\anaconda3\\lib\\site-packages\\statsmodels\\tsa\\base\\tsa_model.py:216: ValueWarning: A date index has been provided, but it has no associated frequency information and so will be ignored when e.g. forecasting.\n",
      "  warnings.warn('A date index has been provided, but it has no'\n",
      "C:\\Users\\Asus\\anaconda3\\lib\\site-packages\\statsmodels\\tsa\\base\\tsa_model.py:580: ValueWarning: No supported index is available. Prediction results will be given with an integer index beginning at `start`.\n",
      "  warnings.warn('No supported index is available.'\n"
     ]
    }
   ],
   "source": [
    "modelREG = AutoReg(GS['Close'], lags=1)\n",
    "model_fit2 = modelREG.fit()\n",
    "# make prediction\n",
    "yhat = model_fit2.predict(len(BHP), len(BHP))\n",
    "print(yhat)"
   ]
  },
  {
   "cell_type": "code",
   "execution_count": 150,
   "metadata": {},
   "outputs": [
    {
     "name": "stderr",
     "output_type": "stream",
     "text": [
      "C:\\Users\\Asus\\anaconda3\\lib\\site-packages\\statsmodels\\tsa\\base\\tsa_model.py:216: ValueWarning: A date index has been provided, but it has no associated frequency information and so will be ignored when e.g. forecasting.\n",
      "  warnings.warn('A date index has been provided, but it has no'\n",
      "C:\\Users\\Asus\\anaconda3\\lib\\site-packages\\statsmodels\\tsa\\base\\tsa_model.py:216: ValueWarning: A date index has been provided, but it has no associated frequency information and so will be ignored when e.g. forecasting.\n",
      "  warnings.warn('A date index has been provided, but it has no'\n",
      "C:\\Users\\Asus\\anaconda3\\lib\\site-packages\\statsmodels\\tsa\\base\\tsa_model.py:216: ValueWarning: A date index has been provided, but it has no associated frequency information and so will be ignored when e.g. forecasting.\n",
      "  warnings.warn('A date index has been provided, but it has no'\n"
     ]
    },
    {
     "name": "stdout",
     "output_type": "stream",
     "text": [
      "2313    348.082599\n",
      "dtype: float64\n"
     ]
    },
    {
     "name": "stderr",
     "output_type": "stream",
     "text": [
      "C:\\Users\\Asus\\anaconda3\\lib\\site-packages\\statsmodels\\tsa\\base\\tsa_model.py:580: ValueWarning: No supported index is available. Prediction results will be given with an integer index beginning at `start`.\n",
      "  warnings.warn('No supported index is available.'\n"
     ]
    }
   ],
   "source": [
    "modelar = ARIMA(GS['Close'], order=(1, 1, 1))\n",
    "modela_fit = modelar.fit()\n",
    "# make prediction\n",
    "yhat = modela_fit.predict((len(DE)), (len(DE)), typ='levels')\n",
    "print(yhat)"
   ]
  },
  {
   "cell_type": "code",
   "execution_count": 151,
   "metadata": {},
   "outputs": [],
   "source": [
    "### GS - [[348.082599]]"
   ]
  },
  {
   "cell_type": "code",
   "execution_count": 152,
   "metadata": {},
   "outputs": [
    {
     "data": {
      "text/plain": [
       "array([[142.08624]], dtype=float32)"
      ]
     },
     "execution_count": 152,
     "metadata": {},
     "output_type": "execute_result"
    }
   ],
   "source": [
    "### JNJ\n",
    "JNJ =web.DataReader('JNJ', data_source='yahoo', start='2012-01-01', end='2021-03-15')\n",
    "new_df = JNJ.filter(['Close'])\n",
    "last_60_days= new_df[-60:].values\n",
    "last_60_days_scaled = scaler.transform(last_60_days)\n",
    "X_test = []\n",
    "X_test.append(last_60_days_scaled)\n",
    "X_test = np.array(X_test)\n",
    "X_test = np.reshape(X_test, (X_test.shape[0], X_test.shape[1], 1))\n",
    "pred_price = model.predict(X_test)\n",
    "pred_price = scaler.inverse_transform(pred_price)\n",
    "pred_price"
   ]
  },
  {
   "cell_type": "code",
   "execution_count": 153,
   "metadata": {},
   "outputs": [
    {
     "data": {
      "text/html": [
       "<div>\n",
       "<style scoped>\n",
       "    .dataframe tbody tr th:only-of-type {\n",
       "        vertical-align: middle;\n",
       "    }\n",
       "\n",
       "    .dataframe tbody tr th {\n",
       "        vertical-align: top;\n",
       "    }\n",
       "\n",
       "    .dataframe thead th {\n",
       "        text-align: right;\n",
       "    }\n",
       "</style>\n",
       "<table border=\"1\" class=\"dataframe\">\n",
       "  <thead>\n",
       "    <tr style=\"text-align: right;\">\n",
       "      <th></th>\n",
       "      <th>High</th>\n",
       "      <th>Low</th>\n",
       "      <th>Open</th>\n",
       "      <th>Close</th>\n",
       "      <th>Volume</th>\n",
       "      <th>Adj Close</th>\n",
       "    </tr>\n",
       "    <tr>\n",
       "      <th>Date</th>\n",
       "      <th></th>\n",
       "      <th></th>\n",
       "      <th></th>\n",
       "      <th></th>\n",
       "      <th></th>\n",
       "      <th></th>\n",
       "    </tr>\n",
       "  </thead>\n",
       "  <tbody>\n",
       "    <tr>\n",
       "      <th>2012-01-03</th>\n",
       "      <td>66.000000</td>\n",
       "      <td>65.250000</td>\n",
       "      <td>65.589996</td>\n",
       "      <td>65.879997</td>\n",
       "      <td>16116200.0</td>\n",
       "      <td>50.597694</td>\n",
       "    </tr>\n",
       "    <tr>\n",
       "      <th>2012-01-04</th>\n",
       "      <td>65.879997</td>\n",
       "      <td>65.110001</td>\n",
       "      <td>65.750000</td>\n",
       "      <td>65.480003</td>\n",
       "      <td>9243100.0</td>\n",
       "      <td>50.290493</td>\n",
       "    </tr>\n",
       "    <tr>\n",
       "      <th>2012-01-05</th>\n",
       "      <td>65.599998</td>\n",
       "      <td>64.830002</td>\n",
       "      <td>65.320000</td>\n",
       "      <td>65.400002</td>\n",
       "      <td>11886900.0</td>\n",
       "      <td>50.229042</td>\n",
       "    </tr>\n",
       "    <tr>\n",
       "      <th>2012-01-06</th>\n",
       "      <td>65.459999</td>\n",
       "      <td>64.610001</td>\n",
       "      <td>65.440002</td>\n",
       "      <td>64.830002</td>\n",
       "      <td>15359900.0</td>\n",
       "      <td>49.791267</td>\n",
       "    </tr>\n",
       "    <tr>\n",
       "      <th>2012-01-09</th>\n",
       "      <td>65.089996</td>\n",
       "      <td>64.410004</td>\n",
       "      <td>64.959999</td>\n",
       "      <td>64.930000</td>\n",
       "      <td>7934600.0</td>\n",
       "      <td>49.868069</td>\n",
       "    </tr>\n",
       "    <tr>\n",
       "      <th>...</th>\n",
       "      <td>...</td>\n",
       "      <td>...</td>\n",
       "      <td>...</td>\n",
       "      <td>...</td>\n",
       "      <td>...</td>\n",
       "      <td>...</td>\n",
       "    </tr>\n",
       "    <tr>\n",
       "      <th>2021-03-08</th>\n",
       "      <td>159.330002</td>\n",
       "      <td>155.979996</td>\n",
       "      <td>157.000000</td>\n",
       "      <td>157.399994</td>\n",
       "      <td>6544200.0</td>\n",
       "      <td>157.399994</td>\n",
       "    </tr>\n",
       "    <tr>\n",
       "      <th>2021-03-09</th>\n",
       "      <td>160.750000</td>\n",
       "      <td>156.889999</td>\n",
       "      <td>156.889999</td>\n",
       "      <td>157.699997</td>\n",
       "      <td>7450700.0</td>\n",
       "      <td>157.699997</td>\n",
       "    </tr>\n",
       "    <tr>\n",
       "      <th>2021-03-10</th>\n",
       "      <td>159.899994</td>\n",
       "      <td>157.360001</td>\n",
       "      <td>158.820007</td>\n",
       "      <td>159.149994</td>\n",
       "      <td>6632600.0</td>\n",
       "      <td>159.149994</td>\n",
       "    </tr>\n",
       "    <tr>\n",
       "      <th>2021-03-11</th>\n",
       "      <td>160.630005</td>\n",
       "      <td>158.919998</td>\n",
       "      <td>159.539993</td>\n",
       "      <td>159.139999</td>\n",
       "      <td>6300900.0</td>\n",
       "      <td>159.139999</td>\n",
       "    </tr>\n",
       "    <tr>\n",
       "      <th>2021-03-12</th>\n",
       "      <td>160.309998</td>\n",
       "      <td>159.190002</td>\n",
       "      <td>159.279999</td>\n",
       "      <td>159.600006</td>\n",
       "      <td>5473300.0</td>\n",
       "      <td>159.600006</td>\n",
       "    </tr>\n",
       "  </tbody>\n",
       "</table>\n",
       "<p>2313 rows × 6 columns</p>\n",
       "</div>"
      ],
      "text/plain": [
       "                  High         Low        Open       Close      Volume  \\\n",
       "Date                                                                     \n",
       "2012-01-03   66.000000   65.250000   65.589996   65.879997  16116200.0   \n",
       "2012-01-04   65.879997   65.110001   65.750000   65.480003   9243100.0   \n",
       "2012-01-05   65.599998   64.830002   65.320000   65.400002  11886900.0   \n",
       "2012-01-06   65.459999   64.610001   65.440002   64.830002  15359900.0   \n",
       "2012-01-09   65.089996   64.410004   64.959999   64.930000   7934600.0   \n",
       "...                ...         ...         ...         ...         ...   \n",
       "2021-03-08  159.330002  155.979996  157.000000  157.399994   6544200.0   \n",
       "2021-03-09  160.750000  156.889999  156.889999  157.699997   7450700.0   \n",
       "2021-03-10  159.899994  157.360001  158.820007  159.149994   6632600.0   \n",
       "2021-03-11  160.630005  158.919998  159.539993  159.139999   6300900.0   \n",
       "2021-03-12  160.309998  159.190002  159.279999  159.600006   5473300.0   \n",
       "\n",
       "             Adj Close  \n",
       "Date                    \n",
       "2012-01-03   50.597694  \n",
       "2012-01-04   50.290493  \n",
       "2012-01-05   50.229042  \n",
       "2012-01-06   49.791267  \n",
       "2012-01-09   49.868069  \n",
       "...                ...  \n",
       "2021-03-08  157.399994  \n",
       "2021-03-09  157.699997  \n",
       "2021-03-10  159.149994  \n",
       "2021-03-11  159.139999  \n",
       "2021-03-12  159.600006  \n",
       "\n",
       "[2313 rows x 6 columns]"
      ]
     },
     "execution_count": 153,
     "metadata": {},
     "output_type": "execute_result"
    }
   ],
   "source": [
    "JNJ"
   ]
  },
  {
   "cell_type": "code",
   "execution_count": 154,
   "metadata": {},
   "outputs": [
    {
     "name": "stderr",
     "output_type": "stream",
     "text": [
      "C:\\Users\\Asus\\anaconda3\\lib\\site-packages\\statsmodels\\tsa\\base\\tsa_model.py:216: ValueWarning: A date index has been provided, but it has no associated frequency information and so will be ignored when e.g. forecasting.\n",
      "  warnings.warn('A date index has been provided, but it has no'\n",
      "C:\\Users\\Asus\\anaconda3\\lib\\site-packages\\statsmodels\\tsa\\base\\tsa_model.py:216: ValueWarning: A date index has been provided, but it has no associated frequency information and so will be ignored when e.g. forecasting.\n",
      "  warnings.warn('A date index has been provided, but it has no'\n",
      "C:\\Users\\Asus\\anaconda3\\lib\\site-packages\\statsmodels\\tsa\\base\\tsa_model.py:216: ValueWarning: A date index has been provided, but it has no associated frequency information and so will be ignored when e.g. forecasting.\n",
      "  warnings.warn('A date index has been provided, but it has no'\n"
     ]
    },
    {
     "name": "stdout",
     "output_type": "stream",
     "text": [
      "2313    159.551857\n",
      "dtype: float64\n"
     ]
    },
    {
     "name": "stderr",
     "output_type": "stream",
     "text": [
      "C:\\Users\\Asus\\anaconda3\\lib\\site-packages\\statsmodels\\tsa\\base\\tsa_model.py:580: ValueWarning: No supported index is available. Prediction results will be given with an integer index beginning at `start`.\n",
      "  warnings.warn('No supported index is available.'\n"
     ]
    }
   ],
   "source": [
    "modelar = ARIMA(JNJ['Close'], order=(1, 1, 1))\n",
    "modela_fit = modelar.fit()\n",
    "# make prediction\n",
    "yhat = modela_fit.predict((len(DE)), (len(DE)), typ='levels')\n",
    "print(yhat)"
   ]
  },
  {
   "cell_type": "code",
   "execution_count": 156,
   "metadata": {},
   "outputs": [
    {
     "name": "stderr",
     "output_type": "stream",
     "text": [
      "C:\\Users\\Asus\\anaconda3\\lib\\site-packages\\statsmodels\\tsa\\base\\tsa_model.py:216: ValueWarning: A date index has been provided, but it has no associated frequency information and so will be ignored when e.g. forecasting.\n",
      "  warnings.warn('A date index has been provided, but it has no'\n",
      "C:\\Users\\Asus\\anaconda3\\lib\\site-packages\\statsmodels\\tsa\\base\\tsa_model.py:216: ValueWarning: A date index has been provided, but it has no associated frequency information and so will be ignored when e.g. forecasting.\n",
      "  warnings.warn('A date index has been provided, but it has no'\n",
      "C:\\Users\\Asus\\anaconda3\\lib\\site-packages\\statsmodels\\tsa\\base\\tsa_model.py:216: ValueWarning: A date index has been provided, but it has no associated frequency information and so will be ignored when e.g. forecasting.\n",
      "  warnings.warn('A date index has been provided, but it has no'\n"
     ]
    },
    {
     "name": "stdout",
     "output_type": "stream",
     "text": [
      "2313    136.444085\n",
      "dtype: float64\n"
     ]
    },
    {
     "name": "stderr",
     "output_type": "stream",
     "text": [
      "C:\\Users\\Asus\\anaconda3\\lib\\site-packages\\statsmodels\\tsa\\base\\tsa_model.py:580: ValueWarning: No supported index is available. Prediction results will be given with an integer index beginning at `start`.\n",
      "  warnings.warn('No supported index is available.'\n"
     ]
    }
   ],
   "source": [
    "models = ARIMA(JNJ['Close'], order=(0, 0, 1))\n",
    "model_fit3 = models.fit()\n",
    "# make prediction\n",
    "yhat = model_fit3.predict(len(BHP), len(BHP))\n",
    "print(yhat)"
   ]
  },
  {
   "cell_type": "code",
   "execution_count": 184,
   "metadata": {},
   "outputs": [
    {
     "name": "stdout",
     "output_type": "stream",
     "text": [
      "2313    159.575014\n",
      "dtype: float64\n"
     ]
    },
    {
     "name": "stderr",
     "output_type": "stream",
     "text": [
      "C:\\Users\\Asus\\anaconda3\\lib\\site-packages\\statsmodels\\tsa\\base\\tsa_model.py:216: ValueWarning: A date index has been provided, but it has no associated frequency information and so will be ignored when e.g. forecasting.\n",
      "  warnings.warn('A date index has been provided, but it has no'\n",
      "C:\\Users\\Asus\\anaconda3\\lib\\site-packages\\statsmodels\\tsa\\base\\tsa_model.py:580: ValueWarning: No supported index is available. Prediction results will be given with an integer index beginning at `start`.\n",
      "  warnings.warn('No supported index is available.'\n"
     ]
    }
   ],
   "source": [
    "modelREG = AutoReg(JNJ['Close'], lags=1)\n",
    "model_fit2 = modelREG.fit()\n",
    "# make prediction\n",
    "yhat = model_fit2.predict(len(BHP), len(BHP))\n",
    "print(yhat)"
   ]
  },
  {
   "cell_type": "code",
   "execution_count": 185,
   "metadata": {},
   "outputs": [],
   "source": [
    "## JNJ price [[159.551857]]"
   ]
  },
  {
   "cell_type": "code",
   "execution_count": 186,
   "metadata": {},
   "outputs": [
    {
     "data": {
      "text/plain": [
       "array([[50.982586]], dtype=float32)"
      ]
     },
     "execution_count": 186,
     "metadata": {},
     "output_type": "execute_result"
    }
   ],
   "source": [
    "### KO\n",
    "KO =web.DataReader('KO', data_source='yahoo', start='2012-01-01', end='2021-03-15')\n",
    "new_df = KO.filter(['Close'])\n",
    "last_60_days= new_df[-60:].values\n",
    "last_60_days_scaled = scaler.transform(last_60_days)\n",
    "X_test = []\n",
    "X_test.append(last_60_days_scaled)\n",
    "X_test = np.array(X_test)\n",
    "X_test = np.reshape(X_test, (X_test.shape[0], X_test.shape[1], 1))\n",
    "pred_price = model.predict(X_test)\n",
    "pred_price = scaler.inverse_transform(pred_price)\n",
    "pred_price"
   ]
  },
  {
   "cell_type": "code",
   "execution_count": 187,
   "metadata": {},
   "outputs": [
    {
     "data": {
      "text/html": [
       "<div>\n",
       "<style scoped>\n",
       "    .dataframe tbody tr th:only-of-type {\n",
       "        vertical-align: middle;\n",
       "    }\n",
       "\n",
       "    .dataframe tbody tr th {\n",
       "        vertical-align: top;\n",
       "    }\n",
       "\n",
       "    .dataframe thead th {\n",
       "        text-align: right;\n",
       "    }\n",
       "</style>\n",
       "<table border=\"1\" class=\"dataframe\">\n",
       "  <thead>\n",
       "    <tr style=\"text-align: right;\">\n",
       "      <th></th>\n",
       "      <th>High</th>\n",
       "      <th>Low</th>\n",
       "      <th>Open</th>\n",
       "      <th>Close</th>\n",
       "      <th>Volume</th>\n",
       "      <th>Adj Close</th>\n",
       "    </tr>\n",
       "    <tr>\n",
       "      <th>Date</th>\n",
       "      <th></th>\n",
       "      <th></th>\n",
       "      <th></th>\n",
       "      <th></th>\n",
       "      <th></th>\n",
       "      <th></th>\n",
       "    </tr>\n",
       "  </thead>\n",
       "  <tbody>\n",
       "    <tr>\n",
       "      <th>2012-01-03</th>\n",
       "      <td>35.355000</td>\n",
       "      <td>35.049999</td>\n",
       "      <td>35.075001</td>\n",
       "      <td>35.070000</td>\n",
       "      <td>15639600.0</td>\n",
       "      <td>26.228743</td>\n",
       "    </tr>\n",
       "    <tr>\n",
       "      <th>2012-01-04</th>\n",
       "      <td>35.035000</td>\n",
       "      <td>34.750000</td>\n",
       "      <td>34.955002</td>\n",
       "      <td>34.849998</td>\n",
       "      <td>14239200.0</td>\n",
       "      <td>26.064209</td>\n",
       "    </tr>\n",
       "    <tr>\n",
       "      <th>2012-01-05</th>\n",
       "      <td>34.935001</td>\n",
       "      <td>34.674999</td>\n",
       "      <td>34.880001</td>\n",
       "      <td>34.685001</td>\n",
       "      <td>14287600.0</td>\n",
       "      <td>25.940800</td>\n",
       "    </tr>\n",
       "    <tr>\n",
       "      <th>2012-01-06</th>\n",
       "      <td>34.814999</td>\n",
       "      <td>34.310001</td>\n",
       "      <td>34.735001</td>\n",
       "      <td>34.465000</td>\n",
       "      <td>13646600.0</td>\n",
       "      <td>25.776264</td>\n",
       "    </tr>\n",
       "    <tr>\n",
       "      <th>2012-01-09</th>\n",
       "      <td>34.584999</td>\n",
       "      <td>34.400002</td>\n",
       "      <td>34.500000</td>\n",
       "      <td>34.465000</td>\n",
       "      <td>10522600.0</td>\n",
       "      <td>25.776264</td>\n",
       "    </tr>\n",
       "    <tr>\n",
       "      <th>...</th>\n",
       "      <td>...</td>\n",
       "      <td>...</td>\n",
       "      <td>...</td>\n",
       "      <td>...</td>\n",
       "      <td>...</td>\n",
       "      <td>...</td>\n",
       "    </tr>\n",
       "    <tr>\n",
       "      <th>2021-03-08</th>\n",
       "      <td>52.490002</td>\n",
       "      <td>51.160000</td>\n",
       "      <td>51.470001</td>\n",
       "      <td>51.639999</td>\n",
       "      <td>25079400.0</td>\n",
       "      <td>51.213726</td>\n",
       "    </tr>\n",
       "    <tr>\n",
       "      <th>2021-03-09</th>\n",
       "      <td>51.880001</td>\n",
       "      <td>50.820000</td>\n",
       "      <td>51.720001</td>\n",
       "      <td>50.860001</td>\n",
       "      <td>23067700.0</td>\n",
       "      <td>50.440166</td>\n",
       "    </tr>\n",
       "    <tr>\n",
       "      <th>2021-03-10</th>\n",
       "      <td>51.630001</td>\n",
       "      <td>50.720001</td>\n",
       "      <td>51.180000</td>\n",
       "      <td>51.439999</td>\n",
       "      <td>21327100.0</td>\n",
       "      <td>51.015377</td>\n",
       "    </tr>\n",
       "    <tr>\n",
       "      <th>2021-03-11</th>\n",
       "      <td>51.430000</td>\n",
       "      <td>50.810001</td>\n",
       "      <td>51.410000</td>\n",
       "      <td>50.880001</td>\n",
       "      <td>17405900.0</td>\n",
       "      <td>50.460003</td>\n",
       "    </tr>\n",
       "    <tr>\n",
       "      <th>2021-03-12</th>\n",
       "      <td>50.680000</td>\n",
       "      <td>50.200001</td>\n",
       "      <td>50.590000</td>\n",
       "      <td>50.360001</td>\n",
       "      <td>17592800.0</td>\n",
       "      <td>50.360001</td>\n",
       "    </tr>\n",
       "  </tbody>\n",
       "</table>\n",
       "<p>2313 rows × 6 columns</p>\n",
       "</div>"
      ],
      "text/plain": [
       "                 High        Low       Open      Close      Volume  Adj Close\n",
       "Date                                                                         \n",
       "2012-01-03  35.355000  35.049999  35.075001  35.070000  15639600.0  26.228743\n",
       "2012-01-04  35.035000  34.750000  34.955002  34.849998  14239200.0  26.064209\n",
       "2012-01-05  34.935001  34.674999  34.880001  34.685001  14287600.0  25.940800\n",
       "2012-01-06  34.814999  34.310001  34.735001  34.465000  13646600.0  25.776264\n",
       "2012-01-09  34.584999  34.400002  34.500000  34.465000  10522600.0  25.776264\n",
       "...               ...        ...        ...        ...         ...        ...\n",
       "2021-03-08  52.490002  51.160000  51.470001  51.639999  25079400.0  51.213726\n",
       "2021-03-09  51.880001  50.820000  51.720001  50.860001  23067700.0  50.440166\n",
       "2021-03-10  51.630001  50.720001  51.180000  51.439999  21327100.0  51.015377\n",
       "2021-03-11  51.430000  50.810001  51.410000  50.880001  17405900.0  50.460003\n",
       "2021-03-12  50.680000  50.200001  50.590000  50.360001  17592800.0  50.360001\n",
       "\n",
       "[2313 rows x 6 columns]"
      ]
     },
     "execution_count": 187,
     "metadata": {},
     "output_type": "execute_result"
    }
   ],
   "source": [
    "KO"
   ]
  },
  {
   "cell_type": "code",
   "execution_count": 55,
   "metadata": {},
   "outputs": [],
   "source": [
    "## KO [[50.982586]]"
   ]
  },
  {
   "cell_type": "code",
   "execution_count": 188,
   "metadata": {},
   "outputs": [
    {
     "data": {
      "text/plain": [
       "array([[29.029457]], dtype=float32)"
      ]
     },
     "execution_count": 188,
     "metadata": {},
     "output_type": "execute_result"
    }
   ],
   "source": [
    "## T company\n",
    "T =web.DataReader('T', data_source='yahoo', start='2012-01-01', end='2021-03-15')\n",
    "new_df = T.filter(['Close'])\n",
    "last_60_days= new_df[-60:].values\n",
    "last_60_days_scaled = scaler.transform(last_60_days)\n",
    "X_test = []\n",
    "X_test.append(last_60_days_scaled)\n",
    "X_test = np.array(X_test)\n",
    "X_test = np.reshape(X_test, (X_test.shape[0], X_test.shape[1], 1))\n",
    "pred_price = model.predict(X_test)\n",
    "pred_price = scaler.inverse_transform(pred_price)\n",
    "pred_price"
   ]
  },
  {
   "cell_type": "code",
   "execution_count": 190,
   "metadata": {},
   "outputs": [
    {
     "data": {
      "text/html": [
       "<div>\n",
       "<style scoped>\n",
       "    .dataframe tbody tr th:only-of-type {\n",
       "        vertical-align: middle;\n",
       "    }\n",
       "\n",
       "    .dataframe tbody tr th {\n",
       "        vertical-align: top;\n",
       "    }\n",
       "\n",
       "    .dataframe thead th {\n",
       "        text-align: right;\n",
       "    }\n",
       "</style>\n",
       "<table border=\"1\" class=\"dataframe\">\n",
       "  <thead>\n",
       "    <tr style=\"text-align: right;\">\n",
       "      <th></th>\n",
       "      <th>High</th>\n",
       "      <th>Low</th>\n",
       "      <th>Open</th>\n",
       "      <th>Close</th>\n",
       "      <th>Volume</th>\n",
       "      <th>Adj Close</th>\n",
       "    </tr>\n",
       "    <tr>\n",
       "      <th>Date</th>\n",
       "      <th></th>\n",
       "      <th></th>\n",
       "      <th></th>\n",
       "      <th></th>\n",
       "      <th></th>\n",
       "      <th></th>\n",
       "    </tr>\n",
       "  </thead>\n",
       "  <tbody>\n",
       "    <tr>\n",
       "      <th>2012-01-03</th>\n",
       "      <td>30.540001</td>\n",
       "      <td>30.299999</td>\n",
       "      <td>30.459999</td>\n",
       "      <td>30.379999</td>\n",
       "      <td>33005300.0</td>\n",
       "      <td>18.209600</td>\n",
       "    </tr>\n",
       "    <tr>\n",
       "      <th>2012-01-04</th>\n",
       "      <td>30.680000</td>\n",
       "      <td>30.350000</td>\n",
       "      <td>30.580000</td>\n",
       "      <td>30.430000</td>\n",
       "      <td>37213900.0</td>\n",
       "      <td>18.239565</td>\n",
       "    </tr>\n",
       "    <tr>\n",
       "      <th>2012-01-05</th>\n",
       "      <td>30.500000</td>\n",
       "      <td>30.180000</td>\n",
       "      <td>30.490000</td>\n",
       "      <td>30.400000</td>\n",
       "      <td>34457000.0</td>\n",
       "      <td>18.221582</td>\n",
       "    </tr>\n",
       "    <tr>\n",
       "      <th>2012-01-06</th>\n",
       "      <td>30.090000</td>\n",
       "      <td>29.600000</td>\n",
       "      <td>30.070000</td>\n",
       "      <td>29.680000</td>\n",
       "      <td>45580800.0</td>\n",
       "      <td>18.051296</td>\n",
       "    </tr>\n",
       "    <tr>\n",
       "      <th>2012-01-09</th>\n",
       "      <td>29.850000</td>\n",
       "      <td>29.500000</td>\n",
       "      <td>29.809999</td>\n",
       "      <td>29.660000</td>\n",
       "      <td>26790100.0</td>\n",
       "      <td>18.039125</td>\n",
       "    </tr>\n",
       "    <tr>\n",
       "      <th>...</th>\n",
       "      <td>...</td>\n",
       "      <td>...</td>\n",
       "      <td>...</td>\n",
       "      <td>...</td>\n",
       "      <td>...</td>\n",
       "      <td>...</td>\n",
       "    </tr>\n",
       "    <tr>\n",
       "      <th>2021-03-08</th>\n",
       "      <td>30.389999</td>\n",
       "      <td>29.420000</td>\n",
       "      <td>29.540001</td>\n",
       "      <td>29.990000</td>\n",
       "      <td>55948700.0</td>\n",
       "      <td>29.990000</td>\n",
       "    </tr>\n",
       "    <tr>\n",
       "      <th>2021-03-09</th>\n",
       "      <td>30.139999</td>\n",
       "      <td>29.610001</td>\n",
       "      <td>29.900000</td>\n",
       "      <td>29.639999</td>\n",
       "      <td>47928800.0</td>\n",
       "      <td>29.639999</td>\n",
       "    </tr>\n",
       "    <tr>\n",
       "      <th>2021-03-10</th>\n",
       "      <td>30.160000</td>\n",
       "      <td>29.570000</td>\n",
       "      <td>29.940001</td>\n",
       "      <td>29.990000</td>\n",
       "      <td>43776400.0</td>\n",
       "      <td>29.990000</td>\n",
       "    </tr>\n",
       "    <tr>\n",
       "      <th>2021-03-11</th>\n",
       "      <td>30.000000</td>\n",
       "      <td>29.500000</td>\n",
       "      <td>29.910000</td>\n",
       "      <td>29.540001</td>\n",
       "      <td>36466900.0</td>\n",
       "      <td>29.540001</td>\n",
       "    </tr>\n",
       "    <tr>\n",
       "      <th>2021-03-12</th>\n",
       "      <td>30.870001</td>\n",
       "      <td>29.719999</td>\n",
       "      <td>29.900000</td>\n",
       "      <td>29.809999</td>\n",
       "      <td>70069200.0</td>\n",
       "      <td>29.809999</td>\n",
       "    </tr>\n",
       "  </tbody>\n",
       "</table>\n",
       "<p>2313 rows × 6 columns</p>\n",
       "</div>"
      ],
      "text/plain": [
       "                 High        Low       Open      Close      Volume  Adj Close\n",
       "Date                                                                         \n",
       "2012-01-03  30.540001  30.299999  30.459999  30.379999  33005300.0  18.209600\n",
       "2012-01-04  30.680000  30.350000  30.580000  30.430000  37213900.0  18.239565\n",
       "2012-01-05  30.500000  30.180000  30.490000  30.400000  34457000.0  18.221582\n",
       "2012-01-06  30.090000  29.600000  30.070000  29.680000  45580800.0  18.051296\n",
       "2012-01-09  29.850000  29.500000  29.809999  29.660000  26790100.0  18.039125\n",
       "...               ...        ...        ...        ...         ...        ...\n",
       "2021-03-08  30.389999  29.420000  29.540001  29.990000  55948700.0  29.990000\n",
       "2021-03-09  30.139999  29.610001  29.900000  29.639999  47928800.0  29.639999\n",
       "2021-03-10  30.160000  29.570000  29.940001  29.990000  43776400.0  29.990000\n",
       "2021-03-11  30.000000  29.500000  29.910000  29.540001  36466900.0  29.540001\n",
       "2021-03-12  30.870001  29.719999  29.900000  29.809999  70069200.0  29.809999\n",
       "\n",
       "[2313 rows x 6 columns]"
      ]
     },
     "execution_count": 190,
     "metadata": {},
     "output_type": "execute_result"
    }
   ],
   "source": [
    "T"
   ]
  },
  {
   "cell_type": "code",
   "execution_count": 189,
   "metadata": {},
   "outputs": [],
   "source": [
    "## T company price prediction [[29.029457]]"
   ]
  },
  {
   "cell_type": "code",
   "execution_count": 191,
   "metadata": {},
   "outputs": [
    {
     "data": {
      "text/plain": [
       "array([[124.324196]], dtype=float32)"
      ]
     },
     "execution_count": 191,
     "metadata": {},
     "output_type": "execute_result"
    }
   ],
   "source": [
    "## WMT company\n",
    "WMT =web.DataReader('WMT', data_source='yahoo', start='2012-01-01', end='2021-03-15')\n",
    "new_df = WMT.filter(['Close'])\n",
    "last_60_days= new_df[-60:].values\n",
    "last_60_days_scaled = scaler.transform(last_60_days)\n",
    "X_test = []\n",
    "X_test.append(last_60_days_scaled)\n",
    "X_test = np.array(X_test)\n",
    "X_test = np.reshape(X_test, (X_test.shape[0], X_test.shape[1], 1))\n",
    "pred_price = model.predict(X_test)\n",
    "pred_price = scaler.inverse_transform(pred_price)\n",
    "pred_price"
   ]
  },
  {
   "cell_type": "code",
   "execution_count": 192,
   "metadata": {},
   "outputs": [
    {
     "data": {
      "text/html": [
       "<div>\n",
       "<style scoped>\n",
       "    .dataframe tbody tr th:only-of-type {\n",
       "        vertical-align: middle;\n",
       "    }\n",
       "\n",
       "    .dataframe tbody tr th {\n",
       "        vertical-align: top;\n",
       "    }\n",
       "\n",
       "    .dataframe thead th {\n",
       "        text-align: right;\n",
       "    }\n",
       "</style>\n",
       "<table border=\"1\" class=\"dataframe\">\n",
       "  <thead>\n",
       "    <tr style=\"text-align: right;\">\n",
       "      <th></th>\n",
       "      <th>High</th>\n",
       "      <th>Low</th>\n",
       "      <th>Open</th>\n",
       "      <th>Close</th>\n",
       "      <th>Volume</th>\n",
       "      <th>Adj Close</th>\n",
       "    </tr>\n",
       "    <tr>\n",
       "      <th>Date</th>\n",
       "      <th></th>\n",
       "      <th></th>\n",
       "      <th></th>\n",
       "      <th></th>\n",
       "      <th></th>\n",
       "      <th></th>\n",
       "    </tr>\n",
       "  </thead>\n",
       "  <tbody>\n",
       "    <tr>\n",
       "      <th>2012-01-03</th>\n",
       "      <td>61.060001</td>\n",
       "      <td>59.869999</td>\n",
       "      <td>59.970001</td>\n",
       "      <td>60.330002</td>\n",
       "      <td>12668800.0</td>\n",
       "      <td>48.658283</td>\n",
       "    </tr>\n",
       "    <tr>\n",
       "      <th>2012-01-04</th>\n",
       "      <td>60.349998</td>\n",
       "      <td>59.470001</td>\n",
       "      <td>60.209999</td>\n",
       "      <td>59.709999</td>\n",
       "      <td>9593300.0</td>\n",
       "      <td>48.158211</td>\n",
       "    </tr>\n",
       "    <tr>\n",
       "      <th>2012-01-05</th>\n",
       "      <td>59.619999</td>\n",
       "      <td>58.369999</td>\n",
       "      <td>59.349998</td>\n",
       "      <td>59.419998</td>\n",
       "      <td>12768200.0</td>\n",
       "      <td>47.924316</td>\n",
       "    </tr>\n",
       "    <tr>\n",
       "      <th>2012-01-06</th>\n",
       "      <td>59.450001</td>\n",
       "      <td>58.869999</td>\n",
       "      <td>59.419998</td>\n",
       "      <td>59.000000</td>\n",
       "      <td>8069400.0</td>\n",
       "      <td>47.585571</td>\n",
       "    </tr>\n",
       "    <tr>\n",
       "      <th>2012-01-09</th>\n",
       "      <td>59.549999</td>\n",
       "      <td>58.919998</td>\n",
       "      <td>59.029999</td>\n",
       "      <td>59.180000</td>\n",
       "      <td>6679300.0</td>\n",
       "      <td>47.730751</td>\n",
       "    </tr>\n",
       "    <tr>\n",
       "      <th>...</th>\n",
       "      <td>...</td>\n",
       "      <td>...</td>\n",
       "      <td>...</td>\n",
       "      <td>...</td>\n",
       "      <td>...</td>\n",
       "      <td>...</td>\n",
       "    </tr>\n",
       "    <tr>\n",
       "      <th>2021-03-08</th>\n",
       "      <td>129.839996</td>\n",
       "      <td>127.809998</td>\n",
       "      <td>129.330002</td>\n",
       "      <td>127.879997</td>\n",
       "      <td>13651600.0</td>\n",
       "      <td>127.879997</td>\n",
       "    </tr>\n",
       "    <tr>\n",
       "      <th>2021-03-09</th>\n",
       "      <td>129.880005</td>\n",
       "      <td>128.320007</td>\n",
       "      <td>128.800003</td>\n",
       "      <td>128.889999</td>\n",
       "      <td>10631100.0</td>\n",
       "      <td>128.889999</td>\n",
       "    </tr>\n",
       "    <tr>\n",
       "      <th>2021-03-10</th>\n",
       "      <td>133.050003</td>\n",
       "      <td>128.470001</td>\n",
       "      <td>128.860001</td>\n",
       "      <td>132.179993</td>\n",
       "      <td>14959700.0</td>\n",
       "      <td>132.179993</td>\n",
       "    </tr>\n",
       "    <tr>\n",
       "      <th>2021-03-11</th>\n",
       "      <td>133.490005</td>\n",
       "      <td>131.529999</td>\n",
       "      <td>133.360001</td>\n",
       "      <td>132.130005</td>\n",
       "      <td>11822600.0</td>\n",
       "      <td>132.130005</td>\n",
       "    </tr>\n",
       "    <tr>\n",
       "      <th>2021-03-12</th>\n",
       "      <td>134.520004</td>\n",
       "      <td>132.080002</td>\n",
       "      <td>132.520004</td>\n",
       "      <td>134.119995</td>\n",
       "      <td>9473500.0</td>\n",
       "      <td>134.119995</td>\n",
       "    </tr>\n",
       "  </tbody>\n",
       "</table>\n",
       "<p>2313 rows × 6 columns</p>\n",
       "</div>"
      ],
      "text/plain": [
       "                  High         Low        Open       Close      Volume  \\\n",
       "Date                                                                     \n",
       "2012-01-03   61.060001   59.869999   59.970001   60.330002  12668800.0   \n",
       "2012-01-04   60.349998   59.470001   60.209999   59.709999   9593300.0   \n",
       "2012-01-05   59.619999   58.369999   59.349998   59.419998  12768200.0   \n",
       "2012-01-06   59.450001   58.869999   59.419998   59.000000   8069400.0   \n",
       "2012-01-09   59.549999   58.919998   59.029999   59.180000   6679300.0   \n",
       "...                ...         ...         ...         ...         ...   \n",
       "2021-03-08  129.839996  127.809998  129.330002  127.879997  13651600.0   \n",
       "2021-03-09  129.880005  128.320007  128.800003  128.889999  10631100.0   \n",
       "2021-03-10  133.050003  128.470001  128.860001  132.179993  14959700.0   \n",
       "2021-03-11  133.490005  131.529999  133.360001  132.130005  11822600.0   \n",
       "2021-03-12  134.520004  132.080002  132.520004  134.119995   9473500.0   \n",
       "\n",
       "             Adj Close  \n",
       "Date                    \n",
       "2012-01-03   48.658283  \n",
       "2012-01-04   48.158211  \n",
       "2012-01-05   47.924316  \n",
       "2012-01-06   47.585571  \n",
       "2012-01-09   47.730751  \n",
       "...                ...  \n",
       "2021-03-08  127.879997  \n",
       "2021-03-09  128.889999  \n",
       "2021-03-10  132.179993  \n",
       "2021-03-11  132.130005  \n",
       "2021-03-12  134.119995  \n",
       "\n",
       "[2313 rows x 6 columns]"
      ]
     },
     "execution_count": 192,
     "metadata": {},
     "output_type": "execute_result"
    }
   ],
   "source": [
    "WMT"
   ]
  },
  {
   "cell_type": "code",
   "execution_count": 59,
   "metadata": {},
   "outputs": [],
   "source": [
    "## WMT -- [[124.324196]]"
   ]
  },
  {
   "cell_type": "code",
   "execution_count": 193,
   "metadata": {},
   "outputs": [
    {
     "data": {
      "text/plain": [
       "array([[61.136044]], dtype=float32)"
      ]
     },
     "execution_count": 193,
     "metadata": {},
     "output_type": "execute_result"
    }
   ],
   "source": [
    "XOM =web.DataReader('XOM', data_source='yahoo', start='2012-01-01', end='2021-03-15')\n",
    "new_df = XOM.filter(['Close'])\n",
    "last_60_days= new_df[-60:].values\n",
    "last_60_days_scaled = scaler.transform(last_60_days)\n",
    "X_test = []\n",
    "X_test.append(last_60_days_scaled)\n",
    "X_test = np.array(X_test)\n",
    "X_test = np.reshape(X_test, (X_test.shape[0], X_test.shape[1], 1))\n",
    "pred_price = model.predict(X_test)\n",
    "pred_price = scaler.inverse_transform(pred_price)\n",
    "pred_price"
   ]
  },
  {
   "cell_type": "code",
   "execution_count": 61,
   "metadata": {},
   "outputs": [],
   "source": [
    "##  XOM [[61.136044]]"
   ]
  },
  {
   "cell_type": "code",
   "execution_count": 194,
   "metadata": {},
   "outputs": [
    {
     "data": {
      "text/html": [
       "<div>\n",
       "<style scoped>\n",
       "    .dataframe tbody tr th:only-of-type {\n",
       "        vertical-align: middle;\n",
       "    }\n",
       "\n",
       "    .dataframe tbody tr th {\n",
       "        vertical-align: top;\n",
       "    }\n",
       "\n",
       "    .dataframe thead th {\n",
       "        text-align: right;\n",
       "    }\n",
       "</style>\n",
       "<table border=\"1\" class=\"dataframe\">\n",
       "  <thead>\n",
       "    <tr style=\"text-align: right;\">\n",
       "      <th></th>\n",
       "      <th>High</th>\n",
       "      <th>Low</th>\n",
       "      <th>Open</th>\n",
       "      <th>Close</th>\n",
       "      <th>Volume</th>\n",
       "      <th>Adj Close</th>\n",
       "    </tr>\n",
       "    <tr>\n",
       "      <th>Date</th>\n",
       "      <th></th>\n",
       "      <th></th>\n",
       "      <th></th>\n",
       "      <th></th>\n",
       "      <th></th>\n",
       "      <th></th>\n",
       "    </tr>\n",
       "  </thead>\n",
       "  <tbody>\n",
       "    <tr>\n",
       "      <th>2012-01-03</th>\n",
       "      <td>86.669998</td>\n",
       "      <td>85.900002</td>\n",
       "      <td>85.970001</td>\n",
       "      <td>86.000000</td>\n",
       "      <td>20906800.0</td>\n",
       "      <td>59.593678</td>\n",
       "    </tr>\n",
       "    <tr>\n",
       "      <th>2012-01-04</th>\n",
       "      <td>86.150002</td>\n",
       "      <td>85.099998</td>\n",
       "      <td>85.790001</td>\n",
       "      <td>86.019997</td>\n",
       "      <td>16130900.0</td>\n",
       "      <td>59.607536</td>\n",
       "    </tr>\n",
       "    <tr>\n",
       "      <th>2012-01-05</th>\n",
       "      <td>85.949997</td>\n",
       "      <td>84.919998</td>\n",
       "      <td>85.639999</td>\n",
       "      <td>85.760002</td>\n",
       "      <td>17452800.0</td>\n",
       "      <td>59.427364</td>\n",
       "    </tr>\n",
       "    <tr>\n",
       "      <th>2012-01-06</th>\n",
       "      <td>86.000000</td>\n",
       "      <td>85.110001</td>\n",
       "      <td>85.919998</td>\n",
       "      <td>85.120003</td>\n",
       "      <td>15942100.0</td>\n",
       "      <td>58.983871</td>\n",
       "    </tr>\n",
       "    <tr>\n",
       "      <th>2012-01-09</th>\n",
       "      <td>85.639999</td>\n",
       "      <td>84.970001</td>\n",
       "      <td>85.000000</td>\n",
       "      <td>85.500000</td>\n",
       "      <td>11664200.0</td>\n",
       "      <td>59.247211</td>\n",
       "    </tr>\n",
       "    <tr>\n",
       "      <th>...</th>\n",
       "      <td>...</td>\n",
       "      <td>...</td>\n",
       "      <td>...</td>\n",
       "      <td>...</td>\n",
       "      <td>...</td>\n",
       "      <td>...</td>\n",
       "    </tr>\n",
       "    <tr>\n",
       "      <th>2021-03-08</th>\n",
       "      <td>61.610001</td>\n",
       "      <td>59.820000</td>\n",
       "      <td>61.580002</td>\n",
       "      <td>60.869999</td>\n",
       "      <td>38142300.0</td>\n",
       "      <td>60.869999</td>\n",
       "    </tr>\n",
       "    <tr>\n",
       "      <th>2021-03-09</th>\n",
       "      <td>61.389999</td>\n",
       "      <td>59.470001</td>\n",
       "      <td>60.610001</td>\n",
       "      <td>59.930000</td>\n",
       "      <td>35605200.0</td>\n",
       "      <td>59.930000</td>\n",
       "    </tr>\n",
       "    <tr>\n",
       "      <th>2021-03-10</th>\n",
       "      <td>61.919998</td>\n",
       "      <td>60.029999</td>\n",
       "      <td>60.520000</td>\n",
       "      <td>61.770000</td>\n",
       "      <td>31551900.0</td>\n",
       "      <td>61.770000</td>\n",
       "    </tr>\n",
       "    <tr>\n",
       "      <th>2021-03-11</th>\n",
       "      <td>62.549999</td>\n",
       "      <td>61.259998</td>\n",
       "      <td>61.779999</td>\n",
       "      <td>61.310001</td>\n",
       "      <td>24772800.0</td>\n",
       "      <td>61.310001</td>\n",
       "    </tr>\n",
       "    <tr>\n",
       "      <th>2021-03-12</th>\n",
       "      <td>62.369999</td>\n",
       "      <td>61.500000</td>\n",
       "      <td>61.549999</td>\n",
       "      <td>61.970001</td>\n",
       "      <td>20414700.0</td>\n",
       "      <td>61.970001</td>\n",
       "    </tr>\n",
       "  </tbody>\n",
       "</table>\n",
       "<p>2313 rows × 6 columns</p>\n",
       "</div>"
      ],
      "text/plain": [
       "                 High        Low       Open      Close      Volume  Adj Close\n",
       "Date                                                                         \n",
       "2012-01-03  86.669998  85.900002  85.970001  86.000000  20906800.0  59.593678\n",
       "2012-01-04  86.150002  85.099998  85.790001  86.019997  16130900.0  59.607536\n",
       "2012-01-05  85.949997  84.919998  85.639999  85.760002  17452800.0  59.427364\n",
       "2012-01-06  86.000000  85.110001  85.919998  85.120003  15942100.0  58.983871\n",
       "2012-01-09  85.639999  84.970001  85.000000  85.500000  11664200.0  59.247211\n",
       "...               ...        ...        ...        ...         ...        ...\n",
       "2021-03-08  61.610001  59.820000  61.580002  60.869999  38142300.0  60.869999\n",
       "2021-03-09  61.389999  59.470001  60.610001  59.930000  35605200.0  59.930000\n",
       "2021-03-10  61.919998  60.029999  60.520000  61.770000  31551900.0  61.770000\n",
       "2021-03-11  62.549999  61.259998  61.779999  61.310001  24772800.0  61.310001\n",
       "2021-03-12  62.369999  61.500000  61.549999  61.970001  20414700.0  61.970001\n",
       "\n",
       "[2313 rows x 6 columns]"
      ]
     },
     "execution_count": 194,
     "metadata": {},
     "output_type": "execute_result"
    }
   ],
   "source": [
    "XOM"
   ]
  },
  {
   "cell_type": "code",
   "execution_count": null,
   "metadata": {},
   "outputs": [],
   "source": []
  }
 ],
 "metadata": {
  "kernelspec": {
   "display_name": "Python 3",
   "language": "python",
   "name": "python3"
  },
  "language_info": {
   "codemirror_mode": {
    "name": "ipython",
    "version": 3
   },
   "file_extension": ".py",
   "mimetype": "text/x-python",
   "name": "python",
   "nbconvert_exporter": "python",
   "pygments_lexer": "ipython3",
   "version": "3.8.3"
  }
 },
 "nbformat": 4,
 "nbformat_minor": 4
}
